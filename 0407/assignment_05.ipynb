{
 "cells": [
  {
   "cell_type": "markdown",
   "metadata": {},
   "source": [
    "# Least square problem for polynomial regression "
   ]
  },
  {
   "cell_type": "markdown",
   "metadata": {},
   "source": [
    "## import library"
   ]
  },
  {
   "cell_type": "code",
   "execution_count": 2,
   "metadata": {},
   "outputs": [],
   "source": [
    "import numpy as np\n",
    "import matplotlib.image as img\n",
    "import matplotlib.pyplot as plt\n",
    "import matplotlib.colors as colors"
   ]
  },
  {
   "cell_type": "markdown",
   "metadata": {},
   "source": [
    "## load data points\n",
    "- $\\{ (x_i, y_i) \\}_{i=1}^n$"
   ]
  },
  {
   "cell_type": "code",
   "execution_count": 4,
   "metadata": {},
   "outputs": [
    {
     "output_type": "display_data",
     "data": {
      "text/plain": "<Figure size 1152x432 with 2 Axes>",
      "image/svg+xml": "<?xml version=\"1.0\" encoding=\"utf-8\" standalone=\"no\"?>\n<!DOCTYPE svg PUBLIC \"-//W3C//DTD SVG 1.1//EN\"\n  \"http://www.w3.org/Graphics/SVG/1.1/DTD/svg11.dtd\">\n<svg xmlns:xlink=\"http://www.w3.org/1999/xlink\" width=\"1144.820312pt\" height=\"423.59625pt\" viewBox=\"0 0 1144.820312 423.59625\" xmlns=\"http://www.w3.org/2000/svg\" version=\"1.1\">\n <metadata>\n  <rdf:RDF xmlns:dc=\"http://purl.org/dc/elements/1.1/\" xmlns:cc=\"http://creativecommons.org/ns#\" xmlns:rdf=\"http://www.w3.org/1999/02/22-rdf-syntax-ns#\">\n   <cc:Work>\n    <dc:type rdf:resource=\"http://purl.org/dc/dcmitype/StillImage\"/>\n    <dc:date>2022-04-07T03:14:19.697767</dc:date>\n    <dc:format>image/svg+xml</dc:format>\n    <dc:creator>\n     <cc:Agent>\n      <dc:title>Matplotlib v3.5.1, https://matplotlib.org/</dc:title>\n     </cc:Agent>\n    </dc:creator>\n   </cc:Work>\n  </rdf:RDF>\n </metadata>\n <defs>\n  <style type=\"text/css\">*{stroke-linejoin: round; stroke-linecap: butt}</style>\n </defs>\n <g id=\"figure_1\">\n  <g id=\"patch_1\">\n   <path d=\"M 0 423.59625 \nL 1144.820312 423.59625 \nL 1144.820312 0 \nL 0 0 \nL 0 423.59625 \nz\n\" style=\"fill: none\"/>\n  </g>\n  <g id=\"axes_1\">\n   <g id=\"patch_2\">\n    <path d=\"M 44.845313 399.718125 \nL 567.020313 399.718125 \nL 567.020313 22.318125 \nL 44.845313 22.318125 \nz\n\" style=\"fill: #ffffff\"/>\n   </g>\n   <g id=\"matplotlib.axis_1\">\n    <g id=\"xtick_1\">\n     <g id=\"line2d_1\">\n      <defs>\n       <path id=\"md5c2b0f1ff\" d=\"M 0 0 \nL 0 3.5 \n\" style=\"stroke: #000000; stroke-width: 0.8\"/>\n      </defs>\n      <g>\n       <use xlink:href=\"#md5c2b0f1ff\" x=\"68.58054\" y=\"399.718125\" style=\"stroke: #000000; stroke-width: 0.8\"/>\n      </g>\n     </g>\n     <g id=\"text_1\">\n      <!-- −10.0 -->\n      <g transform=\"translate(53.257884 414.316562)scale(0.1 -0.1)\">\n       <defs>\n        <path id=\"DejaVuSans-2212\" d=\"M 678 2272 \nL 4684 2272 \nL 4684 1741 \nL 678 1741 \nL 678 2272 \nz\n\" transform=\"scale(0.015625)\"/>\n        <path id=\"DejaVuSans-31\" d=\"M 794 531 \nL 1825 531 \nL 1825 4091 \nL 703 3866 \nL 703 4441 \nL 1819 4666 \nL 2450 4666 \nL 2450 531 \nL 3481 531 \nL 3481 0 \nL 794 0 \nL 794 531 \nz\n\" transform=\"scale(0.015625)\"/>\n        <path id=\"DejaVuSans-30\" d=\"M 2034 4250 \nQ 1547 4250 1301 3770 \nQ 1056 3291 1056 2328 \nQ 1056 1369 1301 889 \nQ 1547 409 2034 409 \nQ 2525 409 2770 889 \nQ 3016 1369 3016 2328 \nQ 3016 3291 2770 3770 \nQ 2525 4250 2034 4250 \nz\nM 2034 4750 \nQ 2819 4750 3233 4129 \nQ 3647 3509 3647 2328 \nQ 3647 1150 3233 529 \nQ 2819 -91 2034 -91 \nQ 1250 -91 836 529 \nQ 422 1150 422 2328 \nQ 422 3509 836 4129 \nQ 1250 4750 2034 4750 \nz\n\" transform=\"scale(0.015625)\"/>\n        <path id=\"DejaVuSans-2e\" d=\"M 684 794 \nL 1344 794 \nL 1344 0 \nL 684 0 \nL 684 794 \nz\n\" transform=\"scale(0.015625)\"/>\n       </defs>\n       <use xlink:href=\"#DejaVuSans-2212\"/>\n       <use xlink:href=\"#DejaVuSans-31\" x=\"83.789062\"/>\n       <use xlink:href=\"#DejaVuSans-30\" x=\"147.412109\"/>\n       <use xlink:href=\"#DejaVuSans-2e\" x=\"211.035156\"/>\n       <use xlink:href=\"#DejaVuSans-30\" x=\"242.822266\"/>\n      </g>\n     </g>\n    </g>\n    <g id=\"xtick_2\">\n     <g id=\"line2d_2\">\n      <g>\n       <use xlink:href=\"#md5c2b0f1ff\" x=\"127.918608\" y=\"399.718125\" style=\"stroke: #000000; stroke-width: 0.8\"/>\n      </g>\n     </g>\n     <g id=\"text_2\">\n      <!-- −7.5 -->\n      <g transform=\"translate(115.777202 414.316562)scale(0.1 -0.1)\">\n       <defs>\n        <path id=\"DejaVuSans-37\" d=\"M 525 4666 \nL 3525 4666 \nL 3525 4397 \nL 1831 0 \nL 1172 0 \nL 2766 4134 \nL 525 4134 \nL 525 4666 \nz\n\" transform=\"scale(0.015625)\"/>\n        <path id=\"DejaVuSans-35\" d=\"M 691 4666 \nL 3169 4666 \nL 3169 4134 \nL 1269 4134 \nL 1269 2991 \nQ 1406 3038 1543 3061 \nQ 1681 3084 1819 3084 \nQ 2600 3084 3056 2656 \nQ 3513 2228 3513 1497 \nQ 3513 744 3044 326 \nQ 2575 -91 1722 -91 \nQ 1428 -91 1123 -41 \nQ 819 9 494 109 \nL 494 744 \nQ 775 591 1075 516 \nQ 1375 441 1709 441 \nQ 2250 441 2565 725 \nQ 2881 1009 2881 1497 \nQ 2881 1984 2565 2268 \nQ 2250 2553 1709 2553 \nQ 1456 2553 1204 2497 \nQ 953 2441 691 2322 \nL 691 4666 \nz\n\" transform=\"scale(0.015625)\"/>\n       </defs>\n       <use xlink:href=\"#DejaVuSans-2212\"/>\n       <use xlink:href=\"#DejaVuSans-37\" x=\"83.789062\"/>\n       <use xlink:href=\"#DejaVuSans-2e\" x=\"147.412109\"/>\n       <use xlink:href=\"#DejaVuSans-35\" x=\"179.199219\"/>\n      </g>\n     </g>\n    </g>\n    <g id=\"xtick_3\">\n     <g id=\"line2d_3\">\n      <g>\n       <use xlink:href=\"#md5c2b0f1ff\" x=\"187.256676\" y=\"399.718125\" style=\"stroke: #000000; stroke-width: 0.8\"/>\n      </g>\n     </g>\n     <g id=\"text_3\">\n      <!-- −5.0 -->\n      <g transform=\"translate(175.11527 414.316562)scale(0.1 -0.1)\">\n       <use xlink:href=\"#DejaVuSans-2212\"/>\n       <use xlink:href=\"#DejaVuSans-35\" x=\"83.789062\"/>\n       <use xlink:href=\"#DejaVuSans-2e\" x=\"147.412109\"/>\n       <use xlink:href=\"#DejaVuSans-30\" x=\"179.199219\"/>\n      </g>\n     </g>\n    </g>\n    <g id=\"xtick_4\">\n     <g id=\"line2d_4\">\n      <g>\n       <use xlink:href=\"#md5c2b0f1ff\" x=\"246.594744\" y=\"399.718125\" style=\"stroke: #000000; stroke-width: 0.8\"/>\n      </g>\n     </g>\n     <g id=\"text_4\">\n      <!-- −2.5 -->\n      <g transform=\"translate(234.453338 414.316562)scale(0.1 -0.1)\">\n       <defs>\n        <path id=\"DejaVuSans-32\" d=\"M 1228 531 \nL 3431 531 \nL 3431 0 \nL 469 0 \nL 469 531 \nQ 828 903 1448 1529 \nQ 2069 2156 2228 2338 \nQ 2531 2678 2651 2914 \nQ 2772 3150 2772 3378 \nQ 2772 3750 2511 3984 \nQ 2250 4219 1831 4219 \nQ 1534 4219 1204 4116 \nQ 875 4013 500 3803 \nL 500 4441 \nQ 881 4594 1212 4672 \nQ 1544 4750 1819 4750 \nQ 2544 4750 2975 4387 \nQ 3406 4025 3406 3419 \nQ 3406 3131 3298 2873 \nQ 3191 2616 2906 2266 \nQ 2828 2175 2409 1742 \nQ 1991 1309 1228 531 \nz\n\" transform=\"scale(0.015625)\"/>\n       </defs>\n       <use xlink:href=\"#DejaVuSans-2212\"/>\n       <use xlink:href=\"#DejaVuSans-32\" x=\"83.789062\"/>\n       <use xlink:href=\"#DejaVuSans-2e\" x=\"147.412109\"/>\n       <use xlink:href=\"#DejaVuSans-35\" x=\"179.199219\"/>\n      </g>\n     </g>\n    </g>\n    <g id=\"xtick_5\">\n     <g id=\"line2d_5\">\n      <g>\n       <use xlink:href=\"#md5c2b0f1ff\" x=\"305.932813\" y=\"399.718125\" style=\"stroke: #000000; stroke-width: 0.8\"/>\n      </g>\n     </g>\n     <g id=\"text_5\">\n      <!-- 0.0 -->\n      <g transform=\"translate(297.98125 414.316562)scale(0.1 -0.1)\">\n       <use xlink:href=\"#DejaVuSans-30\"/>\n       <use xlink:href=\"#DejaVuSans-2e\" x=\"63.623047\"/>\n       <use xlink:href=\"#DejaVuSans-30\" x=\"95.410156\"/>\n      </g>\n     </g>\n    </g>\n    <g id=\"xtick_6\">\n     <g id=\"line2d_6\">\n      <g>\n       <use xlink:href=\"#md5c2b0f1ff\" x=\"365.270881\" y=\"399.718125\" style=\"stroke: #000000; stroke-width: 0.8\"/>\n      </g>\n     </g>\n     <g id=\"text_6\">\n      <!-- 2.5 -->\n      <g transform=\"translate(357.319318 414.316562)scale(0.1 -0.1)\">\n       <use xlink:href=\"#DejaVuSans-32\"/>\n       <use xlink:href=\"#DejaVuSans-2e\" x=\"63.623047\"/>\n       <use xlink:href=\"#DejaVuSans-35\" x=\"95.410156\"/>\n      </g>\n     </g>\n    </g>\n    <g id=\"xtick_7\">\n     <g id=\"line2d_7\">\n      <g>\n       <use xlink:href=\"#md5c2b0f1ff\" x=\"424.608949\" y=\"399.718125\" style=\"stroke: #000000; stroke-width: 0.8\"/>\n      </g>\n     </g>\n     <g id=\"text_7\">\n      <!-- 5.0 -->\n      <g transform=\"translate(416.657386 414.316562)scale(0.1 -0.1)\">\n       <use xlink:href=\"#DejaVuSans-35\"/>\n       <use xlink:href=\"#DejaVuSans-2e\" x=\"63.623047\"/>\n       <use xlink:href=\"#DejaVuSans-30\" x=\"95.410156\"/>\n      </g>\n     </g>\n    </g>\n    <g id=\"xtick_8\">\n     <g id=\"line2d_8\">\n      <g>\n       <use xlink:href=\"#md5c2b0f1ff\" x=\"483.947017\" y=\"399.718125\" style=\"stroke: #000000; stroke-width: 0.8\"/>\n      </g>\n     </g>\n     <g id=\"text_8\">\n      <!-- 7.5 -->\n      <g transform=\"translate(475.995455 414.316562)scale(0.1 -0.1)\">\n       <use xlink:href=\"#DejaVuSans-37\"/>\n       <use xlink:href=\"#DejaVuSans-2e\" x=\"63.623047\"/>\n       <use xlink:href=\"#DejaVuSans-35\" x=\"95.410156\"/>\n      </g>\n     </g>\n    </g>\n    <g id=\"xtick_9\">\n     <g id=\"line2d_9\">\n      <g>\n       <use xlink:href=\"#md5c2b0f1ff\" x=\"543.285085\" y=\"399.718125\" style=\"stroke: #000000; stroke-width: 0.8\"/>\n      </g>\n     </g>\n     <g id=\"text_9\">\n      <!-- 10.0 -->\n      <g transform=\"translate(532.152273 414.316562)scale(0.1 -0.1)\">\n       <use xlink:href=\"#DejaVuSans-31\"/>\n       <use xlink:href=\"#DejaVuSans-30\" x=\"63.623047\"/>\n       <use xlink:href=\"#DejaVuSans-2e\" x=\"127.246094\"/>\n       <use xlink:href=\"#DejaVuSans-30\" x=\"159.033203\"/>\n      </g>\n     </g>\n    </g>\n   </g>\n   <g id=\"matplotlib.axis_2\">\n    <g id=\"ytick_1\">\n     <g id=\"line2d_10\">\n      <defs>\n       <path id=\"m9d2df53474\" d=\"M 0 0 \nL -3.5 0 \n\" style=\"stroke: #000000; stroke-width: 0.8\"/>\n      </defs>\n      <g>\n       <use xlink:href=\"#m9d2df53474\" x=\"44.845313\" y=\"384.092344\" style=\"stroke: #000000; stroke-width: 0.8\"/>\n      </g>\n     </g>\n     <g id=\"text_10\">\n      <!-- −0.50 -->\n      <g transform=\"translate(7.2 387.891563)scale(0.1 -0.1)\">\n       <use xlink:href=\"#DejaVuSans-2212\"/>\n       <use xlink:href=\"#DejaVuSans-30\" x=\"83.789062\"/>\n       <use xlink:href=\"#DejaVuSans-2e\" x=\"147.412109\"/>\n       <use xlink:href=\"#DejaVuSans-35\" x=\"179.199219\"/>\n       <use xlink:href=\"#DejaVuSans-30\" x=\"242.822266\"/>\n      </g>\n     </g>\n    </g>\n    <g id=\"ytick_2\">\n     <g id=\"line2d_11\">\n      <g>\n       <use xlink:href=\"#m9d2df53474\" x=\"44.845313\" y=\"340.823789\" style=\"stroke: #000000; stroke-width: 0.8\"/>\n      </g>\n     </g>\n     <g id=\"text_11\">\n      <!-- −0.25 -->\n      <g transform=\"translate(7.2 344.623008)scale(0.1 -0.1)\">\n       <use xlink:href=\"#DejaVuSans-2212\"/>\n       <use xlink:href=\"#DejaVuSans-30\" x=\"83.789062\"/>\n       <use xlink:href=\"#DejaVuSans-2e\" x=\"147.412109\"/>\n       <use xlink:href=\"#DejaVuSans-32\" x=\"179.199219\"/>\n       <use xlink:href=\"#DejaVuSans-35\" x=\"242.822266\"/>\n      </g>\n     </g>\n    </g>\n    <g id=\"ytick_3\">\n     <g id=\"line2d_12\">\n      <g>\n       <use xlink:href=\"#m9d2df53474\" x=\"44.845313\" y=\"297.555235\" style=\"stroke: #000000; stroke-width: 0.8\"/>\n      </g>\n     </g>\n     <g id=\"text_12\">\n      <!-- 0.00 -->\n      <g transform=\"translate(15.579688 301.354453)scale(0.1 -0.1)\">\n       <use xlink:href=\"#DejaVuSans-30\"/>\n       <use xlink:href=\"#DejaVuSans-2e\" x=\"63.623047\"/>\n       <use xlink:href=\"#DejaVuSans-30\" x=\"95.410156\"/>\n       <use xlink:href=\"#DejaVuSans-30\" x=\"159.033203\"/>\n      </g>\n     </g>\n    </g>\n    <g id=\"ytick_4\">\n     <g id=\"line2d_13\">\n      <g>\n       <use xlink:href=\"#m9d2df53474\" x=\"44.845313\" y=\"254.28668\" style=\"stroke: #000000; stroke-width: 0.8\"/>\n      </g>\n     </g>\n     <g id=\"text_13\">\n      <!-- 0.25 -->\n      <g transform=\"translate(15.579688 258.085899)scale(0.1 -0.1)\">\n       <use xlink:href=\"#DejaVuSans-30\"/>\n       <use xlink:href=\"#DejaVuSans-2e\" x=\"63.623047\"/>\n       <use xlink:href=\"#DejaVuSans-32\" x=\"95.410156\"/>\n       <use xlink:href=\"#DejaVuSans-35\" x=\"159.033203\"/>\n      </g>\n     </g>\n    </g>\n    <g id=\"ytick_5\">\n     <g id=\"line2d_14\">\n      <g>\n       <use xlink:href=\"#m9d2df53474\" x=\"44.845313\" y=\"211.018125\" style=\"stroke: #000000; stroke-width: 0.8\"/>\n      </g>\n     </g>\n     <g id=\"text_14\">\n      <!-- 0.50 -->\n      <g transform=\"translate(15.579688 214.817344)scale(0.1 -0.1)\">\n       <use xlink:href=\"#DejaVuSans-30\"/>\n       <use xlink:href=\"#DejaVuSans-2e\" x=\"63.623047\"/>\n       <use xlink:href=\"#DejaVuSans-35\" x=\"95.410156\"/>\n       <use xlink:href=\"#DejaVuSans-30\" x=\"159.033203\"/>\n      </g>\n     </g>\n    </g>\n    <g id=\"ytick_6\">\n     <g id=\"line2d_15\">\n      <g>\n       <use xlink:href=\"#m9d2df53474\" x=\"44.845313\" y=\"167.74957\" style=\"stroke: #000000; stroke-width: 0.8\"/>\n      </g>\n     </g>\n     <g id=\"text_15\">\n      <!-- 0.75 -->\n      <g transform=\"translate(15.579688 171.548789)scale(0.1 -0.1)\">\n       <use xlink:href=\"#DejaVuSans-30\"/>\n       <use xlink:href=\"#DejaVuSans-2e\" x=\"63.623047\"/>\n       <use xlink:href=\"#DejaVuSans-37\" x=\"95.410156\"/>\n       <use xlink:href=\"#DejaVuSans-35\" x=\"159.033203\"/>\n      </g>\n     </g>\n    </g>\n    <g id=\"ytick_7\">\n     <g id=\"line2d_16\">\n      <g>\n       <use xlink:href=\"#m9d2df53474\" x=\"44.845313\" y=\"124.481015\" style=\"stroke: #000000; stroke-width: 0.8\"/>\n      </g>\n     </g>\n     <g id=\"text_16\">\n      <!-- 1.00 -->\n      <g transform=\"translate(15.579688 128.280234)scale(0.1 -0.1)\">\n       <use xlink:href=\"#DejaVuSans-31\"/>\n       <use xlink:href=\"#DejaVuSans-2e\" x=\"63.623047\"/>\n       <use xlink:href=\"#DejaVuSans-30\" x=\"95.410156\"/>\n       <use xlink:href=\"#DejaVuSans-30\" x=\"159.033203\"/>\n      </g>\n     </g>\n    </g>\n    <g id=\"ytick_8\">\n     <g id=\"line2d_17\">\n      <g>\n       <use xlink:href=\"#m9d2df53474\" x=\"44.845313\" y=\"81.212461\" style=\"stroke: #000000; stroke-width: 0.8\"/>\n      </g>\n     </g>\n     <g id=\"text_17\">\n      <!-- 1.25 -->\n      <g transform=\"translate(15.579688 85.011679)scale(0.1 -0.1)\">\n       <use xlink:href=\"#DejaVuSans-31\"/>\n       <use xlink:href=\"#DejaVuSans-2e\" x=\"63.623047\"/>\n       <use xlink:href=\"#DejaVuSans-32\" x=\"95.410156\"/>\n       <use xlink:href=\"#DejaVuSans-35\" x=\"159.033203\"/>\n      </g>\n     </g>\n    </g>\n    <g id=\"ytick_9\">\n     <g id=\"line2d_18\">\n      <g>\n       <use xlink:href=\"#m9d2df53474\" x=\"44.845313\" y=\"37.943906\" style=\"stroke: #000000; stroke-width: 0.8\"/>\n      </g>\n     </g>\n     <g id=\"text_18\">\n      <!-- 1.50 -->\n      <g transform=\"translate(15.579688 41.743125)scale(0.1 -0.1)\">\n       <use xlink:href=\"#DejaVuSans-31\"/>\n       <use xlink:href=\"#DejaVuSans-2e\" x=\"63.623047\"/>\n       <use xlink:href=\"#DejaVuSans-35\" x=\"95.410156\"/>\n       <use xlink:href=\"#DejaVuSans-30\" x=\"159.033203\"/>\n      </g>\n     </g>\n    </g>\n   </g>\n   <g id=\"line2d_19\">\n    <path d=\"M 68.58054 77.410885 \nL 71.431615 86.45211 \nL 75.233049 99.336447 \nL 79.984842 116.307239 \nL 89.96363 152.188121 \nL 93.765064 164.912191 \nL 96.616139 173.793841 \nL 99.467215 181.96554 \nL 101.843111 188.147752 \nL 104.219031 193.693223 \nL 106.119748 197.633603 \nL 108.020465 201.105472 \nL 109.921182 204.087022 \nL 111.34672 205.989454 \nL 112.772257 207.598352 \nL 114.197795 208.908004 \nL 115.623333 209.913392 \nL 117.048871 210.611228 \nL 118.474408 210.998914 \nL 119.899946 211.075066 \nL 121.325484 210.839512 \nL 122.751022 210.292944 \nL 124.176559 209.437438 \nL 125.602097 208.276283 \nL 127.027635 206.81346 \nL 128.453196 205.054507 \nL 129.878734 203.005654 \nL 131.779451 199.835973 \nL 133.680168 196.184799 \nL 135.580885 192.075498 \nL 137.956781 186.335491 \nL 140.332678 179.979168 \nL 143.183753 171.628337 \nL 146.034829 162.603208 \nL 149.836263 149.748294 \nL 155.063258 131.107335 \nL 164.091664 98.750591 \nL 167.893098 86.00679 \nL 171.219353 75.674778 \nL 174.070428 67.59152 \nL 176.446348 61.491692 \nL 178.822244 56.037085 \nL 180.722961 52.175972 \nL 182.623678 48.789602 \nL 184.524395 45.900301 \nL 185.949933 44.071599 \nL 187.375471 42.540757 \nL 188.801009 41.313661 \nL 190.226546 40.395329 \nL 191.652084 39.789569 \nL 193.077622 39.499151 \nL 194.50316 39.525631 \nL 195.928697 39.869703 \nL 197.354235 40.530673 \nL 198.779773 41.506985 \nL 200.205334 42.795869 \nL 201.630872 44.393344 \nL 203.05641 46.294564 \nL 204.957127 49.291517 \nL 206.857844 52.800943 \nL 208.758561 56.802592 \nL 210.659278 61.273618 \nL 213.035174 67.482829 \nL 215.41107 74.328434 \nL 218.262146 83.295755 \nL 221.588401 94.647001 \nL 225.389858 108.545726 \nL 230.141651 126.840709 \nL 242.021132 173.009815 \nL 245.822566 186.72837 \nL 249.148845 197.913118 \nL 251.99992 206.758942 \nL 254.850996 214.824027 \nL 257.226892 220.892355 \nL 259.602788 226.327924 \nL 261.503505 230.200633 \nL 263.404222 233.637714 \nL 265.304939 236.630686 \nL 267.205656 239.174185 \nL 269.106373 241.266306 \nL 270.531935 242.53944 \nL 271.957472 243.560924 \nL 273.38301 244.333008 \nL 274.808548 244.859154 \nL 276.234086 245.143688 \nL 277.659623 245.191803 \nL 279.085161 245.009902 \nL 280.510699 244.604389 \nL 281.936237 243.983052 \nL 283.361774 243.1542 \nL 285.262491 241.741914 \nL 287.163208 240.000095 \nL 289.063925 237.95332 \nL 291.439822 235.006904 \nL 293.815718 231.680591 \nL 296.666817 227.269448 \nL 299.993072 221.676901 \nL 304.744864 213.182418 \nL 312.347732 199.536901 \nL 315.673987 194.003718 \nL 318.525086 189.66267 \nL 320.900983 186.407836 \nL 323.276879 183.54415 \nL 325.177596 181.571104 \nL 327.078313 179.909419 \nL 328.97903 178.583324 \nL 330.404568 177.822663 \nL 331.830105 177.27246 \nL 333.255643 176.940504 \nL 334.681181 176.834582 \nL 336.106719 176.960926 \nL 337.532256 177.325421 \nL 338.957794 177.933084 \nL 340.383332 178.787898 \nL 341.808893 179.89315 \nL 343.234431 181.250744 \nL 344.659969 182.862065 \nL 346.560686 185.405564 \nL 348.461403 188.398536 \nL 350.36212 191.835617 \nL 352.262837 195.708326 \nL 354.638733 201.143895 \nL 357.014629 207.212223 \nL 359.390526 213.876619 \nL 362.241601 222.598348 \nL 365.092677 232.025701 \nL 368.418955 243.780729 \nL 372.695568 259.811209 \nL 379.348078 285.849706 \nL 386.000587 311.698341 \nL 389.802045 325.700218 \nL 393.1283 337.173481 \nL 395.979375 346.267666 \nL 398.355272 353.233384 \nL 400.731168 359.574477 \nL 403.107064 365.233658 \nL 405.007781 369.235307 \nL 406.908498 372.744733 \nL 408.809215 375.741686 \nL 410.234753 377.642906 \nL 411.660291 379.240381 \nL 413.085852 380.529265 \nL 414.51139 381.505577 \nL 415.936928 382.166547 \nL 417.362465 382.510619 \nL 418.788003 382.537099 \nL 420.213541 382.246681 \nL 421.639079 381.640921 \nL 423.064616 380.722589 \nL 424.490154 379.495493 \nL 425.915692 377.964651 \nL 427.34123 376.135949 \nL 429.241947 373.246648 \nL 431.142664 369.860278 \nL 433.043381 365.999165 \nL 434.944098 361.688925 \nL 437.320018 355.713364 \nL 439.695914 349.141909 \nL 442.546989 340.564524 \nL 445.873244 329.763828 \nL 449.674678 316.637186 \nL 455.852008 294.376553 \nL 462.504542 270.639424 \nL 466.305976 257.887489 \nL 469.63223 247.543189 \nL 472.483306 239.444527 \nL 474.859202 233.327392 \nL 477.235098 227.850458 \nL 479.135815 223.967019 \nL 481.036532 220.553822 \nL 482.937249 217.632849 \nL 484.362811 215.776455 \nL 485.788349 214.214287 \nL 487.213886 212.952056 \nL 488.639424 211.994264 \nL 490.064962 211.344543 \nL 491.4905 211.005144 \nL 492.916037 210.977279 \nL 494.341575 211.261121 \nL 495.767113 211.855804 \nL 497.192651 212.759079 \nL 498.618188 213.967829 \nL 500.043726 215.477555 \nL 501.469264 217.282893 \nL 503.369981 220.138617 \nL 505.270698 223.489853 \nL 507.171415 227.315313 \nL 509.072155 231.590592 \nL 511.448052 237.525134 \nL 513.823948 244.060243 \nL 516.675023 252.602148 \nL 520.001278 263.376711 \nL 523.802712 276.496948 \nL 529.980042 298.810196 \nL 536.632576 322.699803 \nL 540.43401 335.58414 \nL 543.285085 344.625365 \nL 543.285085 344.625365 \n\" clip-path=\"url(#p9dd7978b4b)\" style=\"fill: none; stroke: #0000ff; stroke-width: 1.5; stroke-linecap: square\"/>\n   </g>\n   <g id=\"patch_3\">\n    <path d=\"M 44.845313 399.718125 \nL 44.845313 22.318125 \n\" style=\"fill: none; stroke: #000000; stroke-width: 0.8; stroke-linejoin: miter; stroke-linecap: square\"/>\n   </g>\n   <g id=\"patch_4\">\n    <path d=\"M 567.020313 399.718125 \nL 567.020313 22.318125 \n\" style=\"fill: none; stroke: #000000; stroke-width: 0.8; stroke-linejoin: miter; stroke-linecap: square\"/>\n   </g>\n   <g id=\"patch_5\">\n    <path d=\"M 44.845313 399.718125 \nL 567.020313 399.718125 \n\" style=\"fill: none; stroke: #000000; stroke-width: 0.8; stroke-linejoin: miter; stroke-linecap: square\"/>\n   </g>\n   <g id=\"patch_6\">\n    <path d=\"M 44.845313 22.318125 \nL 567.020313 22.318125 \n\" style=\"fill: none; stroke: #000000; stroke-width: 0.8; stroke-linejoin: miter; stroke-linecap: square\"/>\n   </g>\n   <g id=\"text_19\">\n    <!-- data points -->\n    <g transform=\"translate(272.083438 16.318125)scale(0.12 -0.12)\">\n     <defs>\n      <path id=\"DejaVuSans-64\" d=\"M 2906 2969 \nL 2906 4863 \nL 3481 4863 \nL 3481 0 \nL 2906 0 \nL 2906 525 \nQ 2725 213 2448 61 \nQ 2172 -91 1784 -91 \nQ 1150 -91 751 415 \nQ 353 922 353 1747 \nQ 353 2572 751 3078 \nQ 1150 3584 1784 3584 \nQ 2172 3584 2448 3432 \nQ 2725 3281 2906 2969 \nz\nM 947 1747 \nQ 947 1113 1208 752 \nQ 1469 391 1925 391 \nQ 2381 391 2643 752 \nQ 2906 1113 2906 1747 \nQ 2906 2381 2643 2742 \nQ 2381 3103 1925 3103 \nQ 1469 3103 1208 2742 \nQ 947 2381 947 1747 \nz\n\" transform=\"scale(0.015625)\"/>\n      <path id=\"DejaVuSans-61\" d=\"M 2194 1759 \nQ 1497 1759 1228 1600 \nQ 959 1441 959 1056 \nQ 959 750 1161 570 \nQ 1363 391 1709 391 \nQ 2188 391 2477 730 \nQ 2766 1069 2766 1631 \nL 2766 1759 \nL 2194 1759 \nz\nM 3341 1997 \nL 3341 0 \nL 2766 0 \nL 2766 531 \nQ 2569 213 2275 61 \nQ 1981 -91 1556 -91 \nQ 1019 -91 701 211 \nQ 384 513 384 1019 \nQ 384 1609 779 1909 \nQ 1175 2209 1959 2209 \nL 2766 2209 \nL 2766 2266 \nQ 2766 2663 2505 2880 \nQ 2244 3097 1772 3097 \nQ 1472 3097 1187 3025 \nQ 903 2953 641 2809 \nL 641 3341 \nQ 956 3463 1253 3523 \nQ 1550 3584 1831 3584 \nQ 2591 3584 2966 3190 \nQ 3341 2797 3341 1997 \nz\n\" transform=\"scale(0.015625)\"/>\n      <path id=\"DejaVuSans-74\" d=\"M 1172 4494 \nL 1172 3500 \nL 2356 3500 \nL 2356 3053 \nL 1172 3053 \nL 1172 1153 \nQ 1172 725 1289 603 \nQ 1406 481 1766 481 \nL 2356 481 \nL 2356 0 \nL 1766 0 \nQ 1100 0 847 248 \nQ 594 497 594 1153 \nL 594 3053 \nL 172 3053 \nL 172 3500 \nL 594 3500 \nL 594 4494 \nL 1172 4494 \nz\n\" transform=\"scale(0.015625)\"/>\n      <path id=\"DejaVuSans-20\" transform=\"scale(0.015625)\"/>\n      <path id=\"DejaVuSans-70\" d=\"M 1159 525 \nL 1159 -1331 \nL 581 -1331 \nL 581 3500 \nL 1159 3500 \nL 1159 2969 \nQ 1341 3281 1617 3432 \nQ 1894 3584 2278 3584 \nQ 2916 3584 3314 3078 \nQ 3713 2572 3713 1747 \nQ 3713 922 3314 415 \nQ 2916 -91 2278 -91 \nQ 1894 -91 1617 61 \nQ 1341 213 1159 525 \nz\nM 3116 1747 \nQ 3116 2381 2855 2742 \nQ 2594 3103 2138 3103 \nQ 1681 3103 1420 2742 \nQ 1159 2381 1159 1747 \nQ 1159 1113 1420 752 \nQ 1681 391 2138 391 \nQ 2594 391 2855 752 \nQ 3116 1113 3116 1747 \nz\n\" transform=\"scale(0.015625)\"/>\n      <path id=\"DejaVuSans-6f\" d=\"M 1959 3097 \nQ 1497 3097 1228 2736 \nQ 959 2375 959 1747 \nQ 959 1119 1226 758 \nQ 1494 397 1959 397 \nQ 2419 397 2687 759 \nQ 2956 1122 2956 1747 \nQ 2956 2369 2687 2733 \nQ 2419 3097 1959 3097 \nz\nM 1959 3584 \nQ 2709 3584 3137 3096 \nQ 3566 2609 3566 1747 \nQ 3566 888 3137 398 \nQ 2709 -91 1959 -91 \nQ 1206 -91 779 398 \nQ 353 888 353 1747 \nQ 353 2609 779 3096 \nQ 1206 3584 1959 3584 \nz\n\" transform=\"scale(0.015625)\"/>\n      <path id=\"DejaVuSans-69\" d=\"M 603 3500 \nL 1178 3500 \nL 1178 0 \nL 603 0 \nL 603 3500 \nz\nM 603 4863 \nL 1178 4863 \nL 1178 4134 \nL 603 4134 \nL 603 4863 \nz\n\" transform=\"scale(0.015625)\"/>\n      <path id=\"DejaVuSans-6e\" d=\"M 3513 2113 \nL 3513 0 \nL 2938 0 \nL 2938 2094 \nQ 2938 2591 2744 2837 \nQ 2550 3084 2163 3084 \nQ 1697 3084 1428 2787 \nQ 1159 2491 1159 1978 \nL 1159 0 \nL 581 0 \nL 581 3500 \nL 1159 3500 \nL 1159 2956 \nQ 1366 3272 1645 3428 \nQ 1925 3584 2291 3584 \nQ 2894 3584 3203 3211 \nQ 3513 2838 3513 2113 \nz\n\" transform=\"scale(0.015625)\"/>\n      <path id=\"DejaVuSans-73\" d=\"M 2834 3397 \nL 2834 2853 \nQ 2591 2978 2328 3040 \nQ 2066 3103 1784 3103 \nQ 1356 3103 1142 2972 \nQ 928 2841 928 2578 \nQ 928 2378 1081 2264 \nQ 1234 2150 1697 2047 \nL 1894 2003 \nQ 2506 1872 2764 1633 \nQ 3022 1394 3022 966 \nQ 3022 478 2636 193 \nQ 2250 -91 1575 -91 \nQ 1294 -91 989 -36 \nQ 684 19 347 128 \nL 347 722 \nQ 666 556 975 473 \nQ 1284 391 1588 391 \nQ 1994 391 2212 530 \nQ 2431 669 2431 922 \nQ 2431 1156 2273 1281 \nQ 2116 1406 1581 1522 \nL 1381 1569 \nQ 847 1681 609 1914 \nQ 372 2147 372 2553 \nQ 372 3047 722 3315 \nQ 1072 3584 1716 3584 \nQ 2034 3584 2315 3537 \nQ 2597 3491 2834 3397 \nz\n\" transform=\"scale(0.015625)\"/>\n     </defs>\n     <use xlink:href=\"#DejaVuSans-64\"/>\n     <use xlink:href=\"#DejaVuSans-61\" x=\"63.476562\"/>\n     <use xlink:href=\"#DejaVuSans-74\" x=\"124.755859\"/>\n     <use xlink:href=\"#DejaVuSans-61\" x=\"163.964844\"/>\n     <use xlink:href=\"#DejaVuSans-20\" x=\"225.244141\"/>\n     <use xlink:href=\"#DejaVuSans-70\" x=\"257.03125\"/>\n     <use xlink:href=\"#DejaVuSans-6f\" x=\"320.507812\"/>\n     <use xlink:href=\"#DejaVuSans-69\" x=\"381.689453\"/>\n     <use xlink:href=\"#DejaVuSans-6e\" x=\"409.472656\"/>\n     <use xlink:href=\"#DejaVuSans-74\" x=\"472.851562\"/>\n     <use xlink:href=\"#DejaVuSans-73\" x=\"512.060547\"/>\n    </g>\n   </g>\n  </g>\n  <g id=\"axes_2\">\n   <g id=\"patch_7\">\n    <path d=\"M 615.445312 399.718125 \nL 1137.620312 399.718125 \nL 1137.620312 22.318125 \nL 615.445312 22.318125 \nz\n\" style=\"fill: #ffffff\"/>\n   </g>\n   <g id=\"matplotlib.axis_3\">\n    <g id=\"xtick_10\">\n     <g id=\"line2d_20\">\n      <g>\n       <use xlink:href=\"#md5c2b0f1ff\" x=\"639.18054\" y=\"399.718125\" style=\"stroke: #000000; stroke-width: 0.8\"/>\n      </g>\n     </g>\n     <g id=\"text_20\">\n      <!-- −10.0 -->\n      <g transform=\"translate(623.857884 414.316562)scale(0.1 -0.1)\">\n       <use xlink:href=\"#DejaVuSans-2212\"/>\n       <use xlink:href=\"#DejaVuSans-31\" x=\"83.789062\"/>\n       <use xlink:href=\"#DejaVuSans-30\" x=\"147.412109\"/>\n       <use xlink:href=\"#DejaVuSans-2e\" x=\"211.035156\"/>\n       <use xlink:href=\"#DejaVuSans-30\" x=\"242.822266\"/>\n      </g>\n     </g>\n    </g>\n    <g id=\"xtick_11\">\n     <g id=\"line2d_21\">\n      <g>\n       <use xlink:href=\"#md5c2b0f1ff\" x=\"698.518608\" y=\"399.718125\" style=\"stroke: #000000; stroke-width: 0.8\"/>\n      </g>\n     </g>\n     <g id=\"text_21\">\n      <!-- −7.5 -->\n      <g transform=\"translate(686.377202 414.316562)scale(0.1 -0.1)\">\n       <use xlink:href=\"#DejaVuSans-2212\"/>\n       <use xlink:href=\"#DejaVuSans-37\" x=\"83.789062\"/>\n       <use xlink:href=\"#DejaVuSans-2e\" x=\"147.412109\"/>\n       <use xlink:href=\"#DejaVuSans-35\" x=\"179.199219\"/>\n      </g>\n     </g>\n    </g>\n    <g id=\"xtick_12\">\n     <g id=\"line2d_22\">\n      <g>\n       <use xlink:href=\"#md5c2b0f1ff\" x=\"757.856676\" y=\"399.718125\" style=\"stroke: #000000; stroke-width: 0.8\"/>\n      </g>\n     </g>\n     <g id=\"text_22\">\n      <!-- −5.0 -->\n      <g transform=\"translate(745.71527 414.316562)scale(0.1 -0.1)\">\n       <use xlink:href=\"#DejaVuSans-2212\"/>\n       <use xlink:href=\"#DejaVuSans-35\" x=\"83.789062\"/>\n       <use xlink:href=\"#DejaVuSans-2e\" x=\"147.412109\"/>\n       <use xlink:href=\"#DejaVuSans-30\" x=\"179.199219\"/>\n      </g>\n     </g>\n    </g>\n    <g id=\"xtick_13\">\n     <g id=\"line2d_23\">\n      <g>\n       <use xlink:href=\"#md5c2b0f1ff\" x=\"817.194744\" y=\"399.718125\" style=\"stroke: #000000; stroke-width: 0.8\"/>\n      </g>\n     </g>\n     <g id=\"text_23\">\n      <!-- −2.5 -->\n      <g transform=\"translate(805.053338 414.316562)scale(0.1 -0.1)\">\n       <use xlink:href=\"#DejaVuSans-2212\"/>\n       <use xlink:href=\"#DejaVuSans-32\" x=\"83.789062\"/>\n       <use xlink:href=\"#DejaVuSans-2e\" x=\"147.412109\"/>\n       <use xlink:href=\"#DejaVuSans-35\" x=\"179.199219\"/>\n      </g>\n     </g>\n    </g>\n    <g id=\"xtick_14\">\n     <g id=\"line2d_24\">\n      <g>\n       <use xlink:href=\"#md5c2b0f1ff\" x=\"876.532812\" y=\"399.718125\" style=\"stroke: #000000; stroke-width: 0.8\"/>\n      </g>\n     </g>\n     <g id=\"text_24\">\n      <!-- 0.0 -->\n      <g transform=\"translate(868.58125 414.316562)scale(0.1 -0.1)\">\n       <use xlink:href=\"#DejaVuSans-30\"/>\n       <use xlink:href=\"#DejaVuSans-2e\" x=\"63.623047\"/>\n       <use xlink:href=\"#DejaVuSans-30\" x=\"95.410156\"/>\n      </g>\n     </g>\n    </g>\n    <g id=\"xtick_15\">\n     <g id=\"line2d_25\">\n      <g>\n       <use xlink:href=\"#md5c2b0f1ff\" x=\"935.870881\" y=\"399.718125\" style=\"stroke: #000000; stroke-width: 0.8\"/>\n      </g>\n     </g>\n     <g id=\"text_25\">\n      <!-- 2.5 -->\n      <g transform=\"translate(927.919318 414.316562)scale(0.1 -0.1)\">\n       <use xlink:href=\"#DejaVuSans-32\"/>\n       <use xlink:href=\"#DejaVuSans-2e\" x=\"63.623047\"/>\n       <use xlink:href=\"#DejaVuSans-35\" x=\"95.410156\"/>\n      </g>\n     </g>\n    </g>\n    <g id=\"xtick_16\">\n     <g id=\"line2d_26\">\n      <g>\n       <use xlink:href=\"#md5c2b0f1ff\" x=\"995.208949\" y=\"399.718125\" style=\"stroke: #000000; stroke-width: 0.8\"/>\n      </g>\n     </g>\n     <g id=\"text_26\">\n      <!-- 5.0 -->\n      <g transform=\"translate(987.257386 414.316562)scale(0.1 -0.1)\">\n       <use xlink:href=\"#DejaVuSans-35\"/>\n       <use xlink:href=\"#DejaVuSans-2e\" x=\"63.623047\"/>\n       <use xlink:href=\"#DejaVuSans-30\" x=\"95.410156\"/>\n      </g>\n     </g>\n    </g>\n    <g id=\"xtick_17\">\n     <g id=\"line2d_27\">\n      <g>\n       <use xlink:href=\"#md5c2b0f1ff\" x=\"1054.547017\" y=\"399.718125\" style=\"stroke: #000000; stroke-width: 0.8\"/>\n      </g>\n     </g>\n     <g id=\"text_27\">\n      <!-- 7.5 -->\n      <g transform=\"translate(1046.595455 414.316562)scale(0.1 -0.1)\">\n       <use xlink:href=\"#DejaVuSans-37\"/>\n       <use xlink:href=\"#DejaVuSans-2e\" x=\"63.623047\"/>\n       <use xlink:href=\"#DejaVuSans-35\" x=\"95.410156\"/>\n      </g>\n     </g>\n    </g>\n    <g id=\"xtick_18\">\n     <g id=\"line2d_28\">\n      <g>\n       <use xlink:href=\"#md5c2b0f1ff\" x=\"1113.885085\" y=\"399.718125\" style=\"stroke: #000000; stroke-width: 0.8\"/>\n      </g>\n     </g>\n     <g id=\"text_28\">\n      <!-- 10.0 -->\n      <g transform=\"translate(1102.752273 414.316562)scale(0.1 -0.1)\">\n       <use xlink:href=\"#DejaVuSans-31\"/>\n       <use xlink:href=\"#DejaVuSans-30\" x=\"63.623047\"/>\n       <use xlink:href=\"#DejaVuSans-2e\" x=\"127.246094\"/>\n       <use xlink:href=\"#DejaVuSans-30\" x=\"159.033203\"/>\n      </g>\n     </g>\n    </g>\n   </g>\n   <g id=\"matplotlib.axis_4\">\n    <g id=\"ytick_10\">\n     <g id=\"line2d_29\">\n      <g>\n       <use xlink:href=\"#m9d2df53474\" x=\"615.445312\" y=\"384.092344\" style=\"stroke: #000000; stroke-width: 0.8\"/>\n      </g>\n     </g>\n     <g id=\"text_29\">\n      <!-- −0.50 -->\n      <g transform=\"translate(577.8 387.891563)scale(0.1 -0.1)\">\n       <use xlink:href=\"#DejaVuSans-2212\"/>\n       <use xlink:href=\"#DejaVuSans-30\" x=\"83.789062\"/>\n       <use xlink:href=\"#DejaVuSans-2e\" x=\"147.412109\"/>\n       <use xlink:href=\"#DejaVuSans-35\" x=\"179.199219\"/>\n       <use xlink:href=\"#DejaVuSans-30\" x=\"242.822266\"/>\n      </g>\n     </g>\n    </g>\n    <g id=\"ytick_11\">\n     <g id=\"line2d_30\">\n      <g>\n       <use xlink:href=\"#m9d2df53474\" x=\"615.445312\" y=\"340.823789\" style=\"stroke: #000000; stroke-width: 0.8\"/>\n      </g>\n     </g>\n     <g id=\"text_30\">\n      <!-- −0.25 -->\n      <g transform=\"translate(577.8 344.623008)scale(0.1 -0.1)\">\n       <use xlink:href=\"#DejaVuSans-2212\"/>\n       <use xlink:href=\"#DejaVuSans-30\" x=\"83.789062\"/>\n       <use xlink:href=\"#DejaVuSans-2e\" x=\"147.412109\"/>\n       <use xlink:href=\"#DejaVuSans-32\" x=\"179.199219\"/>\n       <use xlink:href=\"#DejaVuSans-35\" x=\"242.822266\"/>\n      </g>\n     </g>\n    </g>\n    <g id=\"ytick_12\">\n     <g id=\"line2d_31\">\n      <g>\n       <use xlink:href=\"#m9d2df53474\" x=\"615.445312\" y=\"297.555235\" style=\"stroke: #000000; stroke-width: 0.8\"/>\n      </g>\n     </g>\n     <g id=\"text_31\">\n      <!-- 0.00 -->\n      <g transform=\"translate(586.179688 301.354453)scale(0.1 -0.1)\">\n       <use xlink:href=\"#DejaVuSans-30\"/>\n       <use xlink:href=\"#DejaVuSans-2e\" x=\"63.623047\"/>\n       <use xlink:href=\"#DejaVuSans-30\" x=\"95.410156\"/>\n       <use xlink:href=\"#DejaVuSans-30\" x=\"159.033203\"/>\n      </g>\n     </g>\n    </g>\n    <g id=\"ytick_13\">\n     <g id=\"line2d_32\">\n      <g>\n       <use xlink:href=\"#m9d2df53474\" x=\"615.445312\" y=\"254.28668\" style=\"stroke: #000000; stroke-width: 0.8\"/>\n      </g>\n     </g>\n     <g id=\"text_32\">\n      <!-- 0.25 -->\n      <g transform=\"translate(586.179688 258.085899)scale(0.1 -0.1)\">\n       <use xlink:href=\"#DejaVuSans-30\"/>\n       <use xlink:href=\"#DejaVuSans-2e\" x=\"63.623047\"/>\n       <use xlink:href=\"#DejaVuSans-32\" x=\"95.410156\"/>\n       <use xlink:href=\"#DejaVuSans-35\" x=\"159.033203\"/>\n      </g>\n     </g>\n    </g>\n    <g id=\"ytick_14\">\n     <g id=\"line2d_33\">\n      <g>\n       <use xlink:href=\"#m9d2df53474\" x=\"615.445312\" y=\"211.018125\" style=\"stroke: #000000; stroke-width: 0.8\"/>\n      </g>\n     </g>\n     <g id=\"text_33\">\n      <!-- 0.50 -->\n      <g transform=\"translate(586.179688 214.817344)scale(0.1 -0.1)\">\n       <use xlink:href=\"#DejaVuSans-30\"/>\n       <use xlink:href=\"#DejaVuSans-2e\" x=\"63.623047\"/>\n       <use xlink:href=\"#DejaVuSans-35\" x=\"95.410156\"/>\n       <use xlink:href=\"#DejaVuSans-30\" x=\"159.033203\"/>\n      </g>\n     </g>\n    </g>\n    <g id=\"ytick_15\">\n     <g id=\"line2d_34\">\n      <g>\n       <use xlink:href=\"#m9d2df53474\" x=\"615.445312\" y=\"167.74957\" style=\"stroke: #000000; stroke-width: 0.8\"/>\n      </g>\n     </g>\n     <g id=\"text_34\">\n      <!-- 0.75 -->\n      <g transform=\"translate(586.179688 171.548789)scale(0.1 -0.1)\">\n       <use xlink:href=\"#DejaVuSans-30\"/>\n       <use xlink:href=\"#DejaVuSans-2e\" x=\"63.623047\"/>\n       <use xlink:href=\"#DejaVuSans-37\" x=\"95.410156\"/>\n       <use xlink:href=\"#DejaVuSans-35\" x=\"159.033203\"/>\n      </g>\n     </g>\n    </g>\n    <g id=\"ytick_16\">\n     <g id=\"line2d_35\">\n      <g>\n       <use xlink:href=\"#m9d2df53474\" x=\"615.445312\" y=\"124.481015\" style=\"stroke: #000000; stroke-width: 0.8\"/>\n      </g>\n     </g>\n     <g id=\"text_35\">\n      <!-- 1.00 -->\n      <g transform=\"translate(586.179688 128.280234)scale(0.1 -0.1)\">\n       <use xlink:href=\"#DejaVuSans-31\"/>\n       <use xlink:href=\"#DejaVuSans-2e\" x=\"63.623047\"/>\n       <use xlink:href=\"#DejaVuSans-30\" x=\"95.410156\"/>\n       <use xlink:href=\"#DejaVuSans-30\" x=\"159.033203\"/>\n      </g>\n     </g>\n    </g>\n    <g id=\"ytick_17\">\n     <g id=\"line2d_36\">\n      <g>\n       <use xlink:href=\"#m9d2df53474\" x=\"615.445312\" y=\"81.212461\" style=\"stroke: #000000; stroke-width: 0.8\"/>\n      </g>\n     </g>\n     <g id=\"text_36\">\n      <!-- 1.25 -->\n      <g transform=\"translate(586.179688 85.011679)scale(0.1 -0.1)\">\n       <use xlink:href=\"#DejaVuSans-31\"/>\n       <use xlink:href=\"#DejaVuSans-2e\" x=\"63.623047\"/>\n       <use xlink:href=\"#DejaVuSans-32\" x=\"95.410156\"/>\n       <use xlink:href=\"#DejaVuSans-35\" x=\"159.033203\"/>\n      </g>\n     </g>\n    </g>\n    <g id=\"ytick_18\">\n     <g id=\"line2d_37\">\n      <g>\n       <use xlink:href=\"#m9d2df53474\" x=\"615.445312\" y=\"37.943906\" style=\"stroke: #000000; stroke-width: 0.8\"/>\n      </g>\n     </g>\n     <g id=\"text_37\">\n      <!-- 1.50 -->\n      <g transform=\"translate(586.179688 41.743125)scale(0.1 -0.1)\">\n       <use xlink:href=\"#DejaVuSans-31\"/>\n       <use xlink:href=\"#DejaVuSans-2e\" x=\"63.623047\"/>\n       <use xlink:href=\"#DejaVuSans-35\" x=\"95.410156\"/>\n       <use xlink:href=\"#DejaVuSans-30\" x=\"159.033203\"/>\n      </g>\n     </g>\n    </g>\n   </g>\n   <g id=\"line2d_38\">\n    <path d=\"M 639.18054 77.410885 \nL 642.031615 86.45211 \nL 645.833049 99.336447 \nL 650.584842 116.307239 \nL 660.56363 152.188121 \nL 664.365064 164.912191 \nL 667.216139 173.793841 \nL 670.067215 181.96554 \nL 672.443111 188.147752 \nL 674.819031 193.693223 \nL 676.719748 197.633603 \nL 678.620465 201.105472 \nL 680.521182 204.087022 \nL 681.94672 205.989454 \nL 683.372257 207.598352 \nL 684.797795 208.908004 \nL 686.223333 209.913392 \nL 687.648871 210.611228 \nL 689.074408 210.998914 \nL 690.499946 211.075066 \nL 691.925484 210.839512 \nL 693.351022 210.292944 \nL 694.776559 209.437438 \nL 696.202097 208.276283 \nL 697.627635 206.81346 \nL 699.053196 205.054507 \nL 700.478734 203.005654 \nL 702.379451 199.835973 \nL 704.280168 196.184799 \nL 706.180885 192.075498 \nL 708.556781 186.335491 \nL 710.932678 179.979168 \nL 713.783753 171.628337 \nL 716.634829 162.603208 \nL 720.436263 149.748294 \nL 725.663258 131.107335 \nL 734.691664 98.750591 \nL 738.493098 86.00679 \nL 741.819353 75.674778 \nL 744.670428 67.59152 \nL 747.046348 61.491692 \nL 749.422244 56.037085 \nL 751.322961 52.175972 \nL 753.223678 48.789602 \nL 755.124395 45.900301 \nL 756.549933 44.071599 \nL 757.975471 42.540757 \nL 759.401009 41.313661 \nL 760.826546 40.395329 \nL 762.252084 39.789569 \nL 763.677622 39.499151 \nL 765.10316 39.525631 \nL 766.528697 39.869703 \nL 767.954235 40.530673 \nL 769.379773 41.506985 \nL 770.805334 42.795869 \nL 772.230872 44.393344 \nL 773.65641 46.294564 \nL 775.557127 49.291517 \nL 777.457844 52.800943 \nL 779.358561 56.802592 \nL 781.259278 61.273618 \nL 783.635174 67.482829 \nL 786.01107 74.328434 \nL 788.862146 83.295755 \nL 792.188401 94.647001 \nL 795.989858 108.545726 \nL 800.741651 126.840709 \nL 812.621132 173.009815 \nL 816.422566 186.72837 \nL 819.748845 197.913118 \nL 822.59992 206.758942 \nL 825.450996 214.824027 \nL 827.826892 220.892355 \nL 830.202788 226.327924 \nL 832.103505 230.200633 \nL 834.004222 233.637714 \nL 835.904939 236.630686 \nL 837.805656 239.174185 \nL 839.706373 241.266306 \nL 841.131935 242.53944 \nL 842.557472 243.560924 \nL 843.98301 244.333008 \nL 845.408548 244.859154 \nL 846.834086 245.143688 \nL 848.259623 245.191803 \nL 849.685161 245.009902 \nL 851.110699 244.604389 \nL 852.536237 243.983052 \nL 853.961774 243.1542 \nL 855.862491 241.741914 \nL 857.763208 240.000095 \nL 859.663925 237.95332 \nL 862.039822 235.006904 \nL 864.415718 231.680591 \nL 867.266817 227.269448 \nL 870.593072 221.676901 \nL 875.344864 213.182418 \nL 882.947732 199.536901 \nL 886.273987 194.003718 \nL 889.125086 189.66267 \nL 891.500983 186.407836 \nL 893.876879 183.54415 \nL 895.777596 181.571104 \nL 897.678313 179.909419 \nL 899.57903 178.583324 \nL 901.004568 177.822663 \nL 902.430105 177.27246 \nL 903.855643 176.940504 \nL 905.281181 176.834582 \nL 906.706719 176.960926 \nL 908.132256 177.325421 \nL 909.557794 177.933084 \nL 910.983332 178.787898 \nL 912.408893 179.89315 \nL 913.834431 181.250744 \nL 915.259969 182.862065 \nL 917.160686 185.405564 \nL 919.061403 188.398536 \nL 920.96212 191.835617 \nL 922.862837 195.708326 \nL 925.238733 201.143895 \nL 927.614629 207.212223 \nL 929.990526 213.876619 \nL 932.841601 222.598348 \nL 935.692677 232.025701 \nL 939.018955 243.780729 \nL 943.295568 259.811209 \nL 949.948078 285.849706 \nL 956.600587 311.698341 \nL 960.402045 325.700218 \nL 963.7283 337.173481 \nL 966.579375 346.267666 \nL 968.955272 353.233384 \nL 971.331168 359.574477 \nL 973.707064 365.233658 \nL 975.607781 369.235307 \nL 977.508498 372.744733 \nL 979.409215 375.741686 \nL 980.834753 377.642906 \nL 982.260291 379.240381 \nL 983.685852 380.529265 \nL 985.11139 381.505577 \nL 986.536928 382.166547 \nL 987.962465 382.510619 \nL 989.388003 382.537099 \nL 990.813541 382.246681 \nL 992.239079 381.640921 \nL 993.664616 380.722589 \nL 995.090154 379.495493 \nL 996.515692 377.964651 \nL 997.94123 376.135949 \nL 999.841947 373.246648 \nL 1001.742664 369.860278 \nL 1003.643381 365.999165 \nL 1005.544098 361.688925 \nL 1007.920018 355.713364 \nL 1010.295914 349.141909 \nL 1013.146989 340.564524 \nL 1016.473244 329.763828 \nL 1020.274678 316.637186 \nL 1026.452008 294.376553 \nL 1033.104542 270.639424 \nL 1036.905976 257.887489 \nL 1040.23223 247.543189 \nL 1043.083306 239.444527 \nL 1045.459202 233.327392 \nL 1047.835098 227.850458 \nL 1049.735815 223.967019 \nL 1051.636532 220.553822 \nL 1053.537249 217.632849 \nL 1054.962811 215.776455 \nL 1056.388349 214.214287 \nL 1057.813886 212.952056 \nL 1059.239424 211.994264 \nL 1060.664962 211.344543 \nL 1062.0905 211.005144 \nL 1063.516037 210.977279 \nL 1064.941575 211.261121 \nL 1066.367113 211.855804 \nL 1067.792651 212.759079 \nL 1069.218188 213.967829 \nL 1070.643726 215.477555 \nL 1072.069264 217.282893 \nL 1073.969981 220.138617 \nL 1075.870698 223.489853 \nL 1077.771415 227.315313 \nL 1079.672155 231.590592 \nL 1082.048052 237.525134 \nL 1084.423948 244.060243 \nL 1087.275023 252.602148 \nL 1090.601278 263.376711 \nL 1094.402712 276.496948 \nL 1100.580042 298.810196 \nL 1107.232576 322.699803 \nL 1111.03401 335.58414 \nL 1113.885085 344.625365 \nL 1113.885085 344.625365 \n\" clip-path=\"url(#p5d991076e4)\" style=\"fill: none; stroke: #0000ff; stroke-width: 1.5; stroke-linecap: square\"/>\n   </g>\n   <g id=\"line2d_39\">\n    <defs>\n     <path id=\"m48e5c0fe3c\" d=\"M 0 3 \nC 0.795609 3 1.55874 2.683901 2.12132 2.12132 \nC 2.683901 1.55874 3 0.795609 3 0 \nC 3 -0.795609 2.683901 -1.55874 2.12132 -2.12132 \nC 1.55874 -2.683901 0.795609 -3 0 -3 \nC -0.795609 -3 -1.55874 -2.683901 -2.12132 -2.12132 \nC -2.683901 -1.55874 -3 -0.795609 -3 0 \nC -3 0.795609 -2.683901 1.55874 -2.12132 2.12132 \nC -1.55874 2.683901 -0.795609 3 0 3 \nz\n\" style=\"stroke: #ff0000\"/>\n    </defs>\n    <g clip-path=\"url(#p5d991076e4)\">\n     <use xlink:href=\"#m48e5c0fe3c\" x=\"639.18054\" y=\"77.410885\" style=\"fill: #ff0000; stroke: #ff0000\"/>\n     <use xlink:href=\"#m48e5c0fe3c\" x=\"643.932332\" y=\"92.792684\" style=\"fill: #ff0000; stroke: #ff0000\"/>\n     <use xlink:href=\"#m48e5c0fe3c\" x=\"648.684125\" y=\"109.441212\" style=\"fill: #ff0000; stroke: #ff0000\"/>\n     <use xlink:href=\"#m48e5c0fe3c\" x=\"653.435941\" y=\"126.691346\" style=\"fill: #ff0000; stroke: #ff0000\"/>\n     <use xlink:href=\"#m48e5c0fe3c\" x=\"658.187734\" y=\"143.854251\" style=\"fill: #ff0000; stroke: #ff0000\"/>\n     <use xlink:href=\"#m48e5c0fe3c\" x=\"662.939526\" y=\"160.244899\" style=\"fill: #ff0000; stroke: #ff0000\"/>\n     <use xlink:href=\"#m48e5c0fe3c\" x=\"667.691319\" y=\"175.208377\" style=\"fill: #ff0000; stroke: #ff0000\"/>\n     <use xlink:href=\"#m48e5c0fe3c\" x=\"672.443111\" y=\"188.147752\" style=\"fill: #ff0000; stroke: #ff0000\"/>\n     <use xlink:href=\"#m48e5c0fe3c\" x=\"677.194927\" y=\"198.546397\" style=\"fill: #ff0000; stroke: #ff0000\"/>\n     <use xlink:href=\"#m48e5c0fe3c\" x=\"681.94672\" y=\"205.989454\" style=\"fill: #ff0000; stroke: #ff0000\"/>\n     <use xlink:href=\"#m48e5c0fe3c\" x=\"686.698512\" y=\"210.180446\" style=\"fill: #ff0000; stroke: #ff0000\"/>\n     <use xlink:href=\"#m48e5c0fe3c\" x=\"691.450305\" y=\"210.952703\" style=\"fill: #ff0000; stroke: #ff0000\"/>\n     <use xlink:href=\"#m48e5c0fe3c\" x=\"696.202097\" y=\"208.276283\" style=\"fill: #ff0000; stroke: #ff0000\"/>\n     <use xlink:href=\"#m48e5c0fe3c\" x=\"700.953913\" y=\"202.259531\" style=\"fill: #ff0000; stroke: #ff0000\"/>\n     <use xlink:href=\"#m48e5c0fe3c\" x=\"705.705706\" y=\"193.144404\" style=\"fill: #ff0000; stroke: #ff0000\"/>\n     <use xlink:href=\"#m48e5c0fe3c\" x=\"710.457498\" y=\"181.296782\" style=\"fill: #ff0000; stroke: #ff0000\"/>\n     <use xlink:href=\"#m48e5c0fe3c\" x=\"715.209291\" y=\"167.192098\" style=\"fill: #ff0000; stroke: #ff0000\"/>\n     <use xlink:href=\"#m48e5c0fe3c\" x=\"719.961083\" y=\"151.396826\" style=\"fill: #ff0000; stroke: #ff0000\"/>\n     <use xlink:href=\"#m48e5c0fe3c\" x=\"724.7129\" y=\"134.545108\" style=\"fill: #ff0000; stroke: #ff0000\"/>\n     <use xlink:href=\"#m48e5c0fe3c\" x=\"729.464692\" y=\"117.314531\" style=\"fill: #ff0000; stroke: #ff0000\"/>\n     <use xlink:href=\"#m48e5c0fe3c\" x=\"734.216485\" y=\"100.39843\" style=\"fill: #ff0000; stroke: #ff0000\"/>\n     <use xlink:href=\"#m48e5c0fe3c\" x=\"738.968277\" y=\"84.478544\" style=\"fill: #ff0000; stroke: #ff0000\"/>\n     <use xlink:href=\"#m48e5c0fe3c\" x=\"743.72007\" y=\"70.198364\" style=\"fill: #ff0000; stroke: #ff0000\"/>\n     <use xlink:href=\"#m48e5c0fe3c\" x=\"748.471886\" y=\"58.13786\" style=\"fill: #ff0000; stroke: #ff0000\"/>\n     <use xlink:href=\"#m48e5c0fe3c\" x=\"753.223678\" y=\"48.789602\" style=\"fill: #ff0000; stroke: #ff0000\"/>\n     <use xlink:href=\"#m48e5c0fe3c\" x=\"757.975471\" y=\"42.540757\" style=\"fill: #ff0000; stroke: #ff0000\"/>\n     <use xlink:href=\"#m48e5c0fe3c\" x=\"762.727263\" y=\"39.657687\" style=\"fill: #ff0000; stroke: #ff0000\"/>\n     <use xlink:href=\"#m48e5c0fe3c\" x=\"767.479056\" y=\"40.275216\" style=\"fill: #ff0000; stroke: #ff0000\"/>\n     <use xlink:href=\"#m48e5c0fe3c\" x=\"772.230872\" y=\"44.393344\" style=\"fill: #ff0000; stroke: #ff0000\"/>\n     <use xlink:href=\"#m48e5c0fe3c\" x=\"776.982665\" y=\"51.876554\" style=\"fill: #ff0000; stroke: #ff0000\"/>\n     <use xlink:href=\"#m48e5c0fe3c\" x=\"781.734457\" y=\"62.461773\" style=\"fill: #ff0000; stroke: #ff0000\"/>\n     <use xlink:href=\"#m48e5c0fe3c\" x=\"786.48625\" y=\"75.768584\" style=\"fill: #ff0000; stroke: #ff0000\"/>\n     <use xlink:href=\"#m48e5c0fe3c\" x=\"791.238042\" y=\"91.316534\" style=\"fill: #ff0000; stroke: #ff0000\"/>\n     <use xlink:href=\"#m48e5c0fe3c\" x=\"795.989858\" y=\"108.545726\" style=\"fill: #ff0000; stroke: #ff0000\"/>\n     <use xlink:href=\"#m48e5c0fe3c\" x=\"800.741651\" y=\"126.840709\" style=\"fill: #ff0000; stroke: #ff0000\"/>\n     <use xlink:href=\"#m48e5c0fe3c\" x=\"805.493443\" y=\"145.556263\" style=\"fill: #ff0000; stroke: #ff0000\"/>\n     <use xlink:href=\"#m48e5c0fe3c\" x=\"810.245236\" y=\"164.045782\" style=\"fill: #ff0000; stroke: #ff0000\"/>\n     <use xlink:href=\"#m48e5c0fe3c\" x=\"814.997028\" y=\"181.687929\" style=\"fill: #ff0000; stroke: #ff0000\"/>\n     <use xlink:href=\"#m48e5c0fe3c\" x=\"819.748845\" y=\"197.913118\" style=\"fill: #ff0000; stroke: #ff0000\"/>\n     <use xlink:href=\"#m48e5c0fe3c\" x=\"824.500637\" y=\"212.227395\" style=\"fill: #ff0000; stroke: #ff0000\"/>\n     <use xlink:href=\"#m48e5c0fe3c\" x=\"829.25243\" y=\"224.231822\" style=\"fill: #ff0000; stroke: #ff0000\"/>\n     <use xlink:href=\"#m48e5c0fe3c\" x=\"834.004222\" y=\"233.637714\" style=\"fill: #ff0000; stroke: #ff0000\"/>\n     <use xlink:href=\"#m48e5c0fe3c\" x=\"838.756015\" y=\"240.276668\" style=\"fill: #ff0000; stroke: #ff0000\"/>\n     <use xlink:href=\"#m48e5c0fe3c\" x=\"843.507831\" y=\"244.103166\" style=\"fill: #ff0000; stroke: #ff0000\"/>\n     <use xlink:href=\"#m48e5c0fe3c\" x=\"848.259623\" y=\"245.191803\" style=\"fill: #ff0000; stroke: #ff0000\"/>\n     <use xlink:href=\"#m48e5c0fe3c\" x=\"853.011416\" y=\"243.729325\" style=\"fill: #ff0000; stroke: #ff0000\"/>\n     <use xlink:href=\"#m48e5c0fe3c\" x=\"857.763208\" y=\"240.000095\" style=\"fill: #ff0000; stroke: #ff0000\"/>\n     <use xlink:href=\"#m48e5c0fe3c\" x=\"862.515001\" y=\"234.370164\" style=\"fill: #ff0000; stroke: #ff0000\"/>\n     <use xlink:href=\"#m48e5c0fe3c\" x=\"867.266817\" y=\"227.269448\" style=\"fill: #ff0000; stroke: #ff0000\"/>\n     <use xlink:href=\"#m48e5c0fe3c\" x=\"872.01861\" y=\"219.173036\" style=\"fill: #ff0000; stroke: #ff0000\"/>\n     <use xlink:href=\"#m48e5c0fe3c\" x=\"876.770402\" y=\"210.585093\" style=\"fill: #ff0000; stroke: #ff0000\"/>\n     <use xlink:href=\"#m48e5c0fe3c\" x=\"881.522195\" y=\"202.022939\" style=\"fill: #ff0000; stroke: #ff0000\"/>\n     <use xlink:href=\"#m48e5c0fe3c\" x=\"886.273987\" y=\"194.003718\" style=\"fill: #ff0000; stroke: #ff0000\"/>\n     <use xlink:href=\"#m48e5c0fe3c\" x=\"891.025803\" y=\"187.029346\" style=\"fill: #ff0000; stroke: #ff0000\"/>\n     <use xlink:href=\"#m48e5c0fe3c\" x=\"895.777596\" y=\"181.571104\" style=\"fill: #ff0000; stroke: #ff0000\"/>\n     <use xlink:href=\"#m48e5c0fe3c\" x=\"900.529388\" y=\"178.053198\" style=\"fill: #ff0000; stroke: #ff0000\"/>\n     <use xlink:href=\"#m48e5c0fe3c\" x=\"905.281181\" y=\"176.834582\" style=\"fill: #ff0000; stroke: #ff0000\"/>\n     <use xlink:href=\"#m48e5c0fe3c\" x=\"910.032973\" y=\"178.190446\" style=\"fill: #ff0000; stroke: #ff0000\"/>\n     <use xlink:href=\"#m48e5c0fe3c\" x=\"914.78479\" y=\"182.296631\" style=\"fill: #ff0000; stroke: #ff0000\"/>\n     <use xlink:href=\"#m48e5c0fe3c\" x=\"919.536582\" y=\"189.216485\" style=\"fill: #ff0000; stroke: #ff0000\"/>\n     <use xlink:href=\"#m48e5c0fe3c\" x=\"924.288375\" y=\"198.891853\" style=\"fill: #ff0000; stroke: #ff0000\"/>\n     <use xlink:href=\"#m48e5c0fe3c\" x=\"929.040167\" y=\"211.142046\" style=\"fill: #ff0000; stroke: #ff0000\"/>\n     <use xlink:href=\"#m48e5c0fe3c\" x=\"933.79196\" y=\"225.667127\" style=\"fill: #ff0000; stroke: #ff0000\"/>\n     <use xlink:href=\"#m48e5c0fe3c\" x=\"938.543776\" y=\"242.057602\" style=\"fill: #ff0000; stroke: #ff0000\"/>\n     <use xlink:href=\"#m48e5c0fe3c\" x=\"943.295568\" y=\"259.811209\" style=\"fill: #ff0000; stroke: #ff0000\"/>\n     <use xlink:href=\"#m48e5c0fe3c\" x=\"948.047361\" y=\"278.351958\" style=\"fill: #ff0000; stroke: #ff0000\"/>\n     <use xlink:href=\"#m48e5c0fe3c\" x=\"952.799153\" y=\"297.054704\" style=\"fill: #ff0000; stroke: #ff0000\"/>\n     <use xlink:href=\"#m48e5c0fe3c\" x=\"957.550946\" y=\"315.271804\" style=\"fill: #ff0000; stroke: #ff0000\"/>\n     <use xlink:href=\"#m48e5c0fe3c\" x=\"962.302762\" y=\"332.359941\" style=\"fill: #ff0000; stroke: #ff0000\"/>\n     <use xlink:href=\"#m48e5c0fe3c\" x=\"967.054555\" y=\"347.707816\" style=\"fill: #ff0000; stroke: #ff0000\"/>\n     <use xlink:href=\"#m48e5c0fe3c\" x=\"971.806347\" y=\"360.762632\" style=\"fill: #ff0000; stroke: #ff0000\"/>\n     <use xlink:href=\"#m48e5c0fe3c\" x=\"976.55814\" y=\"371.052932\" style=\"fill: #ff0000; stroke: #ff0000\"/>\n     <use xlink:href=\"#m48e5c0fe3c\" x=\"981.309932\" y=\"378.209551\" style=\"fill: #ff0000; stroke: #ff0000\"/>\n     <use xlink:href=\"#m48e5c0fe3c\" x=\"986.061748\" y=\"381.981358\" style=\"fill: #ff0000; stroke: #ff0000\"/>\n     <use xlink:href=\"#m48e5c0fe3c\" x=\"990.813541\" y=\"382.246681\" style=\"fill: #ff0000; stroke: #ff0000\"/>\n     <use xlink:href=\"#m48e5c0fe3c\" x=\"995.565333\" y=\"379.018673\" style=\"fill: #ff0000; stroke: #ff0000\"/>\n     <use xlink:href=\"#m48e5c0fe3c\" x=\"1000.317126\" y=\"372.445834\" style=\"fill: #ff0000; stroke: #ff0000\"/>\n     <use xlink:href=\"#m48e5c0fe3c\" x=\"1005.068918\" y=\"362.807157\" style=\"fill: #ff0000; stroke: #ff0000\"/>\n     <use xlink:href=\"#m48e5c0fe3c\" x=\"1009.820735\" y=\"350.500715\" style=\"fill: #ff0000; stroke: #ff0000\"/>\n     <use xlink:href=\"#m48e5c0fe3c\" x=\"1014.572527\" y=\"336.02946\" style=\"fill: #ff0000; stroke: #ff0000\"/>\n     <use xlink:href=\"#m48e5c0fe3c\" x=\"1019.32432\" y=\"319.980115\" style=\"fill: #ff0000; stroke: #ff0000\"/>\n     <use xlink:href=\"#m48e5c0fe3c\" x=\"1024.076112\" y=\"303.001361\" style=\"fill: #ff0000; stroke: #ff0000\"/>\n     <use xlink:href=\"#m48e5c0fe3c\" x=\"1028.827905\" y=\"285.777534\" style=\"fill: #ff0000; stroke: #ff0000\"/>\n     <use xlink:href=\"#m48e5c0fe3c\" x=\"1033.579721\" y=\"269.00145\" style=\"fill: #ff0000; stroke: #ff0000\"/>\n     <use xlink:href=\"#m48e5c0fe3c\" x=\"1038.331513\" y=\"253.347579\" style=\"fill: #ff0000; stroke: #ff0000\"/>\n     <use xlink:href=\"#m48e5c0fe3c\" x=\"1043.083306\" y=\"239.444527\" style=\"fill: #ff0000; stroke: #ff0000\"/>\n     <use xlink:href=\"#m48e5c0fe3c\" x=\"1047.835098\" y=\"227.850458\" style=\"fill: #ff0000; stroke: #ff0000\"/>\n     <use xlink:href=\"#m48e5c0fe3c\" x=\"1052.586891\" y=\"219.030596\" style=\"fill: #ff0000; stroke: #ff0000\"/>\n     <use xlink:href=\"#m48e5c0fe3c\" x=\"1057.338707\" y=\"213.339223\" style=\"fill: #ff0000; stroke: #ff0000\"/>\n     <use xlink:href=\"#m48e5c0fe3c\" x=\"1062.0905\" y=\"211.005144\" style=\"fill: #ff0000; stroke: #ff0000\"/>\n     <use xlink:href=\"#m48e5c0fe3c\" x=\"1066.842292\" y=\"212.122858\" style=\"fill: #ff0000; stroke: #ff0000\"/>\n     <use xlink:href=\"#m48e5c0fe3c\" x=\"1071.594085\" y=\"216.648575\" style=\"fill: #ff0000; stroke: #ff0000\"/>\n     <use xlink:href=\"#m48e5c0fe3c\" x=\"1076.345877\" y=\"224.402647\" style=\"fill: #ff0000; stroke: #ff0000\"/>\n     <use xlink:href=\"#m48e5c0fe3c\" x=\"1081.097693\" y=\"235.075788\" style=\"fill: #ff0000; stroke: #ff0000\"/>\n     <use xlink:href=\"#m48e5c0fe3c\" x=\"1085.849486\" y=\"248.242409\" style=\"fill: #ff0000; stroke: #ff0000\"/>\n     <use xlink:href=\"#m48e5c0fe3c\" x=\"1090.601278\" y=\"263.376711\" style=\"fill: #ff0000; stroke: #ff0000\"/>\n     <use xlink:href=\"#m48e5c0fe3c\" x=\"1095.353071\" y=\"279.874665\" style=\"fill: #ff0000; stroke: #ff0000\"/>\n     <use xlink:href=\"#m48e5c0fe3c\" x=\"1100.104863\" y=\"297.07755\" style=\"fill: #ff0000; stroke: #ff0000\"/>\n     <use xlink:href=\"#m48e5c0fe3c\" x=\"1104.856679\" y=\"314.298261\" style=\"fill: #ff0000; stroke: #ff0000\"/>\n     <use xlink:href=\"#m48e5c0fe3c\" x=\"1109.608472\" y=\"330.849349\" style=\"fill: #ff0000; stroke: #ff0000\"/>\n    </g>\n   </g>\n   <g id=\"patch_8\">\n    <path d=\"M 615.445312 399.718125 \nL 615.445312 22.318125 \n\" style=\"fill: none; stroke: #000000; stroke-width: 0.8; stroke-linejoin: miter; stroke-linecap: square\"/>\n   </g>\n   <g id=\"patch_9\">\n    <path d=\"M 1137.620312 399.718125 \nL 1137.620312 22.318125 \n\" style=\"fill: none; stroke: #000000; stroke-width: 0.8; stroke-linejoin: miter; stroke-linecap: square\"/>\n   </g>\n   <g id=\"patch_10\">\n    <path d=\"M 615.445312 399.718125 \nL 1137.620312 399.718125 \n\" style=\"fill: none; stroke: #000000; stroke-width: 0.8; stroke-linejoin: miter; stroke-linecap: square\"/>\n   </g>\n   <g id=\"patch_11\">\n    <path d=\"M 615.445312 22.318125 \nL 1137.620312 22.318125 \n\" style=\"fill: none; stroke: #000000; stroke-width: 0.8; stroke-linejoin: miter; stroke-linecap: square\"/>\n   </g>\n   <g id=\"text_38\">\n    <!-- samples of data points (every 10 points) -->\n    <g transform=\"translate(754.728125 16.318125)scale(0.12 -0.12)\">\n     <defs>\n      <path id=\"DejaVuSans-6d\" d=\"M 3328 2828 \nQ 3544 3216 3844 3400 \nQ 4144 3584 4550 3584 \nQ 5097 3584 5394 3201 \nQ 5691 2819 5691 2113 \nL 5691 0 \nL 5113 0 \nL 5113 2094 \nQ 5113 2597 4934 2840 \nQ 4756 3084 4391 3084 \nQ 3944 3084 3684 2787 \nQ 3425 2491 3425 1978 \nL 3425 0 \nL 2847 0 \nL 2847 2094 \nQ 2847 2600 2669 2842 \nQ 2491 3084 2119 3084 \nQ 1678 3084 1418 2786 \nQ 1159 2488 1159 1978 \nL 1159 0 \nL 581 0 \nL 581 3500 \nL 1159 3500 \nL 1159 2956 \nQ 1356 3278 1631 3431 \nQ 1906 3584 2284 3584 \nQ 2666 3584 2933 3390 \nQ 3200 3197 3328 2828 \nz\n\" transform=\"scale(0.015625)\"/>\n      <path id=\"DejaVuSans-6c\" d=\"M 603 4863 \nL 1178 4863 \nL 1178 0 \nL 603 0 \nL 603 4863 \nz\n\" transform=\"scale(0.015625)\"/>\n      <path id=\"DejaVuSans-65\" d=\"M 3597 1894 \nL 3597 1613 \nL 953 1613 \nQ 991 1019 1311 708 \nQ 1631 397 2203 397 \nQ 2534 397 2845 478 \nQ 3156 559 3463 722 \nL 3463 178 \nQ 3153 47 2828 -22 \nQ 2503 -91 2169 -91 \nQ 1331 -91 842 396 \nQ 353 884 353 1716 \nQ 353 2575 817 3079 \nQ 1281 3584 2069 3584 \nQ 2775 3584 3186 3129 \nQ 3597 2675 3597 1894 \nz\nM 3022 2063 \nQ 3016 2534 2758 2815 \nQ 2500 3097 2075 3097 \nQ 1594 3097 1305 2825 \nQ 1016 2553 972 2059 \nL 3022 2063 \nz\n\" transform=\"scale(0.015625)\"/>\n      <path id=\"DejaVuSans-66\" d=\"M 2375 4863 \nL 2375 4384 \nL 1825 4384 \nQ 1516 4384 1395 4259 \nQ 1275 4134 1275 3809 \nL 1275 3500 \nL 2222 3500 \nL 2222 3053 \nL 1275 3053 \nL 1275 0 \nL 697 0 \nL 697 3053 \nL 147 3053 \nL 147 3500 \nL 697 3500 \nL 697 3744 \nQ 697 4328 969 4595 \nQ 1241 4863 1831 4863 \nL 2375 4863 \nz\n\" transform=\"scale(0.015625)\"/>\n      <path id=\"DejaVuSans-28\" d=\"M 1984 4856 \nQ 1566 4138 1362 3434 \nQ 1159 2731 1159 2009 \nQ 1159 1288 1364 580 \nQ 1569 -128 1984 -844 \nL 1484 -844 \nQ 1016 -109 783 600 \nQ 550 1309 550 2009 \nQ 550 2706 781 3412 \nQ 1013 4119 1484 4856 \nL 1984 4856 \nz\n\" transform=\"scale(0.015625)\"/>\n      <path id=\"DejaVuSans-76\" d=\"M 191 3500 \nL 800 3500 \nL 1894 563 \nL 2988 3500 \nL 3597 3500 \nL 2284 0 \nL 1503 0 \nL 191 3500 \nz\n\" transform=\"scale(0.015625)\"/>\n      <path id=\"DejaVuSans-72\" d=\"M 2631 2963 \nQ 2534 3019 2420 3045 \nQ 2306 3072 2169 3072 \nQ 1681 3072 1420 2755 \nQ 1159 2438 1159 1844 \nL 1159 0 \nL 581 0 \nL 581 3500 \nL 1159 3500 \nL 1159 2956 \nQ 1341 3275 1631 3429 \nQ 1922 3584 2338 3584 \nQ 2397 3584 2469 3576 \nQ 2541 3569 2628 3553 \nL 2631 2963 \nz\n\" transform=\"scale(0.015625)\"/>\n      <path id=\"DejaVuSans-79\" d=\"M 2059 -325 \nQ 1816 -950 1584 -1140 \nQ 1353 -1331 966 -1331 \nL 506 -1331 \nL 506 -850 \nL 844 -850 \nQ 1081 -850 1212 -737 \nQ 1344 -625 1503 -206 \nL 1606 56 \nL 191 3500 \nL 800 3500 \nL 1894 763 \nL 2988 3500 \nL 3597 3500 \nL 2059 -325 \nz\n\" transform=\"scale(0.015625)\"/>\n      <path id=\"DejaVuSans-29\" d=\"M 513 4856 \nL 1013 4856 \nQ 1481 4119 1714 3412 \nQ 1947 2706 1947 2009 \nQ 1947 1309 1714 600 \nQ 1481 -109 1013 -844 \nL 513 -844 \nQ 928 -128 1133 580 \nQ 1338 1288 1338 2009 \nQ 1338 2731 1133 3434 \nQ 928 4138 513 4856 \nz\n\" transform=\"scale(0.015625)\"/>\n     </defs>\n     <use xlink:href=\"#DejaVuSans-73\"/>\n     <use xlink:href=\"#DejaVuSans-61\" x=\"52.099609\"/>\n     <use xlink:href=\"#DejaVuSans-6d\" x=\"113.378906\"/>\n     <use xlink:href=\"#DejaVuSans-70\" x=\"210.791016\"/>\n     <use xlink:href=\"#DejaVuSans-6c\" x=\"274.267578\"/>\n     <use xlink:href=\"#DejaVuSans-65\" x=\"302.050781\"/>\n     <use xlink:href=\"#DejaVuSans-73\" x=\"363.574219\"/>\n     <use xlink:href=\"#DejaVuSans-20\" x=\"415.673828\"/>\n     <use xlink:href=\"#DejaVuSans-6f\" x=\"447.460938\"/>\n     <use xlink:href=\"#DejaVuSans-66\" x=\"508.642578\"/>\n     <use xlink:href=\"#DejaVuSans-20\" x=\"543.847656\"/>\n     <use xlink:href=\"#DejaVuSans-64\" x=\"575.634766\"/>\n     <use xlink:href=\"#DejaVuSans-61\" x=\"639.111328\"/>\n     <use xlink:href=\"#DejaVuSans-74\" x=\"700.390625\"/>\n     <use xlink:href=\"#DejaVuSans-61\" x=\"739.599609\"/>\n     <use xlink:href=\"#DejaVuSans-20\" x=\"800.878906\"/>\n     <use xlink:href=\"#DejaVuSans-70\" x=\"832.666016\"/>\n     <use xlink:href=\"#DejaVuSans-6f\" x=\"896.142578\"/>\n     <use xlink:href=\"#DejaVuSans-69\" x=\"957.324219\"/>\n     <use xlink:href=\"#DejaVuSans-6e\" x=\"985.107422\"/>\n     <use xlink:href=\"#DejaVuSans-74\" x=\"1048.486328\"/>\n     <use xlink:href=\"#DejaVuSans-73\" x=\"1087.695312\"/>\n     <use xlink:href=\"#DejaVuSans-20\" x=\"1139.794922\"/>\n     <use xlink:href=\"#DejaVuSans-28\" x=\"1171.582031\"/>\n     <use xlink:href=\"#DejaVuSans-65\" x=\"1210.595703\"/>\n     <use xlink:href=\"#DejaVuSans-76\" x=\"1272.119141\"/>\n     <use xlink:href=\"#DejaVuSans-65\" x=\"1331.298828\"/>\n     <use xlink:href=\"#DejaVuSans-72\" x=\"1392.822266\"/>\n     <use xlink:href=\"#DejaVuSans-79\" x=\"1433.935547\"/>\n     <use xlink:href=\"#DejaVuSans-20\" x=\"1493.115234\"/>\n     <use xlink:href=\"#DejaVuSans-31\" x=\"1524.902344\"/>\n     <use xlink:href=\"#DejaVuSans-30\" x=\"1588.525391\"/>\n     <use xlink:href=\"#DejaVuSans-20\" x=\"1652.148438\"/>\n     <use xlink:href=\"#DejaVuSans-70\" x=\"1683.935547\"/>\n     <use xlink:href=\"#DejaVuSans-6f\" x=\"1747.412109\"/>\n     <use xlink:href=\"#DejaVuSans-69\" x=\"1808.59375\"/>\n     <use xlink:href=\"#DejaVuSans-6e\" x=\"1836.376953\"/>\n     <use xlink:href=\"#DejaVuSans-74\" x=\"1899.755859\"/>\n     <use xlink:href=\"#DejaVuSans-73\" x=\"1938.964844\"/>\n     <use xlink:href=\"#DejaVuSans-29\" x=\"1991.064453\"/>\n    </g>\n   </g>\n  </g>\n </g>\n <defs>\n  <clipPath id=\"p9dd7978b4b\">\n   <rect x=\"44.845313\" y=\"22.318125\" width=\"522.175\" height=\"377.4\"/>\n  </clipPath>\n  <clipPath id=\"p5d991076e4\">\n   <rect x=\"615.445312\" y=\"22.318125\" width=\"522.175\" height=\"377.4\"/>\n  </clipPath>\n </defs>\n</svg>\n",
      "image/png": "[encoded data removed]"
     },
     "metadata": {
      "needs_background": "light"
     }
    }
   ],
   "source": [
    "filename    = 'assignment_05_data.csv'\n",
    "data        = np.loadtxt(filename, delimiter = ',')\n",
    "\n",
    "x           = data[0, :]    # independent variable\n",
    "y           = data[1, :]    # dependent variable\n",
    "\n",
    "x_sample    = x[::10]       \n",
    "y_sample    = y[::10]\n",
    "\n",
    "plt.figure(figsize=(16,6))\n",
    "\n",
    "plt.subplot(121)\n",
    "plt.plot(x, y, '-', color = 'blue')\n",
    "plt.title('data points')\n",
    "\n",
    "plt.subplot(122)\n",
    "plt.plot(x, y, '-', color = 'blue')\n",
    "plt.plot(x_sample, y_sample, 'o', color = 'red')\n",
    "plt.title('samples of data points (every 10 points)')\n",
    "\n",
    "plt.tight_layout()\n",
    "plt.show()"
   ]
  },
  {
   "cell_type": "markdown",
   "metadata": {},
   "source": [
    "## solve a linear system of equation $A z = b$\n",
    "$$\n",
    "A = \n",
    "\\begin{bmatrix}\n",
    "x_1^0 & x_1^1 & \\cdots & x_1^{p-1}\\\\\n",
    "x_2^0 & x_2^1 & \\cdots & x_2^{p-1}\\\\\n",
    "\\vdots & \\vdots & \\vdots & \\vdots\\\\\n",
    "x_n^0 & x_n^1 & \\cdots & x_n^{p-1}\n",
    "\\end{bmatrix},\n",
    "\\quad\n",
    "z = \n",
    "\\begin{bmatrix}\n",
    "\\theta_0\\\\\n",
    "\\theta_1\\\\\n",
    "\\vdots\\\\\n",
    "\\theta_{p-1}\n",
    "\\end{bmatrix},\n",
    "\\quad\n",
    "b = \n",
    "\\begin{bmatrix}\n",
    "y_1\\\\\n",
    "y_2\\\\\n",
    "\\vdots\\\\\n",
    "y_n\n",
    "\\end{bmatrix}\n",
    "$$"
   ]
  },
  {
   "cell_type": "markdown",
   "metadata": {},
   "source": [
    "## construct matrix A for the polynomial regression with power $p-1$\n",
    "- useful functions : `np.power`"
   ]
  },
  {
   "cell_type": "code",
   "execution_count": 12,
   "metadata": {},
   "outputs": [],
   "source": [
    "def construct_matrix_A(x, p):\n",
    "    \n",
    "    n = len(x)\n",
    "    A = np.zeros([n, p])\n",
    "    \n",
    "    # ++++++++++++++++++++++++++++++++++++++++++++++++++\n",
    "    # complete the blanks\n",
    "    #\n",
    "    A_ = []\n",
    "    for power in range(0,p):\n",
    "        B = []\n",
    "        for point in x:\n",
    "            point = np.array(point)\n",
    "           \n",
    "            B.append(np.power(point, power))\n",
    "        A_.append(B)\n",
    "    A = np.transpose(np.array(A_))\n",
    "    #\n",
    "    # ++++++++++++++++++++++++++++++++++++++++++++++++++\n",
    "\n",
    "    return A\n"
   ]
  },
  {
   "cell_type": "markdown",
   "metadata": {},
   "source": [
    "## construct vector $b$"
   ]
  },
  {
   "cell_type": "code",
   "execution_count": 14,
   "metadata": {},
   "outputs": [],
   "source": [
    "def construct_vector_b(y):\n",
    "\n",
    "    n = len(y)\n",
    "    b = np.zeros([n, 1])\n",
    "\n",
    "    # ++++++++++++++++++++++++++++++++++++++++++++++++++\n",
    "    # complete the blanks\n",
    "    #\n",
    "    for i, yy in enumerate(y):\n",
    "        b[i] = yy\n",
    "    \n",
    "    \n",
    "    #\n",
    "    # ++++++++++++++++++++++++++++++++++++++++++++++++++\n",
    "\n",
    "    return b\n"
   ]
  },
  {
   "cell_type": "markdown",
   "metadata": {},
   "source": [
    "## solve the linear system of equation $A z = b$\n",
    "- without regularization : $\\min \\frac{1}{2 n}\\| Az - b \\|^2, \\quad z = \\left( A^T A \\right)^{-1} A^T b$\n",
    "- useful functions : `np.matmul, np.linalg.inv, np.sum`"
   ]
  },
  {
   "cell_type": "code",
   "execution_count": 19,
   "metadata": {},
   "outputs": [
    {
     "output_type": "execute_result",
     "data": {
      "text/plain": [
       "(array([[ 0.5       ],\n",
       "        [-0.06081363]]),\n",
       " array([0.07027885]))"
      ]
     },
     "metadata": {},
     "execution_count": 19
    }
   ],
   "source": [
    "def solve_regression(x, y, p):\n",
    "\n",
    "    z       = np.zeros([p, 1])\n",
    "    loss    = 0\n",
    "\n",
    "    # ++++++++++++++++++++++++++++++++++++++++++++++++++\n",
    "    # complete the blanks\n",
    "    #\n",
    "    \n",
    "    A = construct_matrix_A(x,p)\n",
    "    AT = np.transpose(A)\n",
    "    b = construct_vector_b(y)\n",
    "\n",
    "    z = np.matmul(np.matmul(np.linalg.inv(np.matmul(AT,A)),AT),b)\n",
    "    norm = 0 \n",
    "    zz = np.matmul(A, z) - b\n",
    "    for zzz in zz:\n",
    "        norm += np.power(zzz, 2)\n",
    "    loss = norm /(2*len(x))    \n",
    "    #\n",
    "    # ++++++++++++++++++++++++++++++++++++++++++++++++++\n",
    "\n",
    "    return z, loss\n",
    "solve_regression(x,y,2)"
   ]
  },
  {
   "cell_type": "markdown",
   "metadata": {},
   "source": [
    "- with regularization : $\\min \\frac{1}{2 n} \\| A z - b \\|^2 + \\frac{\\alpha}{2} \\| z \\|^2, \\quad z = \\left(A^{T} A + n \\alpha I \\right)^{-1} A^T b$ where $I$ denotes identity matrix\n",
    "- useful functions : `np.matmul, np.linalg.inv, np.sum`"
   ]
  },
  {
   "cell_type": "code",
   "execution_count": null,
   "metadata": {},
   "outputs": [],
   "source": [
    "def solve_regression_with_regularization(x, y, p, alpha):\n",
    "\n",
    "    z       = np.zeros([p, 1])\n",
    "    loss    = 0\n",
    "\n",
    "    # ++++++++++++++++++++++++++++++++++++++++++++++++++\n",
    "    # complete the blanks\n",
    "    #\n",
    "    A = construct_matrix_A(x,p)\n",
    "    AT = np.transpose(A)\n",
    "    n = len(x)\n",
    "    I = np.identity(len(np.matmul(AT,A)))\n",
    "    b = construct_vector_b(y)\n",
    "\n",
    "    z = np.matmul(np.matmul(np.linalg.inv(np.matmul(AT,A)+ n*alpha*I),AT),b)\n",
    "    norm = 0 \n",
    "    for zz in z:\n",
    "        norm += np.power(zz, 2)\n",
    "    loss = norm /(2*len(x))  v\n",
    "    \n",
    "    \n",
    "    #\n",
    "    # ++++++++++++++++++++++++++++++++++++++++++++++++++\n",
    "\n",
    "    return z, loss"
   ]
  },
  {
   "cell_type": "markdown",
   "metadata": {},
   "source": [
    "## approximate by polynomial regression\n",
    "- $ \\hat{y} = A z^* $\n",
    "- useful functions : `np.matmul`"
   ]
  },
  {
   "cell_type": "code",
   "execution_count": null,
   "metadata": {},
   "outputs": [],
   "source": [
    "def approximate(x, y, p):\n",
    "\n",
    "    n       = len(y)\n",
    "    y_hat   = np.zeros([n, 1])\n",
    "    loss    = 0\n",
    "\n",
    "    # ++++++++++++++++++++++++++++++++++++++++++++++++++\n",
    "    # complete the blanks\n",
    "    #\n",
    "    \n",
    "    \n",
    "    \n",
    "    #\n",
    "    # ++++++++++++++++++++++++++++++++++++++++++++++++++\n",
    "\n",
    "    return y_hat, loss\n"
   ]
  },
  {
   "cell_type": "code",
   "execution_count": null,
   "metadata": {},
   "outputs": [],
   "source": [
    "def approximate_with_regularization(x, y, p, alpha):\n",
    "    \n",
    "    n       = len(y)\n",
    "    y_hat   = np.zeros([n, 1])\n",
    "    loss    = 0\n",
    "\n",
    "    # ++++++++++++++++++++++++++++++++++++++++++++++++++\n",
    "    # complete the blanks\n",
    "    #\n",
    "    \n",
    "    \n",
    "    \n",
    "    #\n",
    "    # ++++++++++++++++++++++++++++++++++++++++++++++++++\n",
    "\n",
    "    return y_hat, loss"
   ]
  },
  {
   "cell_type": "markdown",
   "metadata": {},
   "source": [
    "___"
   ]
  },
  {
   "cell_type": "markdown",
   "metadata": {},
   "source": [
    "___"
   ]
  },
  {
   "cell_type": "markdown",
   "metadata": {},
   "source": [
    "## functions for presenting the results"
   ]
  },
  {
   "cell_type": "markdown",
   "metadata": {},
   "source": [
    "___"
   ]
  },
  {
   "cell_type": "markdown",
   "metadata": {},
   "source": [
    "___"
   ]
  },
  {
   "cell_type": "code",
   "execution_count": null,
   "metadata": {},
   "outputs": [],
   "source": [
    "def function_result_01():\n",
    "    \n",
    "    plt.figure(figsize=(8,6))\n",
    "    plt.plot(x, y, '-', color='blue')\n",
    "    plt.title('data points')\n",
    "    plt.show()"
   ]
  },
  {
   "cell_type": "code",
   "execution_count": null,
   "metadata": {},
   "outputs": [],
   "source": [
    "def function_result_02():\n",
    "\n",
    "    p           = 2\n",
    "    (y_hat, _)  = approximate(x, y, p)\n",
    "\n",
    "    plt.figure(figsize=(8,6))\n",
    "    plt.plot(x, y, '-', color='blue')\n",
    "    plt.plot(x, y_hat, '-', color='red')\n",
    "    plt.show()"
   ]
  },
  {
   "cell_type": "code",
   "execution_count": null,
   "metadata": {},
   "outputs": [],
   "source": [
    "def function_result_03():\n",
    "\n",
    "    p           = 4\n",
    "    (y_hat, _)  = approximate(x, y, p)\n",
    "\n",
    "    plt.figure(figsize=(8,6))\n",
    "    plt.plot(x, y, '-', color='blue')\n",
    "    plt.plot(x, y_hat, '-', color='red')\n",
    "    plt.show()"
   ]
  },
  {
   "cell_type": "code",
   "execution_count": null,
   "metadata": {},
   "outputs": [],
   "source": [
    "def function_result_04():\n",
    "\n",
    "    p           = 8\n",
    "    (y_hat, _)  = approximate(x, y, p)\n",
    "\n",
    "    plt.figure(figsize=(8,6))\n",
    "    plt.plot(x, y, '-', color='blue')\n",
    "    plt.plot(x, y_hat, '-', color='red')\n",
    "    plt.show()"
   ]
  },
  {
   "cell_type": "code",
   "execution_count": null,
   "metadata": {},
   "outputs": [],
   "source": [
    "def function_result_05():\n",
    "\n",
    "    p           = 16\n",
    "    (y_hat, _)  = approximate(x, y, p)\n",
    "\n",
    "    plt.figure(figsize=(8,6))\n",
    "    plt.plot(x, y, '-', color='blue')\n",
    "    plt.plot(x, y_hat, '-', color='red')\n",
    "    plt.show()"
   ]
  },
  {
   "cell_type": "code",
   "execution_count": null,
   "metadata": {},
   "outputs": [],
   "source": [
    "def function_result_06():\n",
    "\n",
    "    p           = 32 \n",
    "    (y_hat, _)  = approximate(x, y, p)\n",
    "\n",
    "    plt.figure(figsize=(8,6))\n",
    "    plt.plot(x, y, '-', color='blue')\n",
    "    plt.plot(x, y_hat, '-', color='red')\n",
    "    plt.show()"
   ]
  },
  {
   "cell_type": "code",
   "execution_count": null,
   "metadata": {},
   "outputs": [],
   "source": [
    "def function_result_07():\n",
    "\n",
    "    p           = 2 \n",
    "    alpha       = 0.1\n",
    "    (y_hat, _)  = approximate_with_regularization(x, y, p, alpha)\n",
    "\n",
    "    plt.figure(figsize=(8,6))\n",
    "    plt.plot(x, y, '-', color='blue')\n",
    "    plt.plot(x, y_hat, '-', color='red')\n",
    "    plt.show()"
   ]
  },
  {
   "cell_type": "code",
   "execution_count": null,
   "metadata": {},
   "outputs": [],
   "source": [
    "def function_result_08():\n",
    "\n",
    "    p           = 4 \n",
    "    alpha       = 0.1\n",
    "    (y_hat, _)  = approximate_with_regularization(x, y, p, alpha)\n",
    "\n",
    "    plt.figure(figsize=(8,6))\n",
    "    plt.plot(x, y, '-', color='blue')\n",
    "    plt.plot(x, y_hat, '-', color='red')\n",
    "    plt.show()"
   ]
  },
  {
   "cell_type": "code",
   "execution_count": null,
   "metadata": {},
   "outputs": [],
   "source": [
    "def function_result_09():\n",
    "\n",
    "    p           = 8 \n",
    "    alpha       = 0.1\n",
    "    (y_hat, _)  = approximate_with_regularization(x, y, p, alpha)\n",
    "\n",
    "    plt.figure(figsize=(8,6))\n",
    "    plt.plot(x, y, '-', color='blue')\n",
    "    plt.plot(x, y_hat, '-', color='red')\n",
    "    plt.show()"
   ]
  },
  {
   "cell_type": "code",
   "execution_count": null,
   "metadata": {},
   "outputs": [],
   "source": [
    "def function_result_10():\n",
    "\n",
    "    p           = 16 \n",
    "    alpha       = 0.1\n",
    "    (y_hat, _)  = approximate_with_regularization(x, y, p, alpha)\n",
    "\n",
    "    plt.figure(figsize=(8,6))\n",
    "    plt.plot(x, y, '-', color='blue')\n",
    "    plt.plot(x, y_hat, '-', color='red')\n",
    "    plt.show()"
   ]
  },
  {
   "cell_type": "code",
   "execution_count": null,
   "metadata": {},
   "outputs": [],
   "source": [
    "def function_result_11():\n",
    "\n",
    "    p           = 32 \n",
    "    alpha       = 0.1\n",
    "    (y_hat, _)  = approximate_with_regularization(x, y, p, alpha)\n",
    "\n",
    "    plt.figure(figsize=(8,6))\n",
    "    plt.plot(x, y, '-', color='blue')\n",
    "    plt.plot(x, y_hat, '-', color='red')\n",
    "    plt.show()"
   ]
  },
  {
   "cell_type": "code",
   "execution_count": null,
   "metadata": {},
   "outputs": [],
   "source": [
    "def function_result_12():\n",
    "\n",
    "    p           = 4\n",
    "    (_, loss)   = approximate(x, y, p)\n",
    "\n",
    "    print('loss = ', loss)"
   ]
  },
  {
   "cell_type": "code",
   "execution_count": null,
   "metadata": {},
   "outputs": [],
   "source": [
    "def function_result_13():\n",
    "\n",
    "    p           = 16\n",
    "    (_, loss)   = approximate(x, y, p)\n",
    "\n",
    "    print('loss = ', loss)"
   ]
  },
  {
   "cell_type": "code",
   "execution_count": null,
   "metadata": {},
   "outputs": [],
   "source": [
    "def function_result_14():\n",
    "\n",
    "    p           = 4\n",
    "    alpha       = 0.1\n",
    "    (_, loss)   = approximate_with_regularization(x, y, p, alpha)\n",
    "\n",
    "    print('loss = ', loss)"
   ]
  },
  {
   "cell_type": "code",
   "execution_count": null,
   "metadata": {},
   "outputs": [],
   "source": [
    "def function_result_15():\n",
    "\n",
    "    p           = 16 \n",
    "    alpha       = 0.1\n",
    "    (_, loss)   = approximate_with_regularization(x, y, p, alpha)\n",
    "\n",
    "    print('loss = ', loss)"
   ]
  },
  {
   "cell_type": "markdown",
   "metadata": {},
   "source": [
    "___"
   ]
  },
  {
   "cell_type": "markdown",
   "metadata": {},
   "source": [
    "___"
   ]
  },
  {
   "cell_type": "markdown",
   "metadata": {},
   "source": [
    "# results"
   ]
  },
  {
   "cell_type": "markdown",
   "metadata": {},
   "source": [
    "___"
   ]
  },
  {
   "cell_type": "markdown",
   "metadata": {},
   "source": [
    "___"
   ]
  },
  {
   "cell_type": "code",
   "execution_count": null,
   "metadata": {},
   "outputs": [],
   "source": [
    "number_result = 15\n",
    "\n",
    "for i in range(number_result):\n",
    "    title = '## [RESULT {:02d}]'.format(i+1)\n",
    "    name_function = 'function_result_{:02d}()'.format(i+1)\n",
    "\n",
    "    print('**************************************************')\n",
    "    print(title)\n",
    "    print('**************************************************')\n",
    "    eval(name_function)"
   ]
  }
 ],
 "metadata": {
  "kernelspec": {
   "display_name": "Python 3 (ipykernel)",
   "language": "python",
   "name": "python3"
  },
  "language_info": {
   "codemirror_mode": {
    "name": "ipython",
    "version": 3
   },
   "file_extension": ".py",
   "mimetype": "text/x-python",
   "name": "python",
   "nbconvert_exporter": "python",
   "pygments_lexer": "ipython3",
   "version": "3.9.10-final"
  }
 },
 "nbformat": 4,
 "nbformat_minor": 2
}