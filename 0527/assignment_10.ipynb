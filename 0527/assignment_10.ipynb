{
 "cells": [
  {
   "cell_type": "markdown",
   "metadata": {},
   "source": [
    "# Logistic Regression with non-linear features"
   ]
  },
  {
   "cell_type": "markdown",
   "metadata": {},
   "source": [
    "## import library"
   ]
  },
  {
   "cell_type": "code",
   "execution_count": 1,
   "metadata": {},
   "outputs": [],
   "source": [
    "import numpy as np\n",
    "import matplotlib.pyplot as plt\n",
    "import matplotlib.colors as colors\n",
    "from matplotlib import ticker, cm"
   ]
  },
  {
   "cell_type": "markdown",
   "metadata": {},
   "source": [
    "## load training data"
   ]
  },
  {
   "cell_type": "code",
   "execution_count": 2,
   "metadata": {},
   "outputs": [
    {
     "output_type": "stream",
     "name": "stdout",
     "text": [
      "shape of point in train data =  (500, 2)\nshape of point in test data =  (500, 2)\nshape of label in train data =  (500,)\nshape of label in test data =  (500,)\ndata type of point x in train data =  float64\ndata type of point y in train data =  float64\ndata type of point x in test data =  float64\ndata type of point y in test data =  float64\n"
     ]
    }
   ],
   "source": [
    "fname_data_train    = 'assignment_10_data_train.csv'\n",
    "fname_data_test     = 'assignment_10_data_test.csv'\n",
    "\n",
    "data_train          = np.genfromtxt(fname_data_train, delimiter=',')\n",
    "data_test           = np.genfromtxt(fname_data_test, delimiter=',')\n",
    "\n",
    "number_data_train   = data_train.shape[0]\n",
    "number_data_test    = data_test.shape[0]\n",
    "\n",
    "data_train_point    = data_train[:, 0:2]\n",
    "data_train_point_x  = data_train_point[:, 0]\n",
    "data_train_point_y  = data_train_point[:, 1]\n",
    "data_train_label    = data_train[:, 2]\n",
    "\n",
    "data_test_point     = data_test[:, 0:2]\n",
    "data_test_point_x   = data_test_point[:, 0]\n",
    "data_test_point_y   = data_test_point[:, 1]\n",
    "data_test_label     = data_test[:, 2]\n",
    "\n",
    "data_train_label_class_0    = (data_train_label == 0)\n",
    "data_train_label_class_1    = (data_train_label == 1)\n",
    "\n",
    "data_test_label_class_0     = (data_test_label == 0)\n",
    "data_test_label_class_1     = (data_test_label == 1)\n",
    "\n",
    "data_train_point_x_class_0  = data_train_point_x[data_train_label_class_0]\n",
    "data_train_point_y_class_0  = data_train_point_y[data_train_label_class_0]\n",
    "\n",
    "data_train_point_x_class_1  = data_train_point_x[data_train_label_class_1]\n",
    "data_train_point_y_class_1  = data_train_point_y[data_train_label_class_1]\n",
    "\n",
    "data_test_point_x_class_0   = data_test_point_x[data_test_label_class_0]\n",
    "data_test_point_y_class_0   = data_test_point_y[data_test_label_class_0]\n",
    "\n",
    "data_test_point_x_class_1   = data_test_point_x[data_test_label_class_1]\n",
    "data_test_point_y_class_1   = data_test_point_y[data_test_label_class_1]\n",
    "\n",
    "print('shape of point in train data = ', data_train_point.shape)\n",
    "print('shape of point in test data = ', data_train_point.shape)\n",
    "\n",
    "print('shape of label in train data = ', data_test_label.shape)\n",
    "print('shape of label in test data = ', data_test_label.shape)\n",
    "\n",
    "print('data type of point x in train data = ', data_train_point_x.dtype)\n",
    "print('data type of point y in train data = ', data_train_point_y.dtype)\n",
    "\n",
    "print('data type of point x in test data = ', data_test_point_x.dtype)\n",
    "print('data type of point y in test data = ', data_test_point_y.dtype)\n"
   ]
  },
  {
   "cell_type": "markdown",
   "metadata": {},
   "source": [
    "## plot the data"
   ]
  },
  {
   "cell_type": "code",
   "execution_count": 3,
   "metadata": {},
   "outputs": [
    {
     "output_type": "display_data",
     "data": {
      "text/plain": "<Figure size 576x576 with 1 Axes>",
      "image/svg+xml": "<?xml version=\"1.0\" encoding=\"utf-8\" standalone=\"no\"?>\n<!DOCTYPE svg PUBLIC \"-//W3C//DTD SVG 1.1//EN\"\n  \"http://www.w3.org/Graphics/SVG/1.1/DTD/svg11.dtd\">\n<svg xmlns:xlink=\"http://www.w3.org/1999/xlink\" width=\"568.832813pt\" height=\"567.59625pt\" viewBox=\"0 0 568.832813 567.59625\" xmlns=\"http://www.w3.org/2000/svg\" version=\"1.1\">\n <metadata>\n  <rdf:RDF xmlns:dc=\"http://purl.org/dc/elements/1.1/\" xmlns:cc=\"http://creativecommons.org/ns#\" xmlns:rdf=\"http://www.w3.org/1999/02/22-rdf-syntax-ns#\">\n   <cc:Work>\n    <dc:type rdf:resource=\"http://purl.org/dc/dcmitype/StillImage\"/>\n    <dc:date>2022-05-27T06:30:58.043323</dc:date>\n    <dc:format>image/svg+xml</dc:format>\n    <dc:creator>\n     <cc:Agent>\n      <dc:title>Matplotlib v3.5.1, https://matplotlib.org/</dc:title>\n     </cc:Agent>\n    </dc:creator>\n   </cc:Work>\n  </rdf:RDF>\n </metadata>\n <defs>\n  <style type=\"text/css\">*{stroke-linejoin: round; stroke-linecap: butt}</style>\n </defs>\n <g id=\"figure_1\">\n  <g id=\"patch_1\">\n   <path d=\"M 0 567.59625 \nL 568.832813 567.59625 \nL 568.832813 0 \nL 0 0 \nL 0 567.59625 \nz\n\" style=\"fill: none\"/>\n  </g>\n  <g id=\"axes_1\">\n   <g id=\"patch_2\">\n    <path d=\"M 38.482813 543.718125 \nL 561.632812 543.718125 \nL 561.632812 22.318125 \nL 38.482813 22.318125 \nz\n\" style=\"fill: #ffffff\"/>\n   </g>\n   <g id=\"matplotlib.axis_1\">\n    <g id=\"xtick_1\">\n     <g id=\"line2d_1\">\n      <defs>\n       <path id=\"m82bf26391b\" d=\"M 0 0 \nL 0 3.5 \n\" style=\"stroke: #000000; stroke-width: 0.8\"/>\n      </defs>\n      <g>\n       <use xlink:href=\"#m82bf26391b\" x=\"71.817838\" y=\"543.718125\" style=\"stroke: #000000; stroke-width: 0.8\"/>\n      </g>\n     </g>\n     <g id=\"text_1\">\n      <!-- −1.0 -->\n      <g transform=\"translate(59.676431 558.316562)scale(0.1 -0.1)\">\n       <defs>\n        <path id=\"DejaVuSans-2212\" d=\"M 678 2272 \nL 4684 2272 \nL 4684 1741 \nL 678 1741 \nL 678 2272 \nz\n\" transform=\"scale(0.015625)\"/>\n        <path id=\"DejaVuSans-31\" d=\"M 794 531 \nL 1825 531 \nL 1825 4091 \nL 703 3866 \nL 703 4441 \nL 1819 4666 \nL 2450 4666 \nL 2450 531 \nL 3481 531 \nL 3481 0 \nL 794 0 \nL 794 531 \nz\n\" transform=\"scale(0.015625)\"/>\n        <path id=\"DejaVuSans-2e\" d=\"M 684 794 \nL 1344 794 \nL 1344 0 \nL 684 0 \nL 684 794 \nz\n\" transform=\"scale(0.015625)\"/>\n        <path id=\"DejaVuSans-30\" d=\"M 2034 4250 \nQ 1547 4250 1301 3770 \nQ 1056 3291 1056 2328 \nQ 1056 1369 1301 889 \nQ 1547 409 2034 409 \nQ 2525 409 2770 889 \nQ 3016 1369 3016 2328 \nQ 3016 3291 2770 3770 \nQ 2525 4250 2034 4250 \nz\nM 2034 4750 \nQ 2819 4750 3233 4129 \nQ 3647 3509 3647 2328 \nQ 3647 1150 3233 529 \nQ 2819 -91 2034 -91 \nQ 1250 -91 836 529 \nQ 422 1150 422 2328 \nQ 422 3509 836 4129 \nQ 1250 4750 2034 4750 \nz\n\" transform=\"scale(0.015625)\"/>\n       </defs>\n       <use xlink:href=\"#DejaVuSans-2212\"/>\n       <use xlink:href=\"#DejaVuSans-31\" x=\"83.789062\"/>\n       <use xlink:href=\"#DejaVuSans-2e\" x=\"147.412109\"/>\n       <use xlink:href=\"#DejaVuSans-30\" x=\"179.199219\"/>\n      </g>\n     </g>\n    </g>\n    <g id=\"xtick_2\">\n     <g id=\"line2d_2\">\n      <g>\n       <use xlink:href=\"#m82bf26391b\" x=\"131.428578\" y=\"543.718125\" style=\"stroke: #000000; stroke-width: 0.8\"/>\n      </g>\n     </g>\n     <g id=\"text_2\">\n      <!-- −0.5 -->\n      <g transform=\"translate(119.287172 558.316562)scale(0.1 -0.1)\">\n       <defs>\n        <path id=\"DejaVuSans-35\" d=\"M 691 4666 \nL 3169 4666 \nL 3169 4134 \nL 1269 4134 \nL 1269 2991 \nQ 1406 3038 1543 3061 \nQ 1681 3084 1819 3084 \nQ 2600 3084 3056 2656 \nQ 3513 2228 3513 1497 \nQ 3513 744 3044 326 \nQ 2575 -91 1722 -91 \nQ 1428 -91 1123 -41 \nQ 819 9 494 109 \nL 494 744 \nQ 775 591 1075 516 \nQ 1375 441 1709 441 \nQ 2250 441 2565 725 \nQ 2881 1009 2881 1497 \nQ 2881 1984 2565 2268 \nQ 2250 2553 1709 2553 \nQ 1456 2553 1204 2497 \nQ 953 2441 691 2322 \nL 691 4666 \nz\n\" transform=\"scale(0.015625)\"/>\n       </defs>\n       <use xlink:href=\"#DejaVuSans-2212\"/>\n       <use xlink:href=\"#DejaVuSans-30\" x=\"83.789062\"/>\n       <use xlink:href=\"#DejaVuSans-2e\" x=\"147.412109\"/>\n       <use xlink:href=\"#DejaVuSans-35\" x=\"179.199219\"/>\n      </g>\n     </g>\n    </g>\n    <g id=\"xtick_3\">\n     <g id=\"line2d_3\">\n      <g>\n       <use xlink:href=\"#m82bf26391b\" x=\"191.039318\" y=\"543.718125\" style=\"stroke: #000000; stroke-width: 0.8\"/>\n      </g>\n     </g>\n     <g id=\"text_3\">\n      <!-- 0.0 -->\n      <g transform=\"translate(183.087756 558.316562)scale(0.1 -0.1)\">\n       <use xlink:href=\"#DejaVuSans-30\"/>\n       <use xlink:href=\"#DejaVuSans-2e\" x=\"63.623047\"/>\n       <use xlink:href=\"#DejaVuSans-30\" x=\"95.410156\"/>\n      </g>\n     </g>\n    </g>\n    <g id=\"xtick_4\">\n     <g id=\"line2d_4\">\n      <g>\n       <use xlink:href=\"#m82bf26391b\" x=\"250.650059\" y=\"543.718125\" style=\"stroke: #000000; stroke-width: 0.8\"/>\n      </g>\n     </g>\n     <g id=\"text_4\">\n      <!-- 0.5 -->\n      <g transform=\"translate(242.698496 558.316562)scale(0.1 -0.1)\">\n       <use xlink:href=\"#DejaVuSans-30\"/>\n       <use xlink:href=\"#DejaVuSans-2e\" x=\"63.623047\"/>\n       <use xlink:href=\"#DejaVuSans-35\" x=\"95.410156\"/>\n      </g>\n     </g>\n    </g>\n    <g id=\"xtick_5\">\n     <g id=\"line2d_5\">\n      <g>\n       <use xlink:href=\"#m82bf26391b\" x=\"310.260799\" y=\"543.718125\" style=\"stroke: #000000; stroke-width: 0.8\"/>\n      </g>\n     </g>\n     <g id=\"text_5\">\n      <!-- 1.0 -->\n      <g transform=\"translate(302.309237 558.316562)scale(0.1 -0.1)\">\n       <use xlink:href=\"#DejaVuSans-31\"/>\n       <use xlink:href=\"#DejaVuSans-2e\" x=\"63.623047\"/>\n       <use xlink:href=\"#DejaVuSans-30\" x=\"95.410156\"/>\n      </g>\n     </g>\n    </g>\n    <g id=\"xtick_6\">\n     <g id=\"line2d_6\">\n      <g>\n       <use xlink:href=\"#m82bf26391b\" x=\"369.871539\" y=\"543.718125\" style=\"stroke: #000000; stroke-width: 0.8\"/>\n      </g>\n     </g>\n     <g id=\"text_6\">\n      <!-- 1.5 -->\n      <g transform=\"translate(361.919977 558.316562)scale(0.1 -0.1)\">\n       <use xlink:href=\"#DejaVuSans-31\"/>\n       <use xlink:href=\"#DejaVuSans-2e\" x=\"63.623047\"/>\n       <use xlink:href=\"#DejaVuSans-35\" x=\"95.410156\"/>\n      </g>\n     </g>\n    </g>\n    <g id=\"xtick_7\">\n     <g id=\"line2d_7\">\n      <g>\n       <use xlink:href=\"#m82bf26391b\" x=\"429.48228\" y=\"543.718125\" style=\"stroke: #000000; stroke-width: 0.8\"/>\n      </g>\n     </g>\n     <g id=\"text_7\">\n      <!-- 2.0 -->\n      <g transform=\"translate(421.530717 558.316562)scale(0.1 -0.1)\">\n       <defs>\n        <path id=\"DejaVuSans-32\" d=\"M 1228 531 \nL 3431 531 \nL 3431 0 \nL 469 0 \nL 469 531 \nQ 828 903 1448 1529 \nQ 2069 2156 2228 2338 \nQ 2531 2678 2651 2914 \nQ 2772 3150 2772 3378 \nQ 2772 3750 2511 3984 \nQ 2250 4219 1831 4219 \nQ 1534 4219 1204 4116 \nQ 875 4013 500 3803 \nL 500 4441 \nQ 881 4594 1212 4672 \nQ 1544 4750 1819 4750 \nQ 2544 4750 2975 4387 \nQ 3406 4025 3406 3419 \nQ 3406 3131 3298 2873 \nQ 3191 2616 2906 2266 \nQ 2828 2175 2409 1742 \nQ 1991 1309 1228 531 \nz\n\" transform=\"scale(0.015625)\"/>\n       </defs>\n       <use xlink:href=\"#DejaVuSans-32\"/>\n       <use xlink:href=\"#DejaVuSans-2e\" x=\"63.623047\"/>\n       <use xlink:href=\"#DejaVuSans-30\" x=\"95.410156\"/>\n      </g>\n     </g>\n    </g>\n    <g id=\"xtick_8\">\n     <g id=\"line2d_8\">\n      <g>\n       <use xlink:href=\"#m82bf26391b\" x=\"489.09302\" y=\"543.718125\" style=\"stroke: #000000; stroke-width: 0.8\"/>\n      </g>\n     </g>\n     <g id=\"text_8\">\n      <!-- 2.5 -->\n      <g transform=\"translate(481.141458 558.316562)scale(0.1 -0.1)\">\n       <use xlink:href=\"#DejaVuSans-32\"/>\n       <use xlink:href=\"#DejaVuSans-2e\" x=\"63.623047\"/>\n       <use xlink:href=\"#DejaVuSans-35\" x=\"95.410156\"/>\n      </g>\n     </g>\n    </g>\n    <g id=\"xtick_9\">\n     <g id=\"line2d_9\">\n      <g>\n       <use xlink:href=\"#m82bf26391b\" x=\"548.70376\" y=\"543.718125\" style=\"stroke: #000000; stroke-width: 0.8\"/>\n      </g>\n     </g>\n     <g id=\"text_9\">\n      <!-- 3.0 -->\n      <g transform=\"translate(540.752198 558.316562)scale(0.1 -0.1)\">\n       <defs>\n        <path id=\"DejaVuSans-33\" d=\"M 2597 2516 \nQ 3050 2419 3304 2112 \nQ 3559 1806 3559 1356 \nQ 3559 666 3084 287 \nQ 2609 -91 1734 -91 \nQ 1441 -91 1130 -33 \nQ 819 25 488 141 \nL 488 750 \nQ 750 597 1062 519 \nQ 1375 441 1716 441 \nQ 2309 441 2620 675 \nQ 2931 909 2931 1356 \nQ 2931 1769 2642 2001 \nQ 2353 2234 1838 2234 \nL 1294 2234 \nL 1294 2753 \nL 1863 2753 \nQ 2328 2753 2575 2939 \nQ 2822 3125 2822 3475 \nQ 2822 3834 2567 4026 \nQ 2313 4219 1838 4219 \nQ 1578 4219 1281 4162 \nQ 984 4106 628 3988 \nL 628 4550 \nQ 988 4650 1302 4700 \nQ 1616 4750 1894 4750 \nQ 2613 4750 3031 4423 \nQ 3450 4097 3450 3541 \nQ 3450 3153 3228 2886 \nQ 3006 2619 2597 2516 \nz\n\" transform=\"scale(0.015625)\"/>\n       </defs>\n       <use xlink:href=\"#DejaVuSans-33\"/>\n       <use xlink:href=\"#DejaVuSans-2e\" x=\"63.623047\"/>\n       <use xlink:href=\"#DejaVuSans-30\" x=\"95.410156\"/>\n      </g>\n     </g>\n    </g>\n   </g>\n   <g id=\"matplotlib.axis_2\">\n    <g id=\"ytick_1\">\n     <g id=\"line2d_10\">\n      <defs>\n       <path id=\"m1e3f0c3cce\" d=\"M 0 0 \nL -3.5 0 \n\" style=\"stroke: #000000; stroke-width: 0.8\"/>\n      </defs>\n      <g>\n       <use xlink:href=\"#m1e3f0c3cce\" x=\"38.482813\" y=\"492.427329\" style=\"stroke: #000000; stroke-width: 0.8\"/>\n      </g>\n     </g>\n     <g id=\"text_10\">\n      <!-- −1.0 -->\n      <g transform=\"translate(7.2 496.226547)scale(0.1 -0.1)\">\n       <use xlink:href=\"#DejaVuSans-2212\"/>\n       <use xlink:href=\"#DejaVuSans-31\" x=\"83.789062\"/>\n       <use xlink:href=\"#DejaVuSans-2e\" x=\"147.412109\"/>\n       <use xlink:href=\"#DejaVuSans-30\" x=\"179.199219\"/>\n      </g>\n     </g>\n    </g>\n    <g id=\"ytick_2\">\n     <g id=\"line2d_11\">\n      <g>\n       <use xlink:href=\"#m1e3f0c3cce\" x=\"38.482813\" y=\"432.816588\" style=\"stroke: #000000; stroke-width: 0.8\"/>\n      </g>\n     </g>\n     <g id=\"text_11\">\n      <!-- −0.5 -->\n      <g transform=\"translate(7.2 436.615807)scale(0.1 -0.1)\">\n       <use xlink:href=\"#DejaVuSans-2212\"/>\n       <use xlink:href=\"#DejaVuSans-30\" x=\"83.789062\"/>\n       <use xlink:href=\"#DejaVuSans-2e\" x=\"147.412109\"/>\n       <use xlink:href=\"#DejaVuSans-35\" x=\"179.199219\"/>\n      </g>\n     </g>\n    </g>\n    <g id=\"ytick_3\">\n     <g id=\"line2d_12\">\n      <g>\n       <use xlink:href=\"#m1e3f0c3cce\" x=\"38.482813\" y=\"373.205848\" style=\"stroke: #000000; stroke-width: 0.8\"/>\n      </g>\n     </g>\n     <g id=\"text_12\">\n      <!-- 0.0 -->\n      <g transform=\"translate(15.579688 377.005067)scale(0.1 -0.1)\">\n       <use xlink:href=\"#DejaVuSans-30\"/>\n       <use xlink:href=\"#DejaVuSans-2e\" x=\"63.623047\"/>\n       <use xlink:href=\"#DejaVuSans-30\" x=\"95.410156\"/>\n      </g>\n     </g>\n    </g>\n    <g id=\"ytick_4\">\n     <g id=\"line2d_13\">\n      <g>\n       <use xlink:href=\"#m1e3f0c3cce\" x=\"38.482813\" y=\"313.595108\" style=\"stroke: #000000; stroke-width: 0.8\"/>\n      </g>\n     </g>\n     <g id=\"text_13\">\n      <!-- 0.5 -->\n      <g transform=\"translate(15.579688 317.394326)scale(0.1 -0.1)\">\n       <use xlink:href=\"#DejaVuSans-30\"/>\n       <use xlink:href=\"#DejaVuSans-2e\" x=\"63.623047\"/>\n       <use xlink:href=\"#DejaVuSans-35\" x=\"95.410156\"/>\n      </g>\n     </g>\n    </g>\n    <g id=\"ytick_5\">\n     <g id=\"line2d_14\">\n      <g>\n       <use xlink:href=\"#m1e3f0c3cce\" x=\"38.482813\" y=\"253.984367\" style=\"stroke: #000000; stroke-width: 0.8\"/>\n      </g>\n     </g>\n     <g id=\"text_14\">\n      <!-- 1.0 -->\n      <g transform=\"translate(15.579688 257.783586)scale(0.1 -0.1)\">\n       <use xlink:href=\"#DejaVuSans-31\"/>\n       <use xlink:href=\"#DejaVuSans-2e\" x=\"63.623047\"/>\n       <use xlink:href=\"#DejaVuSans-30\" x=\"95.410156\"/>\n      </g>\n     </g>\n    </g>\n    <g id=\"ytick_6\">\n     <g id=\"line2d_15\">\n      <g>\n       <use xlink:href=\"#m1e3f0c3cce\" x=\"38.482813\" y=\"194.373627\" style=\"stroke: #000000; stroke-width: 0.8\"/>\n      </g>\n     </g>\n     <g id=\"text_15\">\n      <!-- 1.5 -->\n      <g transform=\"translate(15.579688 198.172846)scale(0.1 -0.1)\">\n       <use xlink:href=\"#DejaVuSans-31\"/>\n       <use xlink:href=\"#DejaVuSans-2e\" x=\"63.623047\"/>\n       <use xlink:href=\"#DejaVuSans-35\" x=\"95.410156\"/>\n      </g>\n     </g>\n    </g>\n    <g id=\"ytick_7\">\n     <g id=\"line2d_16\">\n      <g>\n       <use xlink:href=\"#m1e3f0c3cce\" x=\"38.482813\" y=\"134.762887\" style=\"stroke: #000000; stroke-width: 0.8\"/>\n      </g>\n     </g>\n     <g id=\"text_16\">\n      <!-- 2.0 -->\n      <g transform=\"translate(15.579688 138.562105)scale(0.1 -0.1)\">\n       <use xlink:href=\"#DejaVuSans-32\"/>\n       <use xlink:href=\"#DejaVuSans-2e\" x=\"63.623047\"/>\n       <use xlink:href=\"#DejaVuSans-30\" x=\"95.410156\"/>\n      </g>\n     </g>\n    </g>\n    <g id=\"ytick_8\">\n     <g id=\"line2d_17\">\n      <g>\n       <use xlink:href=\"#m1e3f0c3cce\" x=\"38.482813\" y=\"75.152146\" style=\"stroke: #000000; stroke-width: 0.8\"/>\n      </g>\n     </g>\n     <g id=\"text_17\">\n      <!-- 2.5 -->\n      <g transform=\"translate(15.579688 78.951365)scale(0.1 -0.1)\">\n       <use xlink:href=\"#DejaVuSans-32\"/>\n       <use xlink:href=\"#DejaVuSans-2e\" x=\"63.623047\"/>\n       <use xlink:href=\"#DejaVuSans-35\" x=\"95.410156\"/>\n      </g>\n     </g>\n    </g>\n   </g>\n   <g id=\"line2d_18\">\n    <defs>\n     <path id=\"mdf7c279de0\" d=\"M 0 3 \nC 0.795609 3 1.55874 2.683901 2.12132 2.12132 \nC 2.683901 1.55874 3 0.795609 3 0 \nC 3 -0.795609 2.683901 -1.55874 2.12132 -2.12132 \nC 1.55874 -2.683901 0.795609 -3 0 -3 \nC -0.795609 -3 -1.55874 -2.683901 -2.12132 -2.12132 \nC -2.683901 -1.55874 -3 -0.795609 -3 0 \nC -3 0.795609 -2.683901 1.55874 -2.12132 2.12132 \nC -1.55874 2.683901 -0.795609 3 0 3 \nz\n\" style=\"stroke: #0000ff\"/>\n    </defs>\n    <g clip-path=\"url(#p4305c4dadd)\">\n     <use xlink:href=\"#mdf7c279de0\" x=\"326.379276\" y=\"373.716579\" style=\"fill: #0000ff; stroke: #0000ff\"/>\n     <use xlink:href=\"#mdf7c279de0\" x=\"323.824819\" y=\"318.586473\" style=\"fill: #0000ff; stroke: #0000ff\"/>\n     <use xlink:href=\"#mdf7c279de0\" x=\"397.030513\" y=\"347.908873\" style=\"fill: #0000ff; stroke: #0000ff\"/>\n     <use xlink:href=\"#mdf7c279de0\" x=\"423.669736\" y=\"325.165047\" style=\"fill: #0000ff; stroke: #0000ff\"/>\n     <use xlink:href=\"#mdf7c279de0\" x=\"325.146967\" y=\"335.580766\" style=\"fill: #0000ff; stroke: #0000ff\"/>\n     <use xlink:href=\"#mdf7c279de0\" x=\"426.493782\" y=\"341.446972\" style=\"fill: #0000ff; stroke: #0000ff\"/>\n     <use xlink:href=\"#mdf7c279de0\" x=\"381.345286\" y=\"352.951996\" style=\"fill: #0000ff; stroke: #0000ff\"/>\n     <use xlink:href=\"#mdf7c279de0\" x=\"356.295611\" y=\"251.967081\" style=\"fill: #0000ff; stroke: #0000ff\"/>\n     <use xlink:href=\"#mdf7c279de0\" x=\"394.74489\" y=\"248.536625\" style=\"fill: #0000ff; stroke: #0000ff\"/>\n     <use xlink:href=\"#mdf7c279de0\" x=\"362.701321\" y=\"265.753333\" style=\"fill: #0000ff; stroke: #0000ff\"/>\n     <use xlink:href=\"#mdf7c279de0\" x=\"341.446829\" y=\"321.04263\" style=\"fill: #0000ff; stroke: #0000ff\"/>\n     <use xlink:href=\"#mdf7c279de0\" x=\"392.912551\" y=\"275.366679\" style=\"fill: #0000ff; stroke: #0000ff\"/>\n     <use xlink:href=\"#mdf7c279de0\" x=\"386.827423\" y=\"269.946028\" style=\"fill: #0000ff; stroke: #0000ff\"/>\n     <use xlink:href=\"#mdf7c279de0\" x=\"399.31029\" y=\"259.778861\" style=\"fill: #0000ff; stroke: #0000ff\"/>\n     <use xlink:href=\"#mdf7c279de0\" x=\"338.556806\" y=\"349.904668\" style=\"fill: #0000ff; stroke: #0000ff\"/>\n     <use xlink:href=\"#mdf7c279de0\" x=\"362.192448\" y=\"321.288134\" style=\"fill: #0000ff; stroke: #0000ff\"/>\n     <use xlink:href=\"#mdf7c279de0\" x=\"387.547377\" y=\"298.439406\" style=\"fill: #0000ff; stroke: #0000ff\"/>\n     <use xlink:href=\"#mdf7c279de0\" x=\"335.501088\" y=\"322.19893\" style=\"fill: #0000ff; stroke: #0000ff\"/>\n     <use xlink:href=\"#mdf7c279de0\" x=\"384.262368\" y=\"328.521592\" style=\"fill: #0000ff; stroke: #0000ff\"/>\n     <use xlink:href=\"#mdf7c279de0\" x=\"363.127661\" y=\"328.445169\" style=\"fill: #0000ff; stroke: #0000ff\"/>\n     <use xlink:href=\"#mdf7c279de0\" x=\"330.637151\" y=\"278.839626\" style=\"fill: #0000ff; stroke: #0000ff\"/>\n     <use xlink:href=\"#mdf7c279de0\" x=\"368.377319\" y=\"311.271083\" style=\"fill: #0000ff; stroke: #0000ff\"/>\n     <use xlink:href=\"#mdf7c279de0\" x=\"323.630251\" y=\"322.253993\" style=\"fill: #0000ff; stroke: #0000ff\"/>\n     <use xlink:href=\"#mdf7c279de0\" x=\"380.992533\" y=\"264.186963\" style=\"fill: #0000ff; stroke: #0000ff\"/>\n     <use xlink:href=\"#mdf7c279de0\" x=\"341.064307\" y=\"245.777837\" style=\"fill: #0000ff; stroke: #0000ff\"/>\n     <use xlink:href=\"#mdf7c279de0\" x=\"351.810414\" y=\"316.635711\" style=\"fill: #0000ff; stroke: #0000ff\"/>\n     <use xlink:href=\"#mdf7c279de0\" x=\"370.254948\" y=\"282.97412\" style=\"fill: #0000ff; stroke: #0000ff\"/>\n     <use xlink:href=\"#mdf7c279de0\" x=\"422.453832\" y=\"268.577717\" style=\"fill: #0000ff; stroke: #0000ff\"/>\n     <use xlink:href=\"#mdf7c279de0\" x=\"382.561624\" y=\"227.15824\" style=\"fill: #0000ff; stroke: #0000ff\"/>\n     <use xlink:href=\"#mdf7c279de0\" x=\"398.525032\" y=\"293.737616\" style=\"fill: #0000ff; stroke: #0000ff\"/>\n     <use xlink:href=\"#mdf7c279de0\" x=\"371.166274\" y=\"215.330142\" style=\"fill: #0000ff; stroke: #0000ff\"/>\n     <use xlink:href=\"#mdf7c279de0\" x=\"319.698241\" y=\"210.95399\" style=\"fill: #0000ff; stroke: #0000ff\"/>\n     <use xlink:href=\"#mdf7c279de0\" x=\"407.838322\" y=\"349.335813\" style=\"fill: #0000ff; stroke: #0000ff\"/>\n     <use xlink:href=\"#mdf7c279de0\" x=\"376.72189\" y=\"273.458739\" style=\"fill: #0000ff; stroke: #0000ff\"/>\n     <use xlink:href=\"#mdf7c279de0\" x=\"390.77907\" y=\"276.629475\" style=\"fill: #0000ff; stroke: #0000ff\"/>\n     <use xlink:href=\"#mdf7c279de0\" x=\"358.647555\" y=\"239.033629\" style=\"fill: #0000ff; stroke: #0000ff\"/>\n     <use xlink:href=\"#mdf7c279de0\" x=\"371.20789\" y=\"226.580486\" style=\"fill: #0000ff; stroke: #0000ff\"/>\n     <use xlink:href=\"#mdf7c279de0\" x=\"407.06834\" y=\"281.583684\" style=\"fill: #0000ff; stroke: #0000ff\"/>\n     <use xlink:href=\"#mdf7c279de0\" x=\"298.579508\" y=\"244.277659\" style=\"fill: #0000ff; stroke: #0000ff\"/>\n     <use xlink:href=\"#mdf7c279de0\" x=\"368.862253\" y=\"313.851469\" style=\"fill: #0000ff; stroke: #0000ff\"/>\n     <use xlink:href=\"#mdf7c279de0\" x=\"401.503227\" y=\"272.139873\" style=\"fill: #0000ff; stroke: #0000ff\"/>\n     <use xlink:href=\"#mdf7c279de0\" x=\"419.27619\" y=\"302.236426\" style=\"fill: #0000ff; stroke: #0000ff\"/>\n     <use xlink:href=\"#mdf7c279de0\" x=\"401.885443\" y=\"303.655902\" style=\"fill: #0000ff; stroke: #0000ff\"/>\n     <use xlink:href=\"#mdf7c279de0\" x=\"420.269137\" y=\"301.156927\" style=\"fill: #0000ff; stroke: #0000ff\"/>\n     <use xlink:href=\"#mdf7c279de0\" x=\"354.446793\" y=\"306.923998\" style=\"fill: #0000ff; stroke: #0000ff\"/>\n     <use xlink:href=\"#mdf7c279de0\" x=\"394.183822\" y=\"271.814612\" style=\"fill: #0000ff; stroke: #0000ff\"/>\n     <use xlink:href=\"#mdf7c279de0\" x=\"391.336681\" y=\"202.559805\" style=\"fill: #0000ff; stroke: #0000ff\"/>\n     <use xlink:href=\"#mdf7c279de0\" x=\"307.069299\" y=\"255.651672\" style=\"fill: #0000ff; stroke: #0000ff\"/>\n     <use xlink:href=\"#mdf7c279de0\" x=\"374.422633\" y=\"268.614889\" style=\"fill: #0000ff; stroke: #0000ff\"/>\n     <use xlink:href=\"#mdf7c279de0\" x=\"317.88644\" y=\"201.492422\" style=\"fill: #0000ff; stroke: #0000ff\"/>\n     <use xlink:href=\"#mdf7c279de0\" x=\"310.816038\" y=\"219.470768\" style=\"fill: #0000ff; stroke: #0000ff\"/>\n     <use xlink:href=\"#mdf7c279de0\" x=\"299.755189\" y=\"215.503557\" style=\"fill: #0000ff; stroke: #0000ff\"/>\n     <use xlink:href=\"#mdf7c279de0\" x=\"335.768875\" y=\"258.18051\" style=\"fill: #0000ff; stroke: #0000ff\"/>\n     <use xlink:href=\"#mdf7c279de0\" x=\"354.360535\" y=\"220.077698\" style=\"fill: #0000ff; stroke: #0000ff\"/>\n     <use xlink:href=\"#mdf7c279de0\" x=\"325.466949\" y=\"258.924555\" style=\"fill: #0000ff; stroke: #0000ff\"/>\n     <use xlink:href=\"#mdf7c279de0\" x=\"401.729729\" y=\"227.47385\" style=\"fill: #0000ff; stroke: #0000ff\"/>\n     <use xlink:href=\"#mdf7c279de0\" x=\"315.887262\" y=\"198.513021\" style=\"fill: #0000ff; stroke: #0000ff\"/>\n     <use xlink:href=\"#mdf7c279de0\" x=\"259.763061\" y=\"249.243669\" style=\"fill: #0000ff; stroke: #0000ff\"/>\n     <use xlink:href=\"#mdf7c279de0\" x=\"401.120412\" y=\"291.733437\" style=\"fill: #0000ff; stroke: #0000ff\"/>\n     <use xlink:href=\"#mdf7c279de0\" x=\"297.345421\" y=\"277.784298\" style=\"fill: #0000ff; stroke: #0000ff\"/>\n     <use xlink:href=\"#mdf7c279de0\" x=\"304.343397\" y=\"185.940125\" style=\"fill: #0000ff; stroke: #0000ff\"/>\n     <use xlink:href=\"#mdf7c279de0\" x=\"376.677087\" y=\"234.928177\" style=\"fill: #0000ff; stroke: #0000ff\"/>\n     <use xlink:href=\"#mdf7c279de0\" x=\"364.222698\" y=\"229.555769\" style=\"fill: #0000ff; stroke: #0000ff\"/>\n     <use xlink:href=\"#mdf7c279de0\" x=\"382.784315\" y=\"196.587772\" style=\"fill: #0000ff; stroke: #0000ff\"/>\n     <use xlink:href=\"#mdf7c279de0\" x=\"287.272556\" y=\"198.40246\" style=\"fill: #0000ff; stroke: #0000ff\"/>\n     <use xlink:href=\"#mdf7c279de0\" x=\"280.241622\" y=\"190.850422\" style=\"fill: #0000ff; stroke: #0000ff\"/>\n     <use xlink:href=\"#mdf7c279de0\" x=\"351.968206\" y=\"162.866056\" style=\"fill: #0000ff; stroke: #0000ff\"/>\n     <use xlink:href=\"#mdf7c279de0\" x=\"375.849226\" y=\"252.895924\" style=\"fill: #0000ff; stroke: #0000ff\"/>\n     <use xlink:href=\"#mdf7c279de0\" x=\"303.674448\" y=\"246.462363\" style=\"fill: #0000ff; stroke: #0000ff\"/>\n     <use xlink:href=\"#mdf7c279de0\" x=\"360.296568\" y=\"171.623201\" style=\"fill: #0000ff; stroke: #0000ff\"/>\n     <use xlink:href=\"#mdf7c279de0\" x=\"355.766813\" y=\"285.185633\" style=\"fill: #0000ff; stroke: #0000ff\"/>\n     <use xlink:href=\"#mdf7c279de0\" x=\"305.890353\" y=\"198.344985\" style=\"fill: #0000ff; stroke: #0000ff\"/>\n     <use xlink:href=\"#mdf7c279de0\" x=\"304.370996\" y=\"241.756544\" style=\"fill: #0000ff; stroke: #0000ff\"/>\n     <use xlink:href=\"#mdf7c279de0\" x=\"331.707811\" y=\"224.166627\" style=\"fill: #0000ff; stroke: #0000ff\"/>\n     <use xlink:href=\"#mdf7c279de0\" x=\"302.181036\" y=\"212.842393\" style=\"fill: #0000ff; stroke: #0000ff\"/>\n     <use xlink:href=\"#mdf7c279de0\" x=\"305.263394\" y=\"235.114228\" style=\"fill: #0000ff; stroke: #0000ff\"/>\n     <use xlink:href=\"#mdf7c279de0\" x=\"331.145671\" y=\"190.169121\" style=\"fill: #0000ff; stroke: #0000ff\"/>\n     <use xlink:href=\"#mdf7c279de0\" x=\"359.417543\" y=\"176.194523\" style=\"fill: #0000ff; stroke: #0000ff\"/>\n     <use xlink:href=\"#mdf7c279de0\" x=\"297.506309\" y=\"180.684854\" style=\"fill: #0000ff; stroke: #0000ff\"/>\n     <use xlink:href=\"#mdf7c279de0\" x=\"304.35192\" y=\"251.891813\" style=\"fill: #0000ff; stroke: #0000ff\"/>\n     <use xlink:href=\"#mdf7c279de0\" x=\"288.998279\" y=\"179.564608\" style=\"fill: #0000ff; stroke: #0000ff\"/>\n     <use xlink:href=\"#mdf7c279de0\" x=\"276.238445\" y=\"260.135586\" style=\"fill: #0000ff; stroke: #0000ff\"/>\n     <use xlink:href=\"#mdf7c279de0\" x=\"279.436941\" y=\"199.826318\" style=\"fill: #0000ff; stroke: #0000ff\"/>\n     <use xlink:href=\"#mdf7c279de0\" x=\"322.382944\" y=\"268.140824\" style=\"fill: #0000ff; stroke: #0000ff\"/>\n     <use xlink:href=\"#mdf7c279de0\" x=\"307.623549\" y=\"140.216333\" style=\"fill: #0000ff; stroke: #0000ff\"/>\n     <use xlink:href=\"#mdf7c279de0\" x=\"355.922041\" y=\"231.77262\" style=\"fill: #0000ff; stroke: #0000ff\"/>\n     <use xlink:href=\"#mdf7c279de0\" x=\"306.21053\" y=\"204.629211\" style=\"fill: #0000ff; stroke: #0000ff\"/>\n     <use xlink:href=\"#mdf7c279de0\" x=\"311.236893\" y=\"207.638226\" style=\"fill: #0000ff; stroke: #0000ff\"/>\n     <use xlink:href=\"#mdf7c279de0\" x=\"278.692473\" y=\"228.657193\" style=\"fill: #0000ff; stroke: #0000ff\"/>\n     <use xlink:href=\"#mdf7c279de0\" x=\"335.287522\" y=\"172.920018\" style=\"fill: #0000ff; stroke: #0000ff\"/>\n     <use xlink:href=\"#mdf7c279de0\" x=\"324.281517\" y=\"184.417222\" style=\"fill: #0000ff; stroke: #0000ff\"/>\n     <use xlink:href=\"#mdf7c279de0\" x=\"325.756217\" y=\"208.30871\" style=\"fill: #0000ff; stroke: #0000ff\"/>\n     <use xlink:href=\"#mdf7c279de0\" x=\"286.865299\" y=\"229.937741\" style=\"fill: #0000ff; stroke: #0000ff\"/>\n     <use xlink:href=\"#mdf7c279de0\" x=\"271.367728\" y=\"179.535243\" style=\"fill: #0000ff; stroke: #0000ff\"/>\n     <use xlink:href=\"#mdf7c279de0\" x=\"330.915459\" y=\"142.283943\" style=\"fill: #0000ff; stroke: #0000ff\"/>\n     <use xlink:href=\"#mdf7c279de0\" x=\"272.698443\" y=\"141.95833\" style=\"fill: #0000ff; stroke: #0000ff\"/>\n     <use xlink:href=\"#mdf7c279de0\" x=\"290.151619\" y=\"174.878799\" style=\"fill: #0000ff; stroke: #0000ff\"/>\n     <use xlink:href=\"#mdf7c279de0\" x=\"312.867451\" y=\"140.774217\" style=\"fill: #0000ff; stroke: #0000ff\"/>\n     <use xlink:href=\"#mdf7c279de0\" x=\"302.977034\" y=\"195.488366\" style=\"fill: #0000ff; stroke: #0000ff\"/>\n     <use xlink:href=\"#mdf7c279de0\" x=\"285.56157\" y=\"237.78813\" style=\"fill: #0000ff; stroke: #0000ff\"/>\n     <use xlink:href=\"#mdf7c279de0\" x=\"248.405956\" y=\"153.469463\" style=\"fill: #0000ff; stroke: #0000ff\"/>\n     <use xlink:href=\"#mdf7c279de0\" x=\"261.01509\" y=\"208.01512\" style=\"fill: #0000ff; stroke: #0000ff\"/>\n     <use xlink:href=\"#mdf7c279de0\" x=\"297.600078\" y=\"270.095269\" style=\"fill: #0000ff; stroke: #0000ff\"/>\n     <use xlink:href=\"#mdf7c279de0\" x=\"273.010876\" y=\"194.135414\" style=\"fill: #0000ff; stroke: #0000ff\"/>\n     <use xlink:href=\"#mdf7c279de0\" x=\"257.374985\" y=\"157.94769\" style=\"fill: #0000ff; stroke: #0000ff\"/>\n     <use xlink:href=\"#mdf7c279de0\" x=\"245.554168\" y=\"143.680289\" style=\"fill: #0000ff; stroke: #0000ff\"/>\n     <use xlink:href=\"#mdf7c279de0\" x=\"209.714858\" y=\"254.577557\" style=\"fill: #0000ff; stroke: #0000ff\"/>\n     <use xlink:href=\"#mdf7c279de0\" x=\"289.727288\" y=\"150.424633\" style=\"fill: #0000ff; stroke: #0000ff\"/>\n     <use xlink:href=\"#mdf7c279de0\" x=\"331.275431\" y=\"184.059163\" style=\"fill: #0000ff; stroke: #0000ff\"/>\n     <use xlink:href=\"#mdf7c279de0\" x=\"212.942946\" y=\"171.858059\" style=\"fill: #0000ff; stroke: #0000ff\"/>\n     <use xlink:href=\"#mdf7c279de0\" x=\"308.829366\" y=\"210.244401\" style=\"fill: #0000ff; stroke: #0000ff\"/>\n     <use xlink:href=\"#mdf7c279de0\" x=\"194.504167\" y=\"191.024735\" style=\"fill: #0000ff; stroke: #0000ff\"/>\n     <use xlink:href=\"#mdf7c279de0\" x=\"199.543934\" y=\"145.072919\" style=\"fill: #0000ff; stroke: #0000ff\"/>\n     <use xlink:href=\"#mdf7c279de0\" x=\"276.929355\" y=\"208.636427\" style=\"fill: #0000ff; stroke: #0000ff\"/>\n     <use xlink:href=\"#mdf7c279de0\" x=\"316.566002\" y=\"238.390048\" style=\"fill: #0000ff; stroke: #0000ff\"/>\n     <use xlink:href=\"#mdf7c279de0\" x=\"282.735518\" y=\"253.456489\" style=\"fill: #0000ff; stroke: #0000ff\"/>\n     <use xlink:href=\"#mdf7c279de0\" x=\"198.933266\" y=\"227.162328\" style=\"fill: #0000ff; stroke: #0000ff\"/>\n     <use xlink:href=\"#mdf7c279de0\" x=\"294.346512\" y=\"247.185272\" style=\"fill: #0000ff; stroke: #0000ff\"/>\n     <use xlink:href=\"#mdf7c279de0\" x=\"315.223564\" y=\"195.296308\" style=\"fill: #0000ff; stroke: #0000ff\"/>\n     <use xlink:href=\"#mdf7c279de0\" x=\"205.315855\" y=\"157.611188\" style=\"fill: #0000ff; stroke: #0000ff\"/>\n     <use xlink:href=\"#mdf7c279de0\" x=\"275.462172\" y=\"147.978367\" style=\"fill: #0000ff; stroke: #0000ff\"/>\n     <use xlink:href=\"#mdf7c279de0\" x=\"216.371119\" y=\"245.11433\" style=\"fill: #0000ff; stroke: #0000ff\"/>\n     <use xlink:href=\"#mdf7c279de0\" x=\"286.270843\" y=\"217.674727\" style=\"fill: #0000ff; stroke: #0000ff\"/>\n     <use xlink:href=\"#mdf7c279de0\" x=\"223.001577\" y=\"226.977332\" style=\"fill: #0000ff; stroke: #0000ff\"/>\n     <use xlink:href=\"#mdf7c279de0\" x=\"201.21963\" y=\"124.493869\" style=\"fill: #0000ff; stroke: #0000ff\"/>\n     <use xlink:href=\"#mdf7c279de0\" x=\"276.13355\" y=\"173.06752\" style=\"fill: #0000ff; stroke: #0000ff\"/>\n     <use xlink:href=\"#mdf7c279de0\" x=\"251.894382\" y=\"164.609112\" style=\"fill: #0000ff; stroke: #0000ff\"/>\n     <use xlink:href=\"#mdf7c279de0\" x=\"291.525126\" y=\"205.228459\" style=\"fill: #0000ff; stroke: #0000ff\"/>\n     <use xlink:href=\"#mdf7c279de0\" x=\"274.922154\" y=\"178.773409\" style=\"fill: #0000ff; stroke: #0000ff\"/>\n     <use xlink:href=\"#mdf7c279de0\" x=\"164.772834\" y=\"258.968105\" style=\"fill: #0000ff; stroke: #0000ff\"/>\n     <use xlink:href=\"#mdf7c279de0\" x=\"209.512719\" y=\"151.522679\" style=\"fill: #0000ff; stroke: #0000ff\"/>\n     <use xlink:href=\"#mdf7c279de0\" x=\"257.558987\" y=\"195.299829\" style=\"fill: #0000ff; stroke: #0000ff\"/>\n     <use xlink:href=\"#mdf7c279de0\" x=\"248.579436\" y=\"122.712398\" style=\"fill: #0000ff; stroke: #0000ff\"/>\n     <use xlink:href=\"#mdf7c279de0\" x=\"227.749588\" y=\"247.488447\" style=\"fill: #0000ff; stroke: #0000ff\"/>\n     <use xlink:href=\"#mdf7c279de0\" x=\"246.399932\" y=\"206.882784\" style=\"fill: #0000ff; stroke: #0000ff\"/>\n     <use xlink:href=\"#mdf7c279de0\" x=\"297.469454\" y=\"187.605431\" style=\"fill: #0000ff; stroke: #0000ff\"/>\n     <use xlink:href=\"#mdf7c279de0\" x=\"256.003411\" y=\"148.916096\" style=\"fill: #0000ff; stroke: #0000ff\"/>\n     <use xlink:href=\"#mdf7c279de0\" x=\"182.848115\" y=\"206.679673\" style=\"fill: #0000ff; stroke: #0000ff\"/>\n     <use xlink:href=\"#mdf7c279de0\" x=\"236.71613\" y=\"233.143967\" style=\"fill: #0000ff; stroke: #0000ff\"/>\n     <use xlink:href=\"#mdf7c279de0\" x=\"278.086655\" y=\"145.184219\" style=\"fill: #0000ff; stroke: #0000ff\"/>\n     <use xlink:href=\"#mdf7c279de0\" x=\"237.077538\" y=\"167.727277\" style=\"fill: #0000ff; stroke: #0000ff\"/>\n     <use xlink:href=\"#mdf7c279de0\" x=\"174.423219\" y=\"254.952847\" style=\"fill: #0000ff; stroke: #0000ff\"/>\n     <use xlink:href=\"#mdf7c279de0\" x=\"279.696086\" y=\"194.163168\" style=\"fill: #0000ff; stroke: #0000ff\"/>\n     <use xlink:href=\"#mdf7c279de0\" x=\"182.163371\" y=\"214.676805\" style=\"fill: #0000ff; stroke: #0000ff\"/>\n     <use xlink:href=\"#mdf7c279de0\" x=\"181.665114\" y=\"169.085004\" style=\"fill: #0000ff; stroke: #0000ff\"/>\n     <use xlink:href=\"#mdf7c279de0\" x=\"237.799879\" y=\"142.348985\" style=\"fill: #0000ff; stroke: #0000ff\"/>\n     <use xlink:href=\"#mdf7c279de0\" x=\"202.579751\" y=\"215.707731\" style=\"fill: #0000ff; stroke: #0000ff\"/>\n     <use xlink:href=\"#mdf7c279de0\" x=\"203.223388\" y=\"152.192056\" style=\"fill: #0000ff; stroke: #0000ff\"/>\n     <use xlink:href=\"#mdf7c279de0\" x=\"270.621373\" y=\"240.904247\" style=\"fill: #0000ff; stroke: #0000ff\"/>\n     <use xlink:href=\"#mdf7c279de0\" x=\"250.179834\" y=\"248.926836\" style=\"fill: #0000ff; stroke: #0000ff\"/>\n     <use xlink:href=\"#mdf7c279de0\" x=\"230.801365\" y=\"194.931822\" style=\"fill: #0000ff; stroke: #0000ff\"/>\n     <use xlink:href=\"#mdf7c279de0\" x=\"190.9679\" y=\"138.637114\" style=\"fill: #0000ff; stroke: #0000ff\"/>\n     <use xlink:href=\"#mdf7c279de0\" x=\"250.502686\" y=\"194.544611\" style=\"fill: #0000ff; stroke: #0000ff\"/>\n     <use xlink:href=\"#mdf7c279de0\" x=\"224.2122\" y=\"217.130031\" style=\"fill: #0000ff; stroke: #0000ff\"/>\n     <use xlink:href=\"#mdf7c279de0\" x=\"229.230292\" y=\"147.525164\" style=\"fill: #0000ff; stroke: #0000ff\"/>\n     <use xlink:href=\"#mdf7c279de0\" x=\"205.774692\" y=\"265.334237\" style=\"fill: #0000ff; stroke: #0000ff\"/>\n     <use xlink:href=\"#mdf7c279de0\" x=\"257.513836\" y=\"172.489751\" style=\"fill: #0000ff; stroke: #0000ff\"/>\n     <use xlink:href=\"#mdf7c279de0\" x=\"178.437282\" y=\"176.992772\" style=\"fill: #0000ff; stroke: #0000ff\"/>\n     <use xlink:href=\"#mdf7c279de0\" x=\"191.385334\" y=\"205.249535\" style=\"fill: #0000ff; stroke: #0000ff\"/>\n     <use xlink:href=\"#mdf7c279de0\" x=\"233.738828\" y=\"236.258717\" style=\"fill: #0000ff; stroke: #0000ff\"/>\n     <use xlink:href=\"#mdf7c279de0\" x=\"174.755841\" y=\"240.689692\" style=\"fill: #0000ff; stroke: #0000ff\"/>\n     <use xlink:href=\"#mdf7c279de0\" x=\"179.463498\" y=\"203.167156\" style=\"fill: #0000ff; stroke: #0000ff\"/>\n     <use xlink:href=\"#mdf7c279de0\" x=\"208.306465\" y=\"165.303949\" style=\"fill: #0000ff; stroke: #0000ff\"/>\n     <use xlink:href=\"#mdf7c279de0\" x=\"158.004129\" y=\"216.462647\" style=\"fill: #0000ff; stroke: #0000ff\"/>\n     <use xlink:href=\"#mdf7c279de0\" x=\"252.377928\" y=\"214.581003\" style=\"fill: #0000ff; stroke: #0000ff\"/>\n     <use xlink:href=\"#mdf7c279de0\" x=\"232.100491\" y=\"247.726128\" style=\"fill: #0000ff; stroke: #0000ff\"/>\n     <use xlink:href=\"#mdf7c279de0\" x=\"147.85495\" y=\"216.673849\" style=\"fill: #0000ff; stroke: #0000ff\"/>\n     <use xlink:href=\"#mdf7c279de0\" x=\"258.043539\" y=\"224.894934\" style=\"fill: #0000ff; stroke: #0000ff\"/>\n     <use xlink:href=\"#mdf7c279de0\" x=\"204.030686\" y=\"215.487316\" style=\"fill: #0000ff; stroke: #0000ff\"/>\n     <use xlink:href=\"#mdf7c279de0\" x=\"150.080926\" y=\"179.091407\" style=\"fill: #0000ff; stroke: #0000ff\"/>\n     <use xlink:href=\"#mdf7c279de0\" x=\"205.894646\" y=\"157.594102\" style=\"fill: #0000ff; stroke: #0000ff\"/>\n     <use xlink:href=\"#mdf7c279de0\" x=\"146.249978\" y=\"192.644471\" style=\"fill: #0000ff; stroke: #0000ff\"/>\n     <use xlink:href=\"#mdf7c279de0\" x=\"241.860931\" y=\"231.363838\" style=\"fill: #0000ff; stroke: #0000ff\"/>\n     <use xlink:href=\"#mdf7c279de0\" x=\"219.268158\" y=\"275.260515\" style=\"fill: #0000ff; stroke: #0000ff\"/>\n     <use xlink:href=\"#mdf7c279de0\" x=\"206.966517\" y=\"235.480939\" style=\"fill: #0000ff; stroke: #0000ff\"/>\n     <use xlink:href=\"#mdf7c279de0\" x=\"218.366533\" y=\"198.949718\" style=\"fill: #0000ff; stroke: #0000ff\"/>\n     <use xlink:href=\"#mdf7c279de0\" x=\"141.323078\" y=\"207.42507\" style=\"fill: #0000ff; stroke: #0000ff\"/>\n     <use xlink:href=\"#mdf7c279de0\" x=\"228.271245\" y=\"240.525078\" style=\"fill: #0000ff; stroke: #0000ff\"/>\n     <use xlink:href=\"#mdf7c279de0\" x=\"170.083349\" y=\"219.732892\" style=\"fill: #0000ff; stroke: #0000ff\"/>\n     <use xlink:href=\"#mdf7c279de0\" x=\"191.658898\" y=\"205.518103\" style=\"fill: #0000ff; stroke: #0000ff\"/>\n     <use xlink:href=\"#mdf7c279de0\" x=\"112.019576\" y=\"218.339774\" style=\"fill: #0000ff; stroke: #0000ff\"/>\n     <use xlink:href=\"#mdf7c279de0\" x=\"223.539764\" y=\"150.487416\" style=\"fill: #0000ff; stroke: #0000ff\"/>\n     <use xlink:href=\"#mdf7c279de0\" x=\"195.334674\" y=\"226.830304\" style=\"fill: #0000ff; stroke: #0000ff\"/>\n     <use xlink:href=\"#mdf7c279de0\" x=\"164.508345\" y=\"214.795129\" style=\"fill: #0000ff; stroke: #0000ff\"/>\n     <use xlink:href=\"#mdf7c279de0\" x=\"205.415301\" y=\"205.200967\" style=\"fill: #0000ff; stroke: #0000ff\"/>\n     <use xlink:href=\"#mdf7c279de0\" x=\"227.473958\" y=\"221.080487\" style=\"fill: #0000ff; stroke: #0000ff\"/>\n     <use xlink:href=\"#mdf7c279de0\" x=\"197.996441\" y=\"280.494852\" style=\"fill: #0000ff; stroke: #0000ff\"/>\n     <use xlink:href=\"#mdf7c279de0\" x=\"125.74838\" y=\"227.64359\" style=\"fill: #0000ff; stroke: #0000ff\"/>\n     <use xlink:href=\"#mdf7c279de0\" x=\"129.732867\" y=\"262.62663\" style=\"fill: #0000ff; stroke: #0000ff\"/>\n     <use xlink:href=\"#mdf7c279de0\" x=\"118.021157\" y=\"247.158142\" style=\"fill: #0000ff; stroke: #0000ff\"/>\n     <use xlink:href=\"#mdf7c279de0\" x=\"107.94797\" y=\"213.032139\" style=\"fill: #0000ff; stroke: #0000ff\"/>\n     <use xlink:href=\"#mdf7c279de0\" x=\"152.24954\" y=\"235.161145\" style=\"fill: #0000ff; stroke: #0000ff\"/>\n     <use xlink:href=\"#mdf7c279de0\" x=\"133.344669\" y=\"179.488279\" style=\"fill: #0000ff; stroke: #0000ff\"/>\n     <use xlink:href=\"#mdf7c279de0\" x=\"235.324622\" y=\"208.888586\" style=\"fill: #0000ff; stroke: #0000ff\"/>\n     <use xlink:href=\"#mdf7c279de0\" x=\"89.564501\" y=\"274.099972\" style=\"fill: #0000ff; stroke: #0000ff\"/>\n     <use xlink:href=\"#mdf7c279de0\" x=\"118.740195\" y=\"238.390992\" style=\"fill: #0000ff; stroke: #0000ff\"/>\n     <use xlink:href=\"#mdf7c279de0\" x=\"180.309713\" y=\"187.544908\" style=\"fill: #0000ff; stroke: #0000ff\"/>\n     <use xlink:href=\"#mdf7c279de0\" x=\"163.649711\" y=\"209.285954\" style=\"fill: #0000ff; stroke: #0000ff\"/>\n     <use xlink:href=\"#mdf7c279de0\" x=\"187.479568\" y=\"274.191301\" style=\"fill: #0000ff; stroke: #0000ff\"/>\n     <use xlink:href=\"#mdf7c279de0\" x=\"172.956425\" y=\"277.536368\" style=\"fill: #0000ff; stroke: #0000ff\"/>\n     <use xlink:href=\"#mdf7c279de0\" x=\"176.875295\" y=\"191.99304\" style=\"fill: #0000ff; stroke: #0000ff\"/>\n     <use xlink:href=\"#mdf7c279de0\" x=\"119.646387\" y=\"222.455791\" style=\"fill: #0000ff; stroke: #0000ff\"/>\n     <use xlink:href=\"#mdf7c279de0\" x=\"121.877157\" y=\"280.179447\" style=\"fill: #0000ff; stroke: #0000ff\"/>\n     <use xlink:href=\"#mdf7c279de0\" x=\"237.843118\" y=\"280.329252\" style=\"fill: #0000ff; stroke: #0000ff\"/>\n     <use xlink:href=\"#mdf7c279de0\" x=\"134.031814\" y=\"219.164297\" style=\"fill: #0000ff; stroke: #0000ff\"/>\n     <use xlink:href=\"#mdf7c279de0\" x=\"144.997682\" y=\"315.934768\" style=\"fill: #0000ff; stroke: #0000ff\"/>\n     <use xlink:href=\"#mdf7c279de0\" x=\"146.177592\" y=\"299.633651\" style=\"fill: #0000ff; stroke: #0000ff\"/>\n     <use xlink:href=\"#mdf7c279de0\" x=\"142.496288\" y=\"296.19307\" style=\"fill: #0000ff; stroke: #0000ff\"/>\n     <use xlink:href=\"#mdf7c279de0\" x=\"156.985835\" y=\"217.302956\" style=\"fill: #0000ff; stroke: #0000ff\"/>\n     <use xlink:href=\"#mdf7c279de0\" x=\"98.838864\" y=\"259.684663\" style=\"fill: #0000ff; stroke: #0000ff\"/>\n     <use xlink:href=\"#mdf7c279de0\" x=\"139.843672\" y=\"227.594312\" style=\"fill: #0000ff; stroke: #0000ff\"/>\n     <use xlink:href=\"#mdf7c279de0\" x=\"102.698684\" y=\"197.277003\" style=\"fill: #0000ff; stroke: #0000ff\"/>\n     <use xlink:href=\"#mdf7c279de0\" x=\"115.229287\" y=\"202.207424\" style=\"fill: #0000ff; stroke: #0000ff\"/>\n     <use xlink:href=\"#mdf7c279de0\" x=\"85.398083\" y=\"237.429336\" style=\"fill: #0000ff; stroke: #0000ff\"/>\n     <use xlink:href=\"#mdf7c279de0\" x=\"132.405055\" y=\"226.603052\" style=\"fill: #0000ff; stroke: #0000ff\"/>\n     <use xlink:href=\"#mdf7c279de0\" x=\"133.082713\" y=\"250.870452\" style=\"fill: #0000ff; stroke: #0000ff\"/>\n     <use xlink:href=\"#mdf7c279de0\" x=\"154.615479\" y=\"305.494223\" style=\"fill: #0000ff; stroke: #0000ff\"/>\n     <use xlink:href=\"#mdf7c279de0\" x=\"184.345287\" y=\"271.685388\" style=\"fill: #0000ff; stroke: #0000ff\"/>\n     <use xlink:href=\"#mdf7c279de0\" x=\"120.398037\" y=\"209.546734\" style=\"fill: #0000ff; stroke: #0000ff\"/>\n     <use xlink:href=\"#mdf7c279de0\" x=\"122.911893\" y=\"296.887718\" style=\"fill: #0000ff; stroke: #0000ff\"/>\n     <use xlink:href=\"#mdf7c279de0\" x=\"173.70368\" y=\"275.769215\" style=\"fill: #0000ff; stroke: #0000ff\"/>\n     <use xlink:href=\"#mdf7c279de0\" x=\"132.702412\" y=\"294.342754\" style=\"fill: #0000ff; stroke: #0000ff\"/>\n     <use xlink:href=\"#mdf7c279de0\" x=\"136.303247\" y=\"232.542119\" style=\"fill: #0000ff; stroke: #0000ff\"/>\n     <use xlink:href=\"#mdf7c279de0\" x=\"72.151304\" y=\"258.008975\" style=\"fill: #0000ff; stroke: #0000ff\"/>\n     <use xlink:href=\"#mdf7c279de0\" x=\"95.937865\" y=\"225.43054\" style=\"fill: #0000ff; stroke: #0000ff\"/>\n     <use xlink:href=\"#mdf7c279de0\" x=\"56.779667\" y=\"249.224015\" style=\"fill: #0000ff; stroke: #0000ff\"/>\n     <use xlink:href=\"#mdf7c279de0\" x=\"69.487959\" y=\"308.905637\" style=\"fill: #0000ff; stroke: #0000ff\"/>\n     <use xlink:href=\"#mdf7c279de0\" x=\"113.100415\" y=\"215.633301\" style=\"fill: #0000ff; stroke: #0000ff\"/>\n     <use xlink:href=\"#mdf7c279de0\" x=\"124.039571\" y=\"229.675881\" style=\"fill: #0000ff; stroke: #0000ff\"/>\n     <use xlink:href=\"#mdf7c279de0\" x=\"143.471308\" y=\"295.170054\" style=\"fill: #0000ff; stroke: #0000ff\"/>\n     <use xlink:href=\"#mdf7c279de0\" x=\"167.670305\" y=\"272.179767\" style=\"fill: #0000ff; stroke: #0000ff\"/>\n     <use xlink:href=\"#mdf7c279de0\" x=\"84.36842\" y=\"276.804511\" style=\"fill: #0000ff; stroke: #0000ff\"/>\n     <use xlink:href=\"#mdf7c279de0\" x=\"136.836526\" y=\"235.909002\" style=\"fill: #0000ff; stroke: #0000ff\"/>\n     <use xlink:href=\"#mdf7c279de0\" x=\"103.273597\" y=\"252.300584\" style=\"fill: #0000ff; stroke: #0000ff\"/>\n     <use xlink:href=\"#mdf7c279de0\" x=\"117.844357\" y=\"293.018161\" style=\"fill: #0000ff; stroke: #0000ff\"/>\n     <use xlink:href=\"#mdf7c279de0\" x=\"127.338402\" y=\"283.235725\" style=\"fill: #0000ff; stroke: #0000ff\"/>\n     <use xlink:href=\"#mdf7c279de0\" x=\"191.400431\" y=\"294.259492\" style=\"fill: #0000ff; stroke: #0000ff\"/>\n     <use xlink:href=\"#mdf7c279de0\" x=\"104.198386\" y=\"306.577417\" style=\"fill: #0000ff; stroke: #0000ff\"/>\n     <use xlink:href=\"#mdf7c279de0\" x=\"82.639699\" y=\"369.544059\" style=\"fill: #0000ff; stroke: #0000ff\"/>\n     <use xlink:href=\"#mdf7c279de0\" x=\"104.484305\" y=\"276.365908\" style=\"fill: #0000ff; stroke: #0000ff\"/>\n     <use xlink:href=\"#mdf7c279de0\" x=\"86.518457\" y=\"288.24484\" style=\"fill: #0000ff; stroke: #0000ff\"/>\n     <use xlink:href=\"#mdf7c279de0\" x=\"119.62931\" y=\"275.378854\" style=\"fill: #0000ff; stroke: #0000ff\"/>\n     <use xlink:href=\"#mdf7c279de0\" x=\"157.516414\" y=\"361.452361\" style=\"fill: #0000ff; stroke: #0000ff\"/>\n     <use xlink:href=\"#mdf7c279de0\" x=\"98.252354\" y=\"389.064762\" style=\"fill: #0000ff; stroke: #0000ff\"/>\n     <use xlink:href=\"#mdf7c279de0\" x=\"170.305229\" y=\"283.592252\" style=\"fill: #0000ff; stroke: #0000ff\"/>\n     <use xlink:href=\"#mdf7c279de0\" x=\"145.665845\" y=\"321.069886\" style=\"fill: #0000ff; stroke: #0000ff\"/>\n     <use xlink:href=\"#mdf7c279de0\" x=\"155.899494\" y=\"284.999535\" style=\"fill: #0000ff; stroke: #0000ff\"/>\n     <use xlink:href=\"#mdf7c279de0\" x=\"167.721488\" y=\"248.315971\" style=\"fill: #0000ff; stroke: #0000ff\"/>\n     <use xlink:href=\"#mdf7c279de0\" x=\"167.566094\" y=\"264.876316\" style=\"fill: #0000ff; stroke: #0000ff\"/>\n     <use xlink:href=\"#mdf7c279de0\" x=\"195.947601\" y=\"351.825224\" style=\"fill: #0000ff; stroke: #0000ff\"/>\n    </g>\n   </g>\n   <g id=\"line2d_19\">\n    <defs>\n     <path id=\"m9e286a9057\" d=\"M 0 3 \nC 0.795609 3 1.55874 2.683901 2.12132 2.12132 \nC 2.683901 1.55874 3 0.795609 3 0 \nC 3 -0.795609 2.683901 -1.55874 2.12132 -2.12132 \nC 1.55874 -2.683901 0.795609 -3 0 -3 \nC -0.795609 -3 -1.55874 -2.683901 -2.12132 -2.12132 \nC -2.683901 -1.55874 -3 -0.795609 -3 0 \nC -3 0.795609 -2.683901 1.55874 -2.12132 2.12132 \nC -1.55874 2.683901 -0.795609 3 0 3 \nz\n\" style=\"stroke: #ff0000\"/>\n    </defs>\n    <g clip-path=\"url(#p4305c4dadd)\">\n     <use xlink:href=\"#m9e286a9057\" x=\"517.358006\" y=\"299.864632\" style=\"fill: #ff0000; stroke: #ff0000\"/>\n     <use xlink:href=\"#m9e286a9057\" x=\"484.049255\" y=\"226.540313\" style=\"fill: #ff0000; stroke: #ff0000\"/>\n     <use xlink:href=\"#m9e286a9057\" x=\"494.124686\" y=\"252.739312\" style=\"fill: #ff0000; stroke: #ff0000\"/>\n     <use xlink:href=\"#m9e286a9057\" x=\"524.11702\" y=\"259.967612\" style=\"fill: #ff0000; stroke: #ff0000\"/>\n     <use xlink:href=\"#m9e286a9057\" x=\"525.790398\" y=\"313.009265\" style=\"fill: #ff0000; stroke: #ff0000\"/>\n     <use xlink:href=\"#m9e286a9057\" x=\"517.301011\" y=\"242.195029\" style=\"fill: #ff0000; stroke: #ff0000\"/>\n     <use xlink:href=\"#m9e286a9057\" x=\"499.078468\" y=\"321.759908\" style=\"fill: #ff0000; stroke: #ff0000\"/>\n     <use xlink:href=\"#m9e286a9057\" x=\"464.046133\" y=\"277.162166\" style=\"fill: #ff0000; stroke: #ff0000\"/>\n     <use xlink:href=\"#m9e286a9057\" x=\"473.110036\" y=\"190.902452\" style=\"fill: #ff0000; stroke: #ff0000\"/>\n     <use xlink:href=\"#m9e286a9057\" x=\"455.41822\" y=\"305.118654\" style=\"fill: #ff0000; stroke: #ff0000\"/>\n     <use xlink:href=\"#m9e286a9057\" x=\"537.550046\" y=\"235.414945\" style=\"fill: #ff0000; stroke: #ff0000\"/>\n     <use xlink:href=\"#m9e286a9057\" x=\"543.335958\" y=\"223.281175\" style=\"fill: #ff0000; stroke: #ff0000\"/>\n     <use xlink:href=\"#m9e286a9057\" x=\"540.683984\" y=\"278.918488\" style=\"fill: #ff0000; stroke: #ff0000\"/>\n     <use xlink:href=\"#m9e286a9057\" x=\"525.122459\" y=\"328.464779\" style=\"fill: #ff0000; stroke: #ff0000\"/>\n     <use xlink:href=\"#m9e286a9057\" x=\"431.056861\" y=\"292.048187\" style=\"fill: #ff0000; stroke: #ff0000\"/>\n     <use xlink:href=\"#m9e286a9057\" x=\"465.64458\" y=\"221.413976\" style=\"fill: #ff0000; stroke: #ff0000\"/>\n     <use xlink:href=\"#m9e286a9057\" x=\"478.301508\" y=\"243.113807\" style=\"fill: #ff0000; stroke: #ff0000\"/>\n     <use xlink:href=\"#m9e286a9057\" x=\"533.503185\" y=\"288.821181\" style=\"fill: #ff0000; stroke: #ff0000\"/>\n     <use xlink:href=\"#m9e286a9057\" x=\"497.092361\" y=\"230.088398\" style=\"fill: #ff0000; stroke: #ff0000\"/>\n     <use xlink:href=\"#m9e286a9057\" x=\"528.033922\" y=\"326.289367\" style=\"fill: #ff0000; stroke: #ff0000\"/>\n     <use xlink:href=\"#m9e286a9057\" x=\"516.202309\" y=\"323.999024\" style=\"fill: #ff0000; stroke: #ff0000\"/>\n     <use xlink:href=\"#m9e286a9057\" x=\"534.757395\" y=\"310.136832\" style=\"fill: #ff0000; stroke: #ff0000\"/>\n     <use xlink:href=\"#m9e286a9057\" x=\"522.887477\" y=\"352.308927\" style=\"fill: #ff0000; stroke: #ff0000\"/>\n     <use xlink:href=\"#m9e286a9057\" x=\"447.468134\" y=\"291.605822\" style=\"fill: #ff0000; stroke: #ff0000\"/>\n     <use xlink:href=\"#m9e286a9057\" x=\"541.085081\" y=\"366.372379\" style=\"fill: #ff0000; stroke: #ff0000\"/>\n     <use xlink:href=\"#m9e286a9057\" x=\"485.943169\" y=\"270.200973\" style=\"fill: #ff0000; stroke: #ff0000\"/>\n     <use xlink:href=\"#m9e286a9057\" x=\"507.251264\" y=\"329.025536\" style=\"fill: #ff0000; stroke: #ff0000\"/>\n     <use xlink:href=\"#m9e286a9057\" x=\"444.560383\" y=\"322.324922\" style=\"fill: #ff0000; stroke: #ff0000\"/>\n     <use xlink:href=\"#m9e286a9057\" x=\"483.311406\" y=\"356.537559\" style=\"fill: #ff0000; stroke: #ff0000\"/>\n     <use xlink:href=\"#m9e286a9057\" x=\"432.089982\" y=\"287.800387\" style=\"fill: #ff0000; stroke: #ff0000\"/>\n     <use xlink:href=\"#m9e286a9057\" x=\"477.763927\" y=\"267.501381\" style=\"fill: #ff0000; stroke: #ff0000\"/>\n     <use xlink:href=\"#m9e286a9057\" x=\"449.36289\" y=\"341.748648\" style=\"fill: #ff0000; stroke: #ff0000\"/>\n     <use xlink:href=\"#m9e286a9057\" x=\"466.206201\" y=\"354.130039\" style=\"fill: #ff0000; stroke: #ff0000\"/>\n     <use xlink:href=\"#m9e286a9057\" x=\"467.799269\" y=\"267.275737\" style=\"fill: #ff0000; stroke: #ff0000\"/>\n     <use xlink:href=\"#m9e286a9057\" x=\"476.145479\" y=\"350.706073\" style=\"fill: #ff0000; stroke: #ff0000\"/>\n     <use xlink:href=\"#m9e286a9057\" x=\"449.977695\" y=\"259.486783\" style=\"fill: #ff0000; stroke: #ff0000\"/>\n     <use xlink:href=\"#m9e286a9057\" x=\"512.054184\" y=\"281.497057\" style=\"fill: #ff0000; stroke: #ff0000\"/>\n     <use xlink:href=\"#m9e286a9057\" x=\"541.695535\" y=\"312.632676\" style=\"fill: #ff0000; stroke: #ff0000\"/>\n     <use xlink:href=\"#m9e286a9057\" x=\"463.824541\" y=\"263.809192\" style=\"fill: #ff0000; stroke: #ff0000\"/>\n     <use xlink:href=\"#m9e286a9057\" x=\"418.804391\" y=\"300.483896\" style=\"fill: #ff0000; stroke: #ff0000\"/>\n     <use xlink:href=\"#m9e286a9057\" x=\"512.756967\" y=\"319.464255\" style=\"fill: #ff0000; stroke: #ff0000\"/>\n     <use xlink:href=\"#m9e286a9057\" x=\"474.995468\" y=\"323.869476\" style=\"fill: #ff0000; stroke: #ff0000\"/>\n     <use xlink:href=\"#m9e286a9057\" x=\"436.587014\" y=\"245.341539\" style=\"fill: #ff0000; stroke: #ff0000\"/>\n     <use xlink:href=\"#m9e286a9057\" x=\"490.95367\" y=\"352.831086\" style=\"fill: #ff0000; stroke: #ff0000\"/>\n     <use xlink:href=\"#m9e286a9057\" x=\"479.924164\" y=\"359.102602\" style=\"fill: #ff0000; stroke: #ff0000\"/>\n     <use xlink:href=\"#m9e286a9057\" x=\"516.21787\" y=\"292.586366\" style=\"fill: #ff0000; stroke: #ff0000\"/>\n     <use xlink:href=\"#m9e286a9057\" x=\"431.483906\" y=\"316.37094\" style=\"fill: #ff0000; stroke: #ff0000\"/>\n     <use xlink:href=\"#m9e286a9057\" x=\"446.245329\" y=\"315.335305\" style=\"fill: #ff0000; stroke: #ff0000\"/>\n     <use xlink:href=\"#m9e286a9057\" x=\"429.596001\" y=\"357.126006\" style=\"fill: #ff0000; stroke: #ff0000\"/>\n     <use xlink:href=\"#m9e286a9057\" x=\"499.529417\" y=\"252.658398\" style=\"fill: #ff0000; stroke: #ff0000\"/>\n     <use xlink:href=\"#m9e286a9057\" x=\"431.211117\" y=\"325.41474\" style=\"fill: #ff0000; stroke: #ff0000\"/>\n     <use xlink:href=\"#m9e286a9057\" x=\"490.267823\" y=\"391.482969\" style=\"fill: #ff0000; stroke: #ff0000\"/>\n     <use xlink:href=\"#m9e286a9057\" x=\"465.436603\" y=\"339.552721\" style=\"fill: #ff0000; stroke: #ff0000\"/>\n     <use xlink:href=\"#m9e286a9057\" x=\"444.90441\" y=\"298.628889\" style=\"fill: #ff0000; stroke: #ff0000\"/>\n     <use xlink:href=\"#m9e286a9057\" x=\"443.850243\" y=\"350.618323\" style=\"fill: #ff0000; stroke: #ff0000\"/>\n     <use xlink:href=\"#m9e286a9057\" x=\"485.852735\" y=\"360.861303\" style=\"fill: #ff0000; stroke: #ff0000\"/>\n     <use xlink:href=\"#m9e286a9057\" x=\"483.108166\" y=\"280.281509\" style=\"fill: #ff0000; stroke: #ff0000\"/>\n     <use xlink:href=\"#m9e286a9057\" x=\"476.665021\" y=\"371.657239\" style=\"fill: #ff0000; stroke: #ff0000\"/>\n     <use xlink:href=\"#m9e286a9057\" x=\"438.845009\" y=\"316.136308\" style=\"fill: #ff0000; stroke: #ff0000\"/>\n     <use xlink:href=\"#m9e286a9057\" x=\"416.26586\" y=\"346.482692\" style=\"fill: #ff0000; stroke: #ff0000\"/>\n     <use xlink:href=\"#m9e286a9057\" x=\"471.280536\" y=\"363.258572\" style=\"fill: #ff0000; stroke: #ff0000\"/>\n     <use xlink:href=\"#m9e286a9057\" x=\"408.444241\" y=\"383.759462\" style=\"fill: #ff0000; stroke: #ff0000\"/>\n     <use xlink:href=\"#m9e286a9057\" x=\"451.051976\" y=\"327.207644\" style=\"fill: #ff0000; stroke: #ff0000\"/>\n     <use xlink:href=\"#m9e286a9057\" x=\"471.211626\" y=\"315.450704\" style=\"fill: #ff0000; stroke: #ff0000\"/>\n     <use xlink:href=\"#m9e286a9057\" x=\"433.707799\" y=\"368.392365\" style=\"fill: #ff0000; stroke: #ff0000\"/>\n     <use xlink:href=\"#m9e286a9057\" x=\"452.010731\" y=\"317.537174\" style=\"fill: #ff0000; stroke: #ff0000\"/>\n     <use xlink:href=\"#m9e286a9057\" x=\"496.637217\" y=\"313.196313\" style=\"fill: #ff0000; stroke: #ff0000\"/>\n     <use xlink:href=\"#m9e286a9057\" x=\"425.006715\" y=\"379.513451\" style=\"fill: #ff0000; stroke: #ff0000\"/>\n     <use xlink:href=\"#m9e286a9057\" x=\"500.636483\" y=\"388.080913\" style=\"fill: #ff0000; stroke: #ff0000\"/>\n     <use xlink:href=\"#m9e286a9057\" x=\"438.496193\" y=\"349.026348\" style=\"fill: #ff0000; stroke: #ff0000\"/>\n     <use xlink:href=\"#m9e286a9057\" x=\"377.595529\" y=\"368.224688\" style=\"fill: #ff0000; stroke: #ff0000\"/>\n     <use xlink:href=\"#m9e286a9057\" x=\"448.709172\" y=\"334.790662\" style=\"fill: #ff0000; stroke: #ff0000\"/>\n     <use xlink:href=\"#m9e286a9057\" x=\"418.798262\" y=\"352.01788\" style=\"fill: #ff0000; stroke: #ff0000\"/>\n     <use xlink:href=\"#m9e286a9057\" x=\"465.423102\" y=\"388.329094\" style=\"fill: #ff0000; stroke: #ff0000\"/>\n     <use xlink:href=\"#m9e286a9057\" x=\"400.664433\" y=\"328.247786\" style=\"fill: #ff0000; stroke: #ff0000\"/>\n     <use xlink:href=\"#m9e286a9057\" x=\"494.186527\" y=\"328.307967\" style=\"fill: #ff0000; stroke: #ff0000\"/>\n     <use xlink:href=\"#m9e286a9057\" x=\"480.332058\" y=\"310.327409\" style=\"fill: #ff0000; stroke: #ff0000\"/>\n     <use xlink:href=\"#m9e286a9057\" x=\"460.605702\" y=\"324.271008\" style=\"fill: #ff0000; stroke: #ff0000\"/>\n     <use xlink:href=\"#m9e286a9057\" x=\"471.703758\" y=\"352.566542\" style=\"fill: #ff0000; stroke: #ff0000\"/>\n     <use xlink:href=\"#m9e286a9057\" x=\"394.856686\" y=\"349.364335\" style=\"fill: #ff0000; stroke: #ff0000\"/>\n     <use xlink:href=\"#m9e286a9057\" x=\"423.994804\" y=\"339.593494\" style=\"fill: #ff0000; stroke: #ff0000\"/>\n     <use xlink:href=\"#m9e286a9057\" x=\"494.551207\" y=\"314.668453\" style=\"fill: #ff0000; stroke: #ff0000\"/>\n     <use xlink:href=\"#m9e286a9057\" x=\"421.707499\" y=\"314.661212\" style=\"fill: #ff0000; stroke: #ff0000\"/>\n     <use xlink:href=\"#m9e286a9057\" x=\"419.560833\" y=\"414.989648\" style=\"fill: #ff0000; stroke: #ff0000\"/>\n     <use xlink:href=\"#m9e286a9057\" x=\"384.983548\" y=\"385.55322\" style=\"fill: #ff0000; stroke: #ff0000\"/>\n     <use xlink:href=\"#m9e286a9057\" x=\"395.792565\" y=\"422.880301\" style=\"fill: #ff0000; stroke: #ff0000\"/>\n     <use xlink:href=\"#m9e286a9057\" x=\"468.671595\" y=\"290.794537\" style=\"fill: #ff0000; stroke: #ff0000\"/>\n     <use xlink:href=\"#m9e286a9057\" x=\"467.100971\" y=\"402.374826\" style=\"fill: #ff0000; stroke: #ff0000\"/>\n     <use xlink:href=\"#m9e286a9057\" x=\"393.42632\" y=\"338.353857\" style=\"fill: #ff0000; stroke: #ff0000\"/>\n     <use xlink:href=\"#m9e286a9057\" x=\"372.917306\" y=\"360.670508\" style=\"fill: #ff0000; stroke: #ff0000\"/>\n     <use xlink:href=\"#m9e286a9057\" x=\"397.229666\" y=\"357.742636\" style=\"fill: #ff0000; stroke: #ff0000\"/>\n     <use xlink:href=\"#m9e286a9057\" x=\"436.620801\" y=\"385.340193\" style=\"fill: #ff0000; stroke: #ff0000\"/>\n     <use xlink:href=\"#m9e286a9057\" x=\"383.476952\" y=\"362.702753\" style=\"fill: #ff0000; stroke: #ff0000\"/>\n     <use xlink:href=\"#m9e286a9057\" x=\"429.037971\" y=\"339.218662\" style=\"fill: #ff0000; stroke: #ff0000\"/>\n     <use xlink:href=\"#m9e286a9057\" x=\"381.116386\" y=\"394.737524\" style=\"fill: #ff0000; stroke: #ff0000\"/>\n     <use xlink:href=\"#m9e286a9057\" x=\"471.638808\" y=\"370.537188\" style=\"fill: #ff0000; stroke: #ff0000\"/>\n     <use xlink:href=\"#m9e286a9057\" x=\"468.718119\" y=\"339.919346\" style=\"fill: #ff0000; stroke: #ff0000\"/>\n     <use xlink:href=\"#m9e286a9057\" x=\"376.413965\" y=\"380.973153\" style=\"fill: #ff0000; stroke: #ff0000\"/>\n     <use xlink:href=\"#m9e286a9057\" x=\"436.191533\" y=\"398.381095\" style=\"fill: #ff0000; stroke: #ff0000\"/>\n     <use xlink:href=\"#m9e286a9057\" x=\"451.293824\" y=\"388.144354\" style=\"fill: #ff0000; stroke: #ff0000\"/>\n     <use xlink:href=\"#m9e286a9057\" x=\"401.828601\" y=\"384.202246\" style=\"fill: #ff0000; stroke: #ff0000\"/>\n     <use xlink:href=\"#m9e286a9057\" x=\"477.940205\" y=\"346.616313\" style=\"fill: #ff0000; stroke: #ff0000\"/>\n     <use xlink:href=\"#m9e286a9057\" x=\"396.830741\" y=\"322.130593\" style=\"fill: #ff0000; stroke: #ff0000\"/>\n     <use xlink:href=\"#m9e286a9057\" x=\"433.365458\" y=\"320.188395\" style=\"fill: #ff0000; stroke: #ff0000\"/>\n     <use xlink:href=\"#m9e286a9057\" x=\"402.277207\" y=\"328.084019\" style=\"fill: #ff0000; stroke: #ff0000\"/>\n     <use xlink:href=\"#m9e286a9057\" x=\"451.535741\" y=\"343.547367\" style=\"fill: #ff0000; stroke: #ff0000\"/>\n     <use xlink:href=\"#m9e286a9057\" x=\"413.783195\" y=\"348.028514\" style=\"fill: #ff0000; stroke: #ff0000\"/>\n     <use xlink:href=\"#m9e286a9057\" x=\"414.094532\" y=\"331.569768\" style=\"fill: #ff0000; stroke: #ff0000\"/>\n     <use xlink:href=\"#m9e286a9057\" x=\"389.671577\" y=\"416.996644\" style=\"fill: #ff0000; stroke: #ff0000\"/>\n     <use xlink:href=\"#m9e286a9057\" x=\"465.718702\" y=\"381.30739\" style=\"fill: #ff0000; stroke: #ff0000\"/>\n     <use xlink:href=\"#m9e286a9057\" x=\"406.107891\" y=\"293.030056\" style=\"fill: #ff0000; stroke: #ff0000\"/>\n     <use xlink:href=\"#m9e286a9057\" x=\"448.590574\" y=\"416.658418\" style=\"fill: #ff0000; stroke: #ff0000\"/>\n     <use xlink:href=\"#m9e286a9057\" x=\"429.585915\" y=\"351.976157\" style=\"fill: #ff0000; stroke: #ff0000\"/>\n     <use xlink:href=\"#m9e286a9057\" x=\"398.174342\" y=\"311.874355\" style=\"fill: #ff0000; stroke: #ff0000\"/>\n     <use xlink:href=\"#m9e286a9057\" x=\"314.202486\" y=\"361.056935\" style=\"fill: #ff0000; stroke: #ff0000\"/>\n     <use xlink:href=\"#m9e286a9057\" x=\"382.911141\" y=\"322.177036\" style=\"fill: #ff0000; stroke: #ff0000\"/>\n     <use xlink:href=\"#m9e286a9057\" x=\"409.974411\" y=\"367.556329\" style=\"fill: #ff0000; stroke: #ff0000\"/>\n     <use xlink:href=\"#m9e286a9057\" x=\"396.459786\" y=\"414.791764\" style=\"fill: #ff0000; stroke: #ff0000\"/>\n     <use xlink:href=\"#m9e286a9057\" x=\"404.209701\" y=\"443.323852\" style=\"fill: #ff0000; stroke: #ff0000\"/>\n     <use xlink:href=\"#m9e286a9057\" x=\"395.694739\" y=\"404.9686\" style=\"fill: #ff0000; stroke: #ff0000\"/>\n     <use xlink:href=\"#m9e286a9057\" x=\"365.255498\" y=\"341.05195\" style=\"fill: #ff0000; stroke: #ff0000\"/>\n     <use xlink:href=\"#m9e286a9057\" x=\"391.01991\" y=\"419.004677\" style=\"fill: #ff0000; stroke: #ff0000\"/>\n     <use xlink:href=\"#m9e286a9057\" x=\"429.630289\" y=\"380.060505\" style=\"fill: #ff0000; stroke: #ff0000\"/>\n     <use xlink:href=\"#m9e286a9057\" x=\"328.038256\" y=\"429.076591\" style=\"fill: #ff0000; stroke: #ff0000\"/>\n     <use xlink:href=\"#m9e286a9057\" x=\"350.302393\" y=\"403.624115\" style=\"fill: #ff0000; stroke: #ff0000\"/>\n     <use xlink:href=\"#m9e286a9057\" x=\"395.007696\" y=\"405.836388\" style=\"fill: #ff0000; stroke: #ff0000\"/>\n     <use xlink:href=\"#m9e286a9057\" x=\"386.230358\" y=\"378.544736\" style=\"fill: #ff0000; stroke: #ff0000\"/>\n     <use xlink:href=\"#m9e286a9057\" x=\"427.23605\" y=\"318.231644\" style=\"fill: #ff0000; stroke: #ff0000\"/>\n     <use xlink:href=\"#m9e286a9057\" x=\"404.152666\" y=\"354.782573\" style=\"fill: #ff0000; stroke: #ff0000\"/>\n     <use xlink:href=\"#m9e286a9057\" x=\"321.38946\" y=\"312.75233\" style=\"fill: #ff0000; stroke: #ff0000\"/>\n     <use xlink:href=\"#m9e286a9057\" x=\"363.204558\" y=\"378.788398\" style=\"fill: #ff0000; stroke: #ff0000\"/>\n     <use xlink:href=\"#m9e286a9057\" x=\"347.232985\" y=\"343.559066\" style=\"fill: #ff0000; stroke: #ff0000\"/>\n     <use xlink:href=\"#m9e286a9057\" x=\"315.737149\" y=\"431.309629\" style=\"fill: #ff0000; stroke: #ff0000\"/>\n     <use xlink:href=\"#m9e286a9057\" x=\"292.652365\" y=\"391.454513\" style=\"fill: #ff0000; stroke: #ff0000\"/>\n     <use xlink:href=\"#m9e286a9057\" x=\"356.573752\" y=\"397.01723\" style=\"fill: #ff0000; stroke: #ff0000\"/>\n     <use xlink:href=\"#m9e286a9057\" x=\"409.999361\" y=\"387.71113\" style=\"fill: #ff0000; stroke: #ff0000\"/>\n     <use xlink:href=\"#m9e286a9057\" x=\"333.114217\" y=\"375.900877\" style=\"fill: #ff0000; stroke: #ff0000\"/>\n     <use xlink:href=\"#m9e286a9057\" x=\"385.301295\" y=\"409.556108\" style=\"fill: #ff0000; stroke: #ff0000\"/>\n     <use xlink:href=\"#m9e286a9057\" x=\"292.816946\" y=\"326.830946\" style=\"fill: #ff0000; stroke: #ff0000\"/>\n     <use xlink:href=\"#m9e286a9057\" x=\"326.825268\" y=\"405.844791\" style=\"fill: #ff0000; stroke: #ff0000\"/>\n     <use xlink:href=\"#m9e286a9057\" x=\"311.554638\" y=\"361.714563\" style=\"fill: #ff0000; stroke: #ff0000\"/>\n     <use xlink:href=\"#m9e286a9057\" x=\"403.307397\" y=\"328.905588\" style=\"fill: #ff0000; stroke: #ff0000\"/>\n     <use xlink:href=\"#m9e286a9057\" x=\"403.24676\" y=\"323.185192\" style=\"fill: #ff0000; stroke: #ff0000\"/>\n     <use xlink:href=\"#m9e286a9057\" x=\"414.950335\" y=\"385.222567\" style=\"fill: #ff0000; stroke: #ff0000\"/>\n     <use xlink:href=\"#m9e286a9057\" x=\"272.95445\" y=\"404.92694\" style=\"fill: #ff0000; stroke: #ff0000\"/>\n     <use xlink:href=\"#m9e286a9057\" x=\"313.401572\" y=\"320.156114\" style=\"fill: #ff0000; stroke: #ff0000\"/>\n     <use xlink:href=\"#m9e286a9057\" x=\"349.89694\" y=\"388.488144\" style=\"fill: #ff0000; stroke: #ff0000\"/>\n     <use xlink:href=\"#m9e286a9057\" x=\"385.424632\" y=\"296.547661\" style=\"fill: #ff0000; stroke: #ff0000\"/>\n     <use xlink:href=\"#m9e286a9057\" x=\"321.276708\" y=\"334.094764\" style=\"fill: #ff0000; stroke: #ff0000\"/>\n     <use xlink:href=\"#m9e286a9057\" x=\"360.807262\" y=\"358.765471\" style=\"fill: #ff0000; stroke: #ff0000\"/>\n     <use xlink:href=\"#m9e286a9057\" x=\"369.270823\" y=\"378.085835\" style=\"fill: #ff0000; stroke: #ff0000\"/>\n     <use xlink:href=\"#m9e286a9057\" x=\"394.14808\" y=\"413.48594\" style=\"fill: #ff0000; stroke: #ff0000\"/>\n     <use xlink:href=\"#m9e286a9057\" x=\"327.993023\" y=\"416.803424\" style=\"fill: #ff0000; stroke: #ff0000\"/>\n     <use xlink:href=\"#m9e286a9057\" x=\"330.936628\" y=\"362.794227\" style=\"fill: #ff0000; stroke: #ff0000\"/>\n     <use xlink:href=\"#m9e286a9057\" x=\"319.171585\" y=\"367.661681\" style=\"fill: #ff0000; stroke: #ff0000\"/>\n     <use xlink:href=\"#m9e286a9057\" x=\"310.338509\" y=\"392.217296\" style=\"fill: #ff0000; stroke: #ff0000\"/>\n     <use xlink:href=\"#m9e286a9057\" x=\"391.472573\" y=\"388.660585\" style=\"fill: #ff0000; stroke: #ff0000\"/>\n     <use xlink:href=\"#m9e286a9057\" x=\"335.972737\" y=\"373.290717\" style=\"fill: #ff0000; stroke: #ff0000\"/>\n     <use xlink:href=\"#m9e286a9057\" x=\"377.584436\" y=\"381.23471\" style=\"fill: #ff0000; stroke: #ff0000\"/>\n     <use xlink:href=\"#m9e286a9057\" x=\"366.049727\" y=\"356.95254\" style=\"fill: #ff0000; stroke: #ff0000\"/>\n     <use xlink:href=\"#m9e286a9057\" x=\"360.167214\" y=\"324.006881\" style=\"fill: #ff0000; stroke: #ff0000\"/>\n     <use xlink:href=\"#m9e286a9057\" x=\"322.123558\" y=\"358.09548\" style=\"fill: #ff0000; stroke: #ff0000\"/>\n     <use xlink:href=\"#m9e286a9057\" x=\"375.867445\" y=\"348.724187\" style=\"fill: #ff0000; stroke: #ff0000\"/>\n     <use xlink:href=\"#m9e286a9057\" x=\"365.0482\" y=\"309.617851\" style=\"fill: #ff0000; stroke: #ff0000\"/>\n     <use xlink:href=\"#m9e286a9057\" x=\"285.075262\" y=\"333.690102\" style=\"fill: #ff0000; stroke: #ff0000\"/>\n     <use xlink:href=\"#m9e286a9057\" x=\"334.437422\" y=\"372.362163\" style=\"fill: #ff0000; stroke: #ff0000\"/>\n     <use xlink:href=\"#m9e286a9057\" x=\"316.166039\" y=\"334.700128\" style=\"fill: #ff0000; stroke: #ff0000\"/>\n     <use xlink:href=\"#m9e286a9057\" x=\"375.742937\" y=\"385.976112\" style=\"fill: #ff0000; stroke: #ff0000\"/>\n     <use xlink:href=\"#m9e286a9057\" x=\"268.558884\" y=\"312.043287\" style=\"fill: #ff0000; stroke: #ff0000\"/>\n     <use xlink:href=\"#m9e286a9057\" x=\"360.818067\" y=\"344.173333\" style=\"fill: #ff0000; stroke: #ff0000\"/>\n     <use xlink:href=\"#m9e286a9057\" x=\"399.359285\" y=\"290.85856\" style=\"fill: #ff0000; stroke: #ff0000\"/>\n     <use xlink:href=\"#m9e286a9057\" x=\"272.842236\" y=\"303.011241\" style=\"fill: #ff0000; stroke: #ff0000\"/>\n     <use xlink:href=\"#m9e286a9057\" x=\"308.854904\" y=\"388.651092\" style=\"fill: #ff0000; stroke: #ff0000\"/>\n     <use xlink:href=\"#m9e286a9057\" x=\"233.975232\" y=\"388.283553\" style=\"fill: #ff0000; stroke: #ff0000\"/>\n     <use xlink:href=\"#m9e286a9057\" x=\"334.265403\" y=\"382.099975\" style=\"fill: #ff0000; stroke: #ff0000\"/>\n     <use xlink:href=\"#m9e286a9057\" x=\"328.248048\" y=\"351.16849\" style=\"fill: #ff0000; stroke: #ff0000\"/>\n     <use xlink:href=\"#m9e286a9057\" x=\"293.095278\" y=\"340.95563\" style=\"fill: #ff0000; stroke: #ff0000\"/>\n     <use xlink:href=\"#m9e286a9057\" x=\"281.838306\" y=\"303.934158\" style=\"fill: #ff0000; stroke: #ff0000\"/>\n     <use xlink:href=\"#m9e286a9057\" x=\"293.073993\" y=\"357.425779\" style=\"fill: #ff0000; stroke: #ff0000\"/>\n     <use xlink:href=\"#m9e286a9057\" x=\"370.604746\" y=\"381.754469\" style=\"fill: #ff0000; stroke: #ff0000\"/>\n     <use xlink:href=\"#m9e286a9057\" x=\"323.600512\" y=\"314.167317\" style=\"fill: #ff0000; stroke: #ff0000\"/>\n     <use xlink:href=\"#m9e286a9057\" x=\"342.793596\" y=\"355.173275\" style=\"fill: #ff0000; stroke: #ff0000\"/>\n     <use xlink:href=\"#m9e286a9057\" x=\"249.821311\" y=\"372.85738\" style=\"fill: #ff0000; stroke: #ff0000\"/>\n     <use xlink:href=\"#m9e286a9057\" x=\"316.250392\" y=\"430.642788\" style=\"fill: #ff0000; stroke: #ff0000\"/>\n     <use xlink:href=\"#m9e286a9057\" x=\"254.497109\" y=\"298.029872\" style=\"fill: #ff0000; stroke: #ff0000\"/>\n     <use xlink:href=\"#m9e286a9057\" x=\"274.088723\" y=\"278.260341\" style=\"fill: #ff0000; stroke: #ff0000\"/>\n     <use xlink:href=\"#m9e286a9057\" x=\"276.400809\" y=\"305.748455\" style=\"fill: #ff0000; stroke: #ff0000\"/>\n     <use xlink:href=\"#m9e286a9057\" x=\"277.394028\" y=\"313.796852\" style=\"fill: #ff0000; stroke: #ff0000\"/>\n     <use xlink:href=\"#m9e286a9057\" x=\"303.053117\" y=\"290.673697\" style=\"fill: #ff0000; stroke: #ff0000\"/>\n     <use xlink:href=\"#m9e286a9057\" x=\"297.554306\" y=\"300.459424\" style=\"fill: #ff0000; stroke: #ff0000\"/>\n     <use xlink:href=\"#m9e286a9057\" x=\"276.468104\" y=\"327.168401\" style=\"fill: #ff0000; stroke: #ff0000\"/>\n     <use xlink:href=\"#m9e286a9057\" x=\"253.729504\" y=\"332.188803\" style=\"fill: #ff0000; stroke: #ff0000\"/>\n     <use xlink:href=\"#m9e286a9057\" x=\"229.754364\" y=\"368.553316\" style=\"fill: #ff0000; stroke: #ff0000\"/>\n     <use xlink:href=\"#m9e286a9057\" x=\"227.616362\" y=\"377.433277\" style=\"fill: #ff0000; stroke: #ff0000\"/>\n     <use xlink:href=\"#m9e286a9057\" x=\"254.099696\" y=\"334.478438\" style=\"fill: #ff0000; stroke: #ff0000\"/>\n     <use xlink:href=\"#m9e286a9057\" x=\"272.50468\" y=\"373.407578\" style=\"fill: #ff0000; stroke: #ff0000\"/>\n     <use xlink:href=\"#m9e286a9057\" x=\"278.465805\" y=\"322.624069\" style=\"fill: #ff0000; stroke: #ff0000\"/>\n     <use xlink:href=\"#m9e286a9057\" x=\"211.967647\" y=\"310.934906\" style=\"fill: #ff0000; stroke: #ff0000\"/>\n     <use xlink:href=\"#m9e286a9057\" x=\"295.834064\" y=\"391.4158\" style=\"fill: #ff0000; stroke: #ff0000\"/>\n     <use xlink:href=\"#m9e286a9057\" x=\"311.265411\" y=\"377.324569\" style=\"fill: #ff0000; stroke: #ff0000\"/>\n     <use xlink:href=\"#m9e286a9057\" x=\"289.779452\" y=\"373.620059\" style=\"fill: #ff0000; stroke: #ff0000\"/>\n     <use xlink:href=\"#m9e286a9057\" x=\"292.940294\" y=\"278.028015\" style=\"fill: #ff0000; stroke: #ff0000\"/>\n     <use xlink:href=\"#m9e286a9057\" x=\"243.7739\" y=\"325.036095\" style=\"fill: #ff0000; stroke: #ff0000\"/>\n     <use xlink:href=\"#m9e286a9057\" x=\"291.425652\" y=\"282.287575\" style=\"fill: #ff0000; stroke: #ff0000\"/>\n     <use xlink:href=\"#m9e286a9057\" x=\"285.418215\" y=\"377.837295\" style=\"fill: #ff0000; stroke: #ff0000\"/>\n     <use xlink:href=\"#m9e286a9057\" x=\"246.72675\" y=\"337.746399\" style=\"fill: #ff0000; stroke: #ff0000\"/>\n     <use xlink:href=\"#m9e286a9057\" x=\"270.847666\" y=\"394.096704\" style=\"fill: #ff0000; stroke: #ff0000\"/>\n     <use xlink:href=\"#m9e286a9057\" x=\"267.052786\" y=\"316.245284\" style=\"fill: #ff0000; stroke: #ff0000\"/>\n     <use xlink:href=\"#m9e286a9057\" x=\"302.872065\" y=\"386.755705\" style=\"fill: #ff0000; stroke: #ff0000\"/>\n     <use xlink:href=\"#m9e286a9057\" x=\"198.507672\" y=\"275.171146\" style=\"fill: #ff0000; stroke: #ff0000\"/>\n     <use xlink:href=\"#m9e286a9057\" x=\"263.504655\" y=\"341.617498\" style=\"fill: #ff0000; stroke: #ff0000\"/>\n     <use xlink:href=\"#m9e286a9057\" x=\"256.919604\" y=\"338.077156\" style=\"fill: #ff0000; stroke: #ff0000\"/>\n     <use xlink:href=\"#m9e286a9057\" x=\"248.433055\" y=\"341.645628\" style=\"fill: #ff0000; stroke: #ff0000\"/>\n     <use xlink:href=\"#m9e286a9057\" x=\"318.545113\" y=\"284.516201\" style=\"fill: #ff0000; stroke: #ff0000\"/>\n     <use xlink:href=\"#m9e286a9057\" x=\"237.907458\" y=\"327.799543\" style=\"fill: #ff0000; stroke: #ff0000\"/>\n     <use xlink:href=\"#m9e286a9057\" x=\"251.046172\" y=\"231.828043\" style=\"fill: #ff0000; stroke: #ff0000\"/>\n     <use xlink:href=\"#m9e286a9057\" x=\"239.652474\" y=\"347.141058\" style=\"fill: #ff0000; stroke: #ff0000\"/>\n     <use xlink:href=\"#m9e286a9057\" x=\"278.928144\" y=\"299.844041\" style=\"fill: #ff0000; stroke: #ff0000\"/>\n     <use xlink:href=\"#m9e286a9057\" x=\"237.752333\" y=\"250.602834\" style=\"fill: #ff0000; stroke: #ff0000\"/>\n     <use xlink:href=\"#m9e286a9057\" x=\"288.074276\" y=\"292.465239\" style=\"fill: #ff0000; stroke: #ff0000\"/>\n     <use xlink:href=\"#m9e286a9057\" x=\"317.880163\" y=\"303.295386\" style=\"fill: #ff0000; stroke: #ff0000\"/>\n     <use xlink:href=\"#m9e286a9057\" x=\"205.082047\" y=\"235.440139\" style=\"fill: #ff0000; stroke: #ff0000\"/>\n     <use xlink:href=\"#m9e286a9057\" x=\"250.542734\" y=\"326.751196\" style=\"fill: #ff0000; stroke: #ff0000\"/>\n     <use xlink:href=\"#m9e286a9057\" x=\"243.937602\" y=\"341.999377\" style=\"fill: #ff0000; stroke: #ff0000\"/>\n     <use xlink:href=\"#m9e286a9057\" x=\"221.441151\" y=\"286.372422\" style=\"fill: #ff0000; stroke: #ff0000\"/>\n     <use xlink:href=\"#m9e286a9057\" x=\"320.175045\" y=\"265.460704\" style=\"fill: #ff0000; stroke: #ff0000\"/>\n     <use xlink:href=\"#m9e286a9057\" x=\"283.420171\" y=\"329.037303\" style=\"fill: #ff0000; stroke: #ff0000\"/>\n     <use xlink:href=\"#m9e286a9057\" x=\"312.00035\" y=\"341.474993\" style=\"fill: #ff0000; stroke: #ff0000\"/>\n     <use xlink:href=\"#m9e286a9057\" x=\"244.863977\" y=\"227.306934\" style=\"fill: #ff0000; stroke: #ff0000\"/>\n     <use xlink:href=\"#m9e286a9057\" x=\"199.842143\" y=\"323.550802\" style=\"fill: #ff0000; stroke: #ff0000\"/>\n     <use xlink:href=\"#m9e286a9057\" x=\"313.0802\" y=\"339.453475\" style=\"fill: #ff0000; stroke: #ff0000\"/>\n     <use xlink:href=\"#m9e286a9057\" x=\"291.578628\" y=\"313.502745\" style=\"fill: #ff0000; stroke: #ff0000\"/>\n     <use xlink:href=\"#m9e286a9057\" x=\"243.227301\" y=\"258.315205\" style=\"fill: #ff0000; stroke: #ff0000\"/>\n     <use xlink:href=\"#m9e286a9057\" x=\"277.075488\" y=\"238.330959\" style=\"fill: #ff0000; stroke: #ff0000\"/>\n     <use xlink:href=\"#m9e286a9057\" x=\"295.457272\" y=\"231.170893\" style=\"fill: #ff0000; stroke: #ff0000\"/>\n     <use xlink:href=\"#m9e286a9057\" x=\"283.57093\" y=\"269.412227\" style=\"fill: #ff0000; stroke: #ff0000\"/>\n     <use xlink:href=\"#m9e286a9057\" x=\"276.400579\" y=\"260.091431\" style=\"fill: #ff0000; stroke: #ff0000\"/>\n     <use xlink:href=\"#m9e286a9057\" x=\"225.400028\" y=\"245.826023\" style=\"fill: #ff0000; stroke: #ff0000\"/>\n     <use xlink:href=\"#m9e286a9057\" x=\"198.306466\" y=\"308.193596\" style=\"fill: #ff0000; stroke: #ff0000\"/>\n     <use xlink:href=\"#m9e286a9057\" x=\"218.763924\" y=\"267.153658\" style=\"fill: #ff0000; stroke: #ff0000\"/>\n     <use xlink:href=\"#m9e286a9057\" x=\"268.461694\" y=\"204.413246\" style=\"fill: #ff0000; stroke: #ff0000\"/>\n     <use xlink:href=\"#m9e286a9057\" x=\"280.025843\" y=\"215.716046\" style=\"fill: #ff0000; stroke: #ff0000\"/>\n     <use xlink:href=\"#m9e286a9057\" x=\"249.004983\" y=\"333.697404\" style=\"fill: #ff0000; stroke: #ff0000\"/>\n     <use xlink:href=\"#m9e286a9057\" x=\"254.20545\" y=\"258.40653\" style=\"fill: #ff0000; stroke: #ff0000\"/>\n     <use xlink:href=\"#m9e286a9057\" x=\"307.510715\" y=\"299.850811\" style=\"fill: #ff0000; stroke: #ff0000\"/>\n     <use xlink:href=\"#m9e286a9057\" x=\"219.565421\" y=\"291.559247\" style=\"fill: #ff0000; stroke: #ff0000\"/>\n     <use xlink:href=\"#m9e286a9057\" x=\"228.111303\" y=\"307.607357\" style=\"fill: #ff0000; stroke: #ff0000\"/>\n     <use xlink:href=\"#m9e286a9057\" x=\"250.132247\" y=\"232.991882\" style=\"fill: #ff0000; stroke: #ff0000\"/>\n     <use xlink:href=\"#m9e286a9057\" x=\"233.082261\" y=\"207.349783\" style=\"fill: #ff0000; stroke: #ff0000\"/>\n     <use xlink:href=\"#m9e286a9057\" x=\"202.390879\" y=\"320.294981\" style=\"fill: #ff0000; stroke: #ff0000\"/>\n    </g>\n   </g>\n   <g id=\"patch_3\">\n    <path d=\"M 38.482813 543.718125 \nL 38.482813 22.318125 \n\" style=\"fill: none; stroke: #000000; stroke-width: 0.8; stroke-linejoin: miter; stroke-linecap: square\"/>\n   </g>\n   <g id=\"patch_4\">\n    <path d=\"M 561.632812 543.718125 \nL 561.632812 22.318125 \n\" style=\"fill: none; stroke: #000000; stroke-width: 0.8; stroke-linejoin: miter; stroke-linecap: square\"/>\n   </g>\n   <g id=\"patch_5\">\n    <path d=\"M 38.482812 543.718125 \nL 561.632812 543.718125 \n\" style=\"fill: none; stroke: #000000; stroke-width: 0.8; stroke-linejoin: miter; stroke-linecap: square\"/>\n   </g>\n   <g id=\"patch_6\">\n    <path d=\"M 38.482812 22.318125 \nL 561.632812 22.318125 \n\" style=\"fill: none; stroke: #000000; stroke-width: 0.8; stroke-linejoin: miter; stroke-linecap: square\"/>\n   </g>\n   <g id=\"text_18\">\n    <!-- points in train data -->\n    <g transform=\"translate(242.960312 16.318125)scale(0.12 -0.12)\">\n     <defs>\n      <path id=\"DejaVuSans-70\" d=\"M 1159 525 \nL 1159 -1331 \nL 581 -1331 \nL 581 3500 \nL 1159 3500 \nL 1159 2969 \nQ 1341 3281 1617 3432 \nQ 1894 3584 2278 3584 \nQ 2916 3584 3314 3078 \nQ 3713 2572 3713 1747 \nQ 3713 922 3314 415 \nQ 2916 -91 2278 -91 \nQ 1894 -91 1617 61 \nQ 1341 213 1159 525 \nz\nM 3116 1747 \nQ 3116 2381 2855 2742 \nQ 2594 3103 2138 3103 \nQ 1681 3103 1420 2742 \nQ 1159 2381 1159 1747 \nQ 1159 1113 1420 752 \nQ 1681 391 2138 391 \nQ 2594 391 2855 752 \nQ 3116 1113 3116 1747 \nz\n\" transform=\"scale(0.015625)\"/>\n      <path id=\"DejaVuSans-6f\" d=\"M 1959 3097 \nQ 1497 3097 1228 2736 \nQ 959 2375 959 1747 \nQ 959 1119 1226 758 \nQ 1494 397 1959 397 \nQ 2419 397 2687 759 \nQ 2956 1122 2956 1747 \nQ 2956 2369 2687 2733 \nQ 2419 3097 1959 3097 \nz\nM 1959 3584 \nQ 2709 3584 3137 3096 \nQ 3566 2609 3566 1747 \nQ 3566 888 3137 398 \nQ 2709 -91 1959 -91 \nQ 1206 -91 779 398 \nQ 353 888 353 1747 \nQ 353 2609 779 3096 \nQ 1206 3584 1959 3584 \nz\n\" transform=\"scale(0.015625)\"/>\n      <path id=\"DejaVuSans-69\" d=\"M 603 3500 \nL 1178 3500 \nL 1178 0 \nL 603 0 \nL 603 3500 \nz\nM 603 4863 \nL 1178 4863 \nL 1178 4134 \nL 603 4134 \nL 603 4863 \nz\n\" transform=\"scale(0.015625)\"/>\n      <path id=\"DejaVuSans-6e\" d=\"M 3513 2113 \nL 3513 0 \nL 2938 0 \nL 2938 2094 \nQ 2938 2591 2744 2837 \nQ 2550 3084 2163 3084 \nQ 1697 3084 1428 2787 \nQ 1159 2491 1159 1978 \nL 1159 0 \nL 581 0 \nL 581 3500 \nL 1159 3500 \nL 1159 2956 \nQ 1366 3272 1645 3428 \nQ 1925 3584 2291 3584 \nQ 2894 3584 3203 3211 \nQ 3513 2838 3513 2113 \nz\n\" transform=\"scale(0.015625)\"/>\n      <path id=\"DejaVuSans-74\" d=\"M 1172 4494 \nL 1172 3500 \nL 2356 3500 \nL 2356 3053 \nL 1172 3053 \nL 1172 1153 \nQ 1172 725 1289 603 \nQ 1406 481 1766 481 \nL 2356 481 \nL 2356 0 \nL 1766 0 \nQ 1100 0 847 248 \nQ 594 497 594 1153 \nL 594 3053 \nL 172 3053 \nL 172 3500 \nL 594 3500 \nL 594 4494 \nL 1172 4494 \nz\n\" transform=\"scale(0.015625)\"/>\n      <path id=\"DejaVuSans-73\" d=\"M 2834 3397 \nL 2834 2853 \nQ 2591 2978 2328 3040 \nQ 2066 3103 1784 3103 \nQ 1356 3103 1142 2972 \nQ 928 2841 928 2578 \nQ 928 2378 1081 2264 \nQ 1234 2150 1697 2047 \nL 1894 2003 \nQ 2506 1872 2764 1633 \nQ 3022 1394 3022 966 \nQ 3022 478 2636 193 \nQ 2250 -91 1575 -91 \nQ 1294 -91 989 -36 \nQ 684 19 347 128 \nL 347 722 \nQ 666 556 975 473 \nQ 1284 391 1588 391 \nQ 1994 391 2212 530 \nQ 2431 669 2431 922 \nQ 2431 1156 2273 1281 \nQ 2116 1406 1581 1522 \nL 1381 1569 \nQ 847 1681 609 1914 \nQ 372 2147 372 2553 \nQ 372 3047 722 3315 \nQ 1072 3584 1716 3584 \nQ 2034 3584 2315 3537 \nQ 2597 3491 2834 3397 \nz\n\" transform=\"scale(0.015625)\"/>\n      <path id=\"DejaVuSans-20\" transform=\"scale(0.015625)\"/>\n      <path id=\"DejaVuSans-72\" d=\"M 2631 2963 \nQ 2534 3019 2420 3045 \nQ 2306 3072 2169 3072 \nQ 1681 3072 1420 2755 \nQ 1159 2438 1159 1844 \nL 1159 0 \nL 581 0 \nL 581 3500 \nL 1159 3500 \nL 1159 2956 \nQ 1341 3275 1631 3429 \nQ 1922 3584 2338 3584 \nQ 2397 3584 2469 3576 \nQ 2541 3569 2628 3553 \nL 2631 2963 \nz\n\" transform=\"scale(0.015625)\"/>\n      <path id=\"DejaVuSans-61\" d=\"M 2194 1759 \nQ 1497 1759 1228 1600 \nQ 959 1441 959 1056 \nQ 959 750 1161 570 \nQ 1363 391 1709 391 \nQ 2188 391 2477 730 \nQ 2766 1069 2766 1631 \nL 2766 1759 \nL 2194 1759 \nz\nM 3341 1997 \nL 3341 0 \nL 2766 0 \nL 2766 531 \nQ 2569 213 2275 61 \nQ 1981 -91 1556 -91 \nQ 1019 -91 701 211 \nQ 384 513 384 1019 \nQ 384 1609 779 1909 \nQ 1175 2209 1959 2209 \nL 2766 2209 \nL 2766 2266 \nQ 2766 2663 2505 2880 \nQ 2244 3097 1772 3097 \nQ 1472 3097 1187 3025 \nQ 903 2953 641 2809 \nL 641 3341 \nQ 956 3463 1253 3523 \nQ 1550 3584 1831 3584 \nQ 2591 3584 2966 3190 \nQ 3341 2797 3341 1997 \nz\n\" transform=\"scale(0.015625)\"/>\n      <path id=\"DejaVuSans-64\" d=\"M 2906 2969 \nL 2906 4863 \nL 3481 4863 \nL 3481 0 \nL 2906 0 \nL 2906 525 \nQ 2725 213 2448 61 \nQ 2172 -91 1784 -91 \nQ 1150 -91 751 415 \nQ 353 922 353 1747 \nQ 353 2572 751 3078 \nQ 1150 3584 1784 3584 \nQ 2172 3584 2448 3432 \nQ 2725 3281 2906 2969 \nz\nM 947 1747 \nQ 947 1113 1208 752 \nQ 1469 391 1925 391 \nQ 2381 391 2643 752 \nQ 2906 1113 2906 1747 \nQ 2906 2381 2643 2742 \nQ 2381 3103 1925 3103 \nQ 1469 3103 1208 2742 \nQ 947 2381 947 1747 \nz\n\" transform=\"scale(0.015625)\"/>\n     </defs>\n     <use xlink:href=\"#DejaVuSans-70\"/>\n     <use xlink:href=\"#DejaVuSans-6f\" x=\"63.476562\"/>\n     <use xlink:href=\"#DejaVuSans-69\" x=\"124.658203\"/>\n     <use xlink:href=\"#DejaVuSans-6e\" x=\"152.441406\"/>\n     <use xlink:href=\"#DejaVuSans-74\" x=\"215.820312\"/>\n     <use xlink:href=\"#DejaVuSans-73\" x=\"255.029297\"/>\n     <use xlink:href=\"#DejaVuSans-20\" x=\"307.128906\"/>\n     <use xlink:href=\"#DejaVuSans-69\" x=\"338.916016\"/>\n     <use xlink:href=\"#DejaVuSans-6e\" x=\"366.699219\"/>\n     <use xlink:href=\"#DejaVuSans-20\" x=\"430.078125\"/>\n     <use xlink:href=\"#DejaVuSans-74\" x=\"461.865234\"/>\n     <use xlink:href=\"#DejaVuSans-72\" x=\"501.074219\"/>\n     <use xlink:href=\"#DejaVuSans-61\" x=\"542.1875\"/>\n     <use xlink:href=\"#DejaVuSans-69\" x=\"603.466797\"/>\n     <use xlink:href=\"#DejaVuSans-6e\" x=\"631.25\"/>\n     <use xlink:href=\"#DejaVuSans-20\" x=\"694.628906\"/>\n     <use xlink:href=\"#DejaVuSans-64\" x=\"726.416016\"/>\n     <use xlink:href=\"#DejaVuSans-61\" x=\"789.892578\"/>\n     <use xlink:href=\"#DejaVuSans-74\" x=\"851.171875\"/>\n     <use xlink:href=\"#DejaVuSans-61\" x=\"890.380859\"/>\n    </g>\n   </g>\n   <g id=\"legend_1\">\n    <g id=\"patch_7\">\n     <path d=\"M 476.710937 59.674375 \nL 554.632812 59.674375 \nQ 556.632812 59.674375 556.632812 57.674375 \nL 556.632812 29.318125 \nQ 556.632812 27.318125 554.632812 27.318125 \nL 476.710937 27.318125 \nQ 474.710937 27.318125 474.710937 29.318125 \nL 474.710937 57.674375 \nQ 474.710937 59.674375 476.710937 59.674375 \nz\n\" style=\"fill: #ffffff; opacity: 0.8; stroke: #cccccc; stroke-linejoin: miter\"/>\n    </g>\n    <g id=\"line2d_20\">\n     <g>\n      <use xlink:href=\"#mdf7c279de0\" x=\"488.710937\" y=\"35.416562\" style=\"fill: #0000ff; stroke: #0000ff\"/>\n     </g>\n    </g>\n    <g id=\"text_19\">\n     <!-- class = 0 -->\n     <g transform=\"translate(506.710937 38.916562)scale(0.1 -0.1)\">\n      <defs>\n       <path id=\"DejaVuSans-63\" d=\"M 3122 3366 \nL 3122 2828 \nQ 2878 2963 2633 3030 \nQ 2388 3097 2138 3097 \nQ 1578 3097 1268 2742 \nQ 959 2388 959 1747 \nQ 959 1106 1268 751 \nQ 1578 397 2138 397 \nQ 2388 397 2633 464 \nQ 2878 531 3122 666 \nL 3122 134 \nQ 2881 22 2623 -34 \nQ 2366 -91 2075 -91 \nQ 1284 -91 818 406 \nQ 353 903 353 1747 \nQ 353 2603 823 3093 \nQ 1294 3584 2113 3584 \nQ 2378 3584 2631 3529 \nQ 2884 3475 3122 3366 \nz\n\" transform=\"scale(0.015625)\"/>\n       <path id=\"DejaVuSans-6c\" d=\"M 603 4863 \nL 1178 4863 \nL 1178 0 \nL 603 0 \nL 603 4863 \nz\n\" transform=\"scale(0.015625)\"/>\n       <path id=\"DejaVuSans-3d\" d=\"M 678 2906 \nL 4684 2906 \nL 4684 2381 \nL 678 2381 \nL 678 2906 \nz\nM 678 1631 \nL 4684 1631 \nL 4684 1100 \nL 678 1100 \nL 678 1631 \nz\n\" transform=\"scale(0.015625)\"/>\n      </defs>\n      <use xlink:href=\"#DejaVuSans-63\"/>\n      <use xlink:href=\"#DejaVuSans-6c\" x=\"54.980469\"/>\n      <use xlink:href=\"#DejaVuSans-61\" x=\"82.763672\"/>\n      <use xlink:href=\"#DejaVuSans-73\" x=\"144.042969\"/>\n      <use xlink:href=\"#DejaVuSans-73\" x=\"196.142578\"/>\n      <use xlink:href=\"#DejaVuSans-20\" x=\"248.242188\"/>\n      <use xlink:href=\"#DejaVuSans-3d\" x=\"280.029297\"/>\n      <use xlink:href=\"#DejaVuSans-20\" x=\"363.818359\"/>\n      <use xlink:href=\"#DejaVuSans-30\" x=\"395.605469\"/>\n     </g>\n    </g>\n    <g id=\"line2d_21\">\n     <g>\n      <use xlink:href=\"#m9e286a9057\" x=\"488.710937\" y=\"50.094687\" style=\"fill: #ff0000; stroke: #ff0000\"/>\n     </g>\n    </g>\n    <g id=\"text_20\">\n     <!-- class = 1 -->\n     <g transform=\"translate(506.710937 53.594687)scale(0.1 -0.1)\">\n      <use xlink:href=\"#DejaVuSans-63\"/>\n      <use xlink:href=\"#DejaVuSans-6c\" x=\"54.980469\"/>\n      <use xlink:href=\"#DejaVuSans-61\" x=\"82.763672\"/>\n      <use xlink:href=\"#DejaVuSans-73\" x=\"144.042969\"/>\n      <use xlink:href=\"#DejaVuSans-73\" x=\"196.142578\"/>\n      <use xlink:href=\"#DejaVuSans-20\" x=\"248.242188\"/>\n      <use xlink:href=\"#DejaVuSans-3d\" x=\"280.029297\"/>\n      <use xlink:href=\"#DejaVuSans-20\" x=\"363.818359\"/>\n      <use xlink:href=\"#DejaVuSans-31\" x=\"395.605469\"/>\n     </g>\n    </g>\n   </g>\n  </g>\n </g>\n <defs>\n  <clipPath id=\"p4305c4dadd\">\n   <rect x=\"38.482813\" y=\"22.318125\" width=\"523.15\" height=\"521.4\"/>\n  </clipPath>\n </defs>\n</svg>\n",
      "image/png": "[encoded data removed]"
     },
     "metadata": {
      "needs_background": "light"
     }
    }
   ],
   "source": [
    "f = plt.figure(figsize=(8,8))   \n",
    "\n",
    "plt.title('points in train data')\n",
    "plt.plot(data_train_point_x_class_0, data_train_point_y_class_0, 'o', color='blue', label='class = 0')\n",
    "plt.plot(data_train_point_x_class_1, data_train_point_y_class_1, 'o', color='red', label='class = 1')\n",
    "plt.axis('equal')\n",
    "plt.legend()\n",
    "plt.tight_layout()\n",
    "plt.show()"
   ]
  },
  {
   "cell_type": "code",
   "execution_count": 4,
   "metadata": {},
   "outputs": [
    {
     "data": {
      "image/png": "[encoded data removed]",
      "text/plain": [
       "<Figure size 576x576 with 1 Axes>"
      ]
     },
     "metadata": {
      "needs_background": "light"
     },
     "output_type": "display_data"
    }
   ],
   "source": [
    "f = plt.figure(figsize=(8,8))   \n",
    "\n",
    "plt.title('points in test data')\n",
    "plt.plot(data_test_point_x_class_0, data_test_point_y_class_0, 'o', color='blue', label='class = 0')\n",
    "plt.plot(data_test_point_x_class_1, data_test_point_y_class_1, 'o', color='red', label='class = 1')\n",
    "plt.axis('equal')\n",
    "plt.legend()\n",
    "plt.tight_layout()\n",
    "plt.show()"
   ]
  },
  {
   "cell_type": "markdown",
   "metadata": {},
   "source": [
    "## define the feature functions"
   ]
  },
  {
   "cell_type": "markdown",
   "metadata": {},
   "source": [
    "- feature vector is defined by $(1, f_1(x, y), f_2(x, y), \\cdots, f_{k-1}(x, y)) \\in \\mathbb{R}^k$"
   ]
  },
  {
   "cell_type": "code",
   "execution_count": null,
   "metadata": {},
   "outputs": [],
   "source": [
    "def compute_feature(point):\n",
    "\n",
    "    # ++++++++++++++++++++++++++++++++++++++++++++++++++\n",
    "    # complete the blanks\n",
    "    #\n",
    "\n",
    "\n",
    "    #\n",
    "    # ++++++++++++++++++++++++++++++++++++++++++++++++++\n",
    "\n",
    "    return feature"
   ]
  },
  {
   "cell_type": "markdown",
   "metadata": {},
   "source": [
    "## define the linear regression function"
   ]
  },
  {
   "cell_type": "markdown",
   "metadata": {},
   "source": [
    "- $\\theta = (\\theta_0, \\theta_1, \\cdots, \\theta_{k-1}) \\in \\mathbb{R}^k$\n",
    "- feature = $(1, f_1(x, y), \\cdots, f_{k-1}(x, y)) \\in \\mathbb{R}^k$"
   ]
  },
  {
   "cell_type": "code",
   "execution_count": 4,
   "metadata": {},
   "outputs": [],
   "source": [
    "def compute_linear_regression(theta, feature):\n",
    "\n",
    "    # ++++++++++++++++++++++++++++++++++++++++++++++++++\n",
    "    # complete the blanks\n",
    "    #\n",
    "\n",
    "    value =0 \n",
    "    for i, t in enumerate(theta):\n",
    "        value += np.inner(t, feature[i])\n",
    "        \n",
    "    #\n",
    "    # ++++++++++++++++++++++++++++++++++++++++++++++++++\n",
    "    \n",
    "    return value"
   ]
  },
  {
   "cell_type": "markdown",
   "metadata": {},
   "source": [
    "## define sigmoid function with input"
   ]
  },
  {
   "cell_type": "markdown",
   "metadata": {},
   "source": [
    "- $z \\in \\mathbb{R}$"
   ]
  },
  {
   "cell_type": "code",
   "execution_count": 5,
   "metadata": {},
   "outputs": [],
   "source": [
    "def sigmoid(z):\n",
    "\n",
    "    # ++++++++++++++++++++++++++++++++++++++++++++++++++\n",
    "    # complete the blanks\n",
    "    #\n",
    "    value = 1/(1 + np.exp(-1 * z))\n",
    "\n",
    "    #\n",
    "    # ++++++++++++++++++++++++++++++++++++++++++++++++++\n",
    "\n",
    "    return value "
   ]
  },
  {
   "cell_type": "markdown",
   "metadata": {},
   "source": [
    "## define the logistic regression function"
   ]
  },
  {
   "cell_type": "markdown",
   "metadata": {},
   "source": [
    "- $\\theta = (\\theta_0, \\theta_1, \\cdots, \\theta_{k-1}) \\in \\mathbb{R}^k$\n",
    "- feature $= (1, f_1(x, y), \\cdots, f_{k-1}(x, y) \\in \\mathbb{R}^k$"
   ]
  },
  {
   "cell_type": "code",
   "execution_count": 6,
   "metadata": {},
   "outputs": [],
   "source": [
    "def compute_logistic_regression(theta, feature):\n",
    "\n",
    "    # ++++++++++++++++++++++++++++++++++++++++++++++++++\n",
    "    # complete the blanks\n",
    "    #\n",
    "\n",
    "    value = sigmoid(compute_linear_regression(theta, feature))\n",
    "    #\n",
    "    # ++++++++++++++++++++++++++++++++++++++++++++++++++\n",
    "\n",
    "    return value"
   ]
  },
  {
   "cell_type": "markdown",
   "metadata": {},
   "source": [
    "## define the residual function"
   ]
  },
  {
   "cell_type": "markdown",
   "metadata": {},
   "source": [
    "- $\\theta = (\\theta_0, \\theta_1, \\cdots, \\theta_{k-1}) \\in \\mathbb{R}^k$\n",
    "- feature $= (1, f_1(x, y), \\cdots, f_{k-1}(x, y) \\in \\mathbb{R}^k$\n",
    "- label $= l \\in \\{0, 1\\}^k$"
   ]
  },
  {
   "cell_type": "code",
   "execution_count": 7,
   "metadata": {},
   "outputs": [],
   "source": [
    "def compute_residual(theta, feature, label):\n",
    "\n",
    "    # ++++++++++++++++++++++++++++++++++++++++++++++++++\n",
    "    # complete the blanks\n",
    "    #\n",
    "    residual = -1 * label * np.log(compute_logistic_regression(theta, feature)) - (1-label) * np.log(1 - compute_logistic_regression(theta, feature))\n",
    "\n",
    "    #\n",
    "    # ++++++++++++++++++++++++++++++++++++++++++++++++++\n",
    "\n",
    "    return residual"
   ]
  },
  {
   "cell_type": "markdown",
   "metadata": {},
   "source": [
    "## define the loss function for the logistic regression"
   ]
  },
  {
   "cell_type": "markdown",
   "metadata": {},
   "source": [
    "- $\\theta = (\\theta_0, \\theta_1, \\cdots, \\theta_{k-1}) \\in \\mathbb{R}^k$\n",
    "- feature $= (1, f_1(x, y), \\cdots, f_{k-1}(x, y) \\in \\mathbb{R}^k$\n",
    "- label $= l \\in \\{0, 1\\}^k$"
   ]
  },
  {
   "cell_type": "code",
   "execution_count": 8,
   "metadata": {},
   "outputs": [],
   "source": [
    "def compute_loss(theta, feature, label, alpha):\n",
    "\n",
    "    # ++++++++++++++++++++++++++++++++++++++++++++++++++\n",
    "    # complete the blanks\n",
    "    #\n",
    "\n",
    "    loss = np.sum(compute_residual(theta, feature, label)) / len(feature) + (alpha/2)*np.sum(theta**2)\n",
    "    #\n",
    "    # ++++++++++++++++++++++++++++++++++++++++++++++++++\n",
    "\n",
    "    return loss"
   ]
  },
  {
   "cell_type": "markdown",
   "metadata": {},
   "source": [
    "## define the gradient of the loss with respect to the model parameter $\\theta$"
   ]
  },
  {
   "cell_type": "markdown",
   "metadata": {},
   "source": [
    "- $\\theta = (\\theta_0, \\theta_1, \\cdots, \\theta_{k-1}) \\in \\mathbb{R}^k$\n",
    "- feature $= (1, f_1(x, y), \\cdots, f_{k-1}(x, y) \\in \\mathbb{R}^k$\n",
    "- label $= l \\in \\{0, 1\\}^k$"
   ]
  },
  {
   "cell_type": "code",
   "execution_count": null,
   "metadata": {},
   "outputs": [],
   "source": [
    "def compute_gradient(theta, feature, label, alpha):\n",
    "\n",
    "    # ++++++++++++++++++++++++++++++++++++++++++++++++++\n",
    "    # complete the blanks\n",
    "    #\n",
    "\n",
    "\n",
    "    #\n",
    "    # ++++++++++++++++++++++++++++++++++++++++++++++++++\n",
    "\n",
    "    return gradient"
   ]
  },
  {
   "cell_type": "markdown",
   "metadata": {},
   "source": [
    "## compute the accuracy of the prediction for point with a given model parameter"
   ]
  },
  {
   "cell_type": "code",
   "execution_count": null,
   "metadata": {},
   "outputs": [],
   "source": [
    "def compute_accuracy(theta, feature, label):\n",
    "\n",
    "    # ++++++++++++++++++++++++++++++++++++++++++++++++++\n",
    "    # complete the blanks\n",
    "    #\n",
    "\n",
    "\n",
    "    #\n",
    "    # ++++++++++++++++++++++++++++++++++++++++++++++++++\n",
    "\n",
    "    return accuracy"
   ]
  },
  {
   "cell_type": "markdown",
   "metadata": {},
   "source": [
    "## initialize the gradient descent algorithm"
   ]
  },
  {
   "cell_type": "code",
   "execution_count": null,
   "metadata": {
    "tags": []
   },
   "outputs": [],
   "source": [
    "number_iteration    = 1 # you can change this value as you want \n",
    "learning_rate       = 1 # you can change this value as you want \n",
    "number_feature      = 1 # you can change this value as you want\n",
    "alpha               = 1 # you can change this value as you want\n",
    "\n",
    "theta                       = np.zeros(number_feature)\n",
    "loss_iteration_train        = np.zeros(number_iteration)\n",
    "loss_iteration_test         = np.zeros(number_iteration)\n",
    "accuracy_iteration_train    = np.zeros(number_iteration)\n",
    "accuracy_iteration_test     = np.zeros(number_iteration)"
   ]
  },
  {
   "cell_type": "markdown",
   "metadata": {},
   "source": [
    "## run the gradient descent algorithm to optimize the loss function with respect to the model parameter"
   ]
  },
  {
   "cell_type": "code",
   "execution_count": null,
   "metadata": {
    "tags": [
     "outputPrepend"
    ]
   },
   "outputs": [],
   "source": [
    "for i in range(number_iteration):\n",
    "\n",
    "    # ++++++++++++++++++++++++++++++++++++++++++++++++++\n",
    "    # complete the blanks\n",
    "    #\n",
    " \n",
    "    theta           = \n",
    "    loss_train      = \n",
    "    loss_test       = \n",
    "    accuracy_train  = \n",
    "    accuracy_test   = \n",
    "\n",
    "    #\n",
    "    # ++++++++++++++++++++++++++++++++++++++++++++++++++\n",
    "\n",
    "    loss_iteration_train[i]     = loss_train\n",
    "    loss_iteration_test[i]      = loss_test\n",
    "    accuracy_iteration_train[i] = accuracy_train\n",
    "    accuracy_iteration_test[i]  = accuracy_test\n",
    "\n",
    "theta_optimal = theta"
   ]
  },
  {
   "cell_type": "markdown",
   "metadata": {},
   "source": [
    "___"
   ]
  },
  {
   "cell_type": "markdown",
   "metadata": {},
   "source": [
    "___"
   ]
  },
  {
   "cell_type": "markdown",
   "metadata": {},
   "source": [
    "## functions for presenting the results"
   ]
  },
  {
   "cell_type": "markdown",
   "metadata": {},
   "source": [
    "___"
   ]
  },
  {
   "cell_type": "markdown",
   "metadata": {},
   "source": [
    "___"
   ]
  },
  {
   "cell_type": "code",
   "execution_count": null,
   "metadata": {},
   "outputs": [],
   "source": [
    "def function_result_01():\n",
    "\n",
    "    print(\"final training accuracy = {:13.10f}\".format(accuracy_iteration_train[-1]))"
   ]
  },
  {
   "cell_type": "code",
   "execution_count": null,
   "metadata": {},
   "outputs": [],
   "source": [
    "def function_result_02():\n",
    "\n",
    "    print(\"final testing accuracy = {:13.10f}\".format(accuracy_iteration_test[-1]))"
   ]
  },
  {
   "cell_type": "code",
   "execution_count": null,
   "metadata": {},
   "outputs": [],
   "source": [
    "def function_result_03():\n",
    "    \n",
    "    plt.figure(figsize=(8,6))\n",
    "    plt.title('training loss')\n",
    "\n",
    "    plt.plot(loss_iteration_train, '-', color='red')\n",
    "    plt.xlabel('iteration')\n",
    "    plt.ylabel('loss')\n",
    "\n",
    "    plt.tight_layout()\n",
    "    plt.show()"
   ]
  },
  {
   "cell_type": "code",
   "execution_count": null,
   "metadata": {},
   "outputs": [],
   "source": [
    "def function_result_04():\n",
    "\n",
    "    plt.figure(figsize=(8,6))\n",
    "    plt.title('testing loss')\n",
    "\n",
    "    plt.plot(loss_iteration_test, '-', color='red')\n",
    "    plt.xlabel('iteration')\n",
    "    plt.ylabel('loss')\n",
    "\n",
    "    plt.tight_layout()\n",
    "    plt.show()"
   ]
  },
  {
   "cell_type": "code",
   "execution_count": null,
   "metadata": {},
   "outputs": [],
   "source": [
    "def function_result_05():\n",
    "    \n",
    "    plt.figure(figsize=(8,6))\n",
    "    plt.title('training accuracy')\n",
    "\n",
    "    plt.plot(accuracy_iteration_train, '-', color='red')\n",
    "    plt.xlabel('iteration')\n",
    "    plt.ylabel('accuracy')\n",
    "\n",
    "    plt.tight_layout()\n",
    "    plt.show()"
   ]
  },
  {
   "cell_type": "code",
   "execution_count": null,
   "metadata": {},
   "outputs": [],
   "source": [
    "def function_result_06():\n",
    "    \n",
    "    plt.figure(figsize=(8,6))\n",
    "    plt.title('testing accuracy')\n",
    "\n",
    "    plt.plot(accuracy_iteration_test, '-', color='red')\n",
    "    plt.xlabel('iteration')\n",
    "    plt.ylabel('accuracy')\n",
    "\n",
    "    plt.tight_layout()\n",
    "    plt.show()"
   ]
  },
  {
   "cell_type": "markdown",
   "metadata": {},
   "source": [
    "## plot the linear regression values over the 2-dimensional Euclidean space and superimpose the training data"
   ]
  },
  {
   "cell_type": "code",
   "execution_count": null,
   "metadata": {},
   "outputs": [],
   "source": [
    "def function_result_07():\n",
    "\n",
    "    plt.figure(figsize=(8,8)) \n",
    "    plt.title('linear regression values on the training data')\n",
    "    \n",
    "    min_x   = np.min(data_train_point_x)\n",
    "    max_x   = np.max(data_train_point_x)\n",
    "    min_y   = np.min(data_train_point_y)\n",
    "    max_y   = np.max(data_train_point_y)\n",
    "\n",
    "    X = np.arange(min_x - 0.5, max_x + 0.5, 0.1) \n",
    "    Y = np.arange(min_y - 0.5, max_y + 0.5, 0.1) \n",
    "\n",
    "    [XX, YY] = np.meshgrid(X, Y)\n",
    "\n",
    "    # ++++++++++++++++++++++++++++++++++++++++++++++++++\n",
    "    # complete the blanks\n",
    "    #\n",
    "\n",
    "\n",
    "\n",
    "    #\n",
    "    # ++++++++++++++++++++++++++++++++++++++++++++++++++\n",
    "\n",
    "    plt.plot(data_train_point_x_class_0, data_train_point_y_class_0, '.', color='blue', label='class = 0')\n",
    "    plt.plot(data_train_point_x_class_1, data_train_point_y_class_1, '.', color='red', label='class = 1')\n",
    "\n",
    "    plt.legend()\n",
    "    plt.tight_layout()\n",
    "    plt.show()"
   ]
  },
  {
   "cell_type": "code",
   "execution_count": null,
   "metadata": {},
   "outputs": [],
   "source": [
    "def function_result_08():\n",
    "    \n",
    "    plt.figure(figsize=(8,8)) \n",
    "    plt.title('linear regression values on the testing data')\n",
    "    \n",
    "    min_x   = np.min(data_test_point_x)\n",
    "    max_x   = np.max(data_test_point_x)\n",
    "    min_y   = np.min(data_test_point_y)\n",
    "    max_y   = np.max(data_test_point_y)\n",
    "\n",
    "    X = np.arange(min_x - 0.5, max_x + 0.5, 0.1)\n",
    "    Y = np.arange(min_y - 0.5, max_y + 0.5, 0.1) \n",
    "\n",
    "    [XX, YY] = np.meshgrid(X, Y)\n",
    "\n",
    "    # ++++++++++++++++++++++++++++++++++++++++++++++++++\n",
    "    # complete the blanks\n",
    "    #\n",
    "\n",
    "\n",
    "\n",
    "    #\n",
    "    # ++++++++++++++++++++++++++++++++++++++++++++++++++\n",
    "\n",
    "    plt.plot(data_test_point_x_class_0, data_test_point_y_class_0, '.', color='blue', label='class = 0')\n",
    "    plt.plot(data_test_point_x_class_1, data_test_point_y_class_1, '.', color='red', label='class = 1')\n",
    "\n",
    "    plt.legend()\n",
    "    plt.tight_layout()\n",
    "    plt.show()"
   ]
  },
  {
   "cell_type": "markdown",
   "metadata": {},
   "source": [
    "## plot the logistic regression values over the 2-dimensional Euclidean space"
   ]
  },
  {
   "cell_type": "code",
   "execution_count": null,
   "metadata": {},
   "outputs": [],
   "source": [
    "def function_result_09():\n",
    "\n",
    "    plt.figure(figsize=(8,8)) \n",
    "    plt.title('logistic regression values on the training data')\n",
    "    \n",
    "    min_x   = np.min(data_train_point_x)\n",
    "    max_x   = np.max(data_train_point_x)\n",
    "    min_y   = np.min(data_train_point_y)\n",
    "    max_y   = np.max(data_train_point_y)\n",
    "\n",
    "    X = np.arange(min_x - 0.5, max_x + 0.5, 0.1) \n",
    "    Y = np.arange(min_y - 0.5, max_y + 0.5, 0.1) \n",
    "\n",
    "    [XX, YY] = np.meshgrid(X, Y)\n",
    "\n",
    "    # ++++++++++++++++++++++++++++++++++++++++++++++++++\n",
    "    # complete the blanks\n",
    "    #\n",
    "\n",
    "\n",
    "\n",
    "    #\n",
    "    # ++++++++++++++++++++++++++++++++++++++++++++++++++\n",
    "\n",
    "\n",
    "    plt.plot(data_train_point_x_class_0, data_train_point_y_class_0, '.', color='blue', label='class = 0')\n",
    "    plt.plot(data_train_point_x_class_1, data_train_point_y_class_1, '.', color='red', label='class = 1')\n",
    "\n",
    "    plt.legend()\n",
    "    plt.tight_layout()\n",
    "    plt.show()"
   ]
  },
  {
   "cell_type": "code",
   "execution_count": null,
   "metadata": {},
   "outputs": [],
   "source": [
    "def function_result_10():\n",
    "    \n",
    "    plt.figure(figsize=(8,8)) \n",
    "    plt.title('logistic regression values on the testing data')\n",
    "\n",
    "    min_x   = np.min(data_test_point_x)\n",
    "    max_x   = np.max(data_test_point_x)\n",
    "    min_y   = np.min(data_test_point_y)\n",
    "    max_y   = np.max(data_test_point_y)\n",
    "\n",
    "    X = np.arange(min_x - 0.5, max_x + 0.5, 0.1) \n",
    "    Y = np.arange(min_y - 0.5, max_y + 0.5, 0.1) \n",
    "\n",
    "    [XX, YY] = np.meshgrid(X, Y)\n",
    "\n",
    "    # ++++++++++++++++++++++++++++++++++++++++++++++++++\n",
    "    # complete the blanks\n",
    "    #\n",
    "\n",
    "\n",
    "\n",
    "    #\n",
    "    # ++++++++++++++++++++++++++++++++++++++++++++++++++\n",
    "\n",
    "\n",
    "    plt.plot(data_test_point_x_class_0, data_test_point_y_class_0, '.', color='blue', label='class = 0')\n",
    "    plt.plot(data_test_point_x_class_1, data_test_point_y_class_1, '.', color='red', label='class = 1')\n",
    "\n",
    "    plt.legend()\n",
    "    plt.tight_layout()\n",
    "    plt.show()"
   ]
  },
  {
   "cell_type": "markdown",
   "metadata": {},
   "source": [
    "___"
   ]
  },
  {
   "cell_type": "markdown",
   "metadata": {},
   "source": [
    "___"
   ]
  },
  {
   "cell_type": "markdown",
   "metadata": {},
   "source": [
    "## results"
   ]
  },
  {
   "cell_type": "markdown",
   "metadata": {},
   "source": [
    "___"
   ]
  },
  {
   "cell_type": "markdown",
   "metadata": {},
   "source": [
    "___"
   ]
  },
  {
   "cell_type": "code",
   "execution_count": null,
   "metadata": {},
   "outputs": [],
   "source": [
    "number_result = 10\n",
    "\n",
    "for i in range(number_result):\n",
    "    title = '## [RESULT {:02d}]'.format(i+1)\n",
    "    name_function = 'function_result_{:02d}()'.format(i+1)\n",
    "\n",
    "    print('**************************************************')\n",
    "    print(title)\n",
    "    print('**************************************************')\n",
    "    eval(name_function)"
   ]
  },
  {
   "cell_type": "code",
   "execution_count": null,
   "metadata": {},
   "outputs": [],
   "source": []
  }
 ],
 "metadata": {
  "interpreter": {
   "hash": "40d3a090f54c6569ab1632332b64b2c03c39dcf918b08424e98f38b5ae0af88f"
  },
  "kernelspec": {
   "display_name": "Python 3 (ipykernel)",
   "language": "python",
   "name": "python3"
  },
  "language_info": {
   "codemirror_mode": {
    "name": "ipython",
    "version": 3
   },
   "file_extension": ".py",
   "mimetype": "text/x-python",
   "name": "python",
   "nbconvert_exporter": "python",
   "pygments_lexer": "ipython3",
   "version": "3.9.10-final"
  },
  "metadata": {
   "interpreter": {
    "hash": "31f2aee4e71d21fbe5cf8b01ff0e069b9275f58929596ceb00d14d90e3e16cd6"
   }
  }
 },
 "nbformat": 4,
 "nbformat_minor": 2
}