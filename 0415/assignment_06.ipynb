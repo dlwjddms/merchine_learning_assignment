{
 "cells": [
  {
   "cell_type": "markdown",
   "metadata": {},
   "source": [
    "# Linear regression "
   ]
  },
  {
   "cell_type": "markdown",
   "metadata": {},
   "source": [
    "## import library"
   ]
  },
  {
   "cell_type": "code",
   "execution_count": 1,
   "metadata": {},
   "outputs": [],
   "source": [
    "import numpy as np\n",
    "import matplotlib.image as img\n",
    "import matplotlib.pyplot as plt\n",
    "import matplotlib.colors as colors\n",
    "from mpl_toolkits.mplot3d import Axes3D"
   ]
  },
  {
   "cell_type": "markdown",
   "metadata": {},
   "source": [
    "## load data points\n",
    "- $\\{ (x_i, y_i) \\}_{i=1}^n$"
   ]
  },
  {
   "cell_type": "code",
   "execution_count": 2,
   "metadata": {},
   "outputs": [
    {
     "output_type": "display_data",
     "data": {
      "text/plain": "<Figure size 576x432 with 1 Axes>",
      "image/svg+xml": "<?xml version=\"1.0\" encoding=\"utf-8\" standalone=\"no\"?>\n<!DOCTYPE svg PUBLIC \"-//W3C//DTD SVG 1.1//EN\"\n  \"http://www.w3.org/Graphics/SVG/1.1/DTD/svg11.dtd\">\n<svg xmlns:xlink=\"http://www.w3.org/1999/xlink\" width=\"568.904688pt\" height=\"423.59625pt\" viewBox=\"0 0 568.904688 423.59625\" xmlns=\"http://www.w3.org/2000/svg\" version=\"1.1\">\n <metadata>\n  <rdf:RDF xmlns:dc=\"http://purl.org/dc/elements/1.1/\" xmlns:cc=\"http://creativecommons.org/ns#\" xmlns:rdf=\"http://www.w3.org/1999/02/22-rdf-syntax-ns#\">\n   <cc:Work>\n    <dc:type rdf:resource=\"http://purl.org/dc/dcmitype/StillImage\"/>\n    <dc:date>2022-04-14T23:16:09.719277</dc:date>\n    <dc:format>image/svg+xml</dc:format>\n    <dc:creator>\n     <cc:Agent>\n      <dc:title>Matplotlib v3.5.1, https://matplotlib.org/</dc:title>\n     </cc:Agent>\n    </dc:creator>\n   </cc:Work>\n  </rdf:RDF>\n </metadata>\n <defs>\n  <style type=\"text/css\">*{stroke-linejoin: round; stroke-linecap: butt}</style>\n </defs>\n <g id=\"figure_1\">\n  <g id=\"patch_1\">\n   <path d=\"M 0 423.59625 \nL 568.904688 423.59625 \nL 568.904688 0 \nL 0 0 \nL 0 423.59625 \nz\n\" style=\"fill: none\"/>\n  </g>\n  <g id=\"axes_1\">\n   <g id=\"patch_2\">\n    <path d=\"M 35.304688 399.718125 \nL 561.704687 399.718125 \nL 561.704687 22.318125 \nL 35.304688 22.318125 \nz\n\" style=\"fill: #ffffff\"/>\n   </g>\n   <g id=\"matplotlib.axis_1\">\n    <g id=\"xtick_1\">\n     <g id=\"line2d_1\">\n      <defs>\n       <path id=\"m903cd697cd\" d=\"M 0 0 \nL 0 3.5 \n\" style=\"stroke: #000000; stroke-width: 0.8\"/>\n      </defs>\n      <g>\n       <use xlink:href=\"#m903cd697cd\" x=\"59.23196\" y=\"399.718125\" style=\"stroke: #000000; stroke-width: 0.8\"/>\n      </g>\n     </g>\n     <g id=\"text_1\">\n      <!-- −10.0 -->\n      <g transform=\"translate(43.909304 414.316562)scale(0.1 -0.1)\">\n       <defs>\n        <path id=\"DejaVuSans-2212\" d=\"M 678 2272 \nL 4684 2272 \nL 4684 1741 \nL 678 1741 \nL 678 2272 \nz\n\" transform=\"scale(0.015625)\"/>\n        <path id=\"DejaVuSans-31\" d=\"M 794 531 \nL 1825 531 \nL 1825 4091 \nL 703 3866 \nL 703 4441 \nL 1819 4666 \nL 2450 4666 \nL 2450 531 \nL 3481 531 \nL 3481 0 \nL 794 0 \nL 794 531 \nz\n\" transform=\"scale(0.015625)\"/>\n        <path id=\"DejaVuSans-30\" d=\"M 2034 4250 \nQ 1547 4250 1301 3770 \nQ 1056 3291 1056 2328 \nQ 1056 1369 1301 889 \nQ 1547 409 2034 409 \nQ 2525 409 2770 889 \nQ 3016 1369 3016 2328 \nQ 3016 3291 2770 3770 \nQ 2525 4250 2034 4250 \nz\nM 2034 4750 \nQ 2819 4750 3233 4129 \nQ 3647 3509 3647 2328 \nQ 3647 1150 3233 529 \nQ 2819 -91 2034 -91 \nQ 1250 -91 836 529 \nQ 422 1150 422 2328 \nQ 422 3509 836 4129 \nQ 1250 4750 2034 4750 \nz\n\" transform=\"scale(0.015625)\"/>\n        <path id=\"DejaVuSans-2e\" d=\"M 684 794 \nL 1344 794 \nL 1344 0 \nL 684 0 \nL 684 794 \nz\n\" transform=\"scale(0.015625)\"/>\n       </defs>\n       <use xlink:href=\"#DejaVuSans-2212\"/>\n       <use xlink:href=\"#DejaVuSans-31\" x=\"83.789062\"/>\n       <use xlink:href=\"#DejaVuSans-30\" x=\"147.412109\"/>\n       <use xlink:href=\"#DejaVuSans-2e\" x=\"211.035156\"/>\n       <use xlink:href=\"#DejaVuSans-30\" x=\"242.822266\"/>\n      </g>\n     </g>\n    </g>\n    <g id=\"xtick_2\">\n     <g id=\"line2d_2\">\n      <g>\n       <use xlink:href=\"#m903cd697cd\" x=\"119.050142\" y=\"399.718125\" style=\"stroke: #000000; stroke-width: 0.8\"/>\n      </g>\n     </g>\n     <g id=\"text_2\">\n      <!-- −7.5 -->\n      <g transform=\"translate(106.908736 414.316562)scale(0.1 -0.1)\">\n       <defs>\n        <path id=\"DejaVuSans-37\" d=\"M 525 4666 \nL 3525 4666 \nL 3525 4397 \nL 1831 0 \nL 1172 0 \nL 2766 4134 \nL 525 4134 \nL 525 4666 \nz\n\" transform=\"scale(0.015625)\"/>\n        <path id=\"DejaVuSans-35\" d=\"M 691 4666 \nL 3169 4666 \nL 3169 4134 \nL 1269 4134 \nL 1269 2991 \nQ 1406 3038 1543 3061 \nQ 1681 3084 1819 3084 \nQ 2600 3084 3056 2656 \nQ 3513 2228 3513 1497 \nQ 3513 744 3044 326 \nQ 2575 -91 1722 -91 \nQ 1428 -91 1123 -41 \nQ 819 9 494 109 \nL 494 744 \nQ 775 591 1075 516 \nQ 1375 441 1709 441 \nQ 2250 441 2565 725 \nQ 2881 1009 2881 1497 \nQ 2881 1984 2565 2268 \nQ 2250 2553 1709 2553 \nQ 1456 2553 1204 2497 \nQ 953 2441 691 2322 \nL 691 4666 \nz\n\" transform=\"scale(0.015625)\"/>\n       </defs>\n       <use xlink:href=\"#DejaVuSans-2212\"/>\n       <use xlink:href=\"#DejaVuSans-37\" x=\"83.789062\"/>\n       <use xlink:href=\"#DejaVuSans-2e\" x=\"147.412109\"/>\n       <use xlink:href=\"#DejaVuSans-35\" x=\"179.199219\"/>\n      </g>\n     </g>\n    </g>\n    <g id=\"xtick_3\">\n     <g id=\"line2d_3\">\n      <g>\n       <use xlink:href=\"#m903cd697cd\" x=\"178.868324\" y=\"399.718125\" style=\"stroke: #000000; stroke-width: 0.8\"/>\n      </g>\n     </g>\n     <g id=\"text_3\">\n      <!-- −5.0 -->\n      <g transform=\"translate(166.726918 414.316562)scale(0.1 -0.1)\">\n       <use xlink:href=\"#DejaVuSans-2212\"/>\n       <use xlink:href=\"#DejaVuSans-35\" x=\"83.789062\"/>\n       <use xlink:href=\"#DejaVuSans-2e\" x=\"147.412109\"/>\n       <use xlink:href=\"#DejaVuSans-30\" x=\"179.199219\"/>\n      </g>\n     </g>\n    </g>\n    <g id=\"xtick_4\">\n     <g id=\"line2d_4\">\n      <g>\n       <use xlink:href=\"#m903cd697cd\" x=\"238.686506\" y=\"399.718125\" style=\"stroke: #000000; stroke-width: 0.8\"/>\n      </g>\n     </g>\n     <g id=\"text_4\">\n      <!-- −2.5 -->\n      <g transform=\"translate(226.545099 414.316562)scale(0.1 -0.1)\">\n       <defs>\n        <path id=\"DejaVuSans-32\" d=\"M 1228 531 \nL 3431 531 \nL 3431 0 \nL 469 0 \nL 469 531 \nQ 828 903 1448 1529 \nQ 2069 2156 2228 2338 \nQ 2531 2678 2651 2914 \nQ 2772 3150 2772 3378 \nQ 2772 3750 2511 3984 \nQ 2250 4219 1831 4219 \nQ 1534 4219 1204 4116 \nQ 875 4013 500 3803 \nL 500 4441 \nQ 881 4594 1212 4672 \nQ 1544 4750 1819 4750 \nQ 2544 4750 2975 4387 \nQ 3406 4025 3406 3419 \nQ 3406 3131 3298 2873 \nQ 3191 2616 2906 2266 \nQ 2828 2175 2409 1742 \nQ 1991 1309 1228 531 \nz\n\" transform=\"scale(0.015625)\"/>\n       </defs>\n       <use xlink:href=\"#DejaVuSans-2212\"/>\n       <use xlink:href=\"#DejaVuSans-32\" x=\"83.789062\"/>\n       <use xlink:href=\"#DejaVuSans-2e\" x=\"147.412109\"/>\n       <use xlink:href=\"#DejaVuSans-35\" x=\"179.199219\"/>\n      </g>\n     </g>\n    </g>\n    <g id=\"xtick_5\">\n     <g id=\"line2d_5\">\n      <g>\n       <use xlink:href=\"#m903cd697cd\" x=\"298.504687\" y=\"399.718125\" style=\"stroke: #000000; stroke-width: 0.8\"/>\n      </g>\n     </g>\n     <g id=\"text_5\">\n      <!-- 0.0 -->\n      <g transform=\"translate(290.553125 414.316562)scale(0.1 -0.1)\">\n       <use xlink:href=\"#DejaVuSans-30\"/>\n       <use xlink:href=\"#DejaVuSans-2e\" x=\"63.623047\"/>\n       <use xlink:href=\"#DejaVuSans-30\" x=\"95.410156\"/>\n      </g>\n     </g>\n    </g>\n    <g id=\"xtick_6\">\n     <g id=\"line2d_6\">\n      <g>\n       <use xlink:href=\"#m903cd697cd\" x=\"358.322869\" y=\"399.718125\" style=\"stroke: #000000; stroke-width: 0.8\"/>\n      </g>\n     </g>\n     <g id=\"text_6\">\n      <!-- 2.5 -->\n      <g transform=\"translate(350.371307 414.316562)scale(0.1 -0.1)\">\n       <use xlink:href=\"#DejaVuSans-32\"/>\n       <use xlink:href=\"#DejaVuSans-2e\" x=\"63.623047\"/>\n       <use xlink:href=\"#DejaVuSans-35\" x=\"95.410156\"/>\n      </g>\n     </g>\n    </g>\n    <g id=\"xtick_7\">\n     <g id=\"line2d_7\">\n      <g>\n       <use xlink:href=\"#m903cd697cd\" x=\"418.141051\" y=\"399.718125\" style=\"stroke: #000000; stroke-width: 0.8\"/>\n      </g>\n     </g>\n     <g id=\"text_7\">\n      <!-- 5.0 -->\n      <g transform=\"translate(410.189489 414.316562)scale(0.1 -0.1)\">\n       <use xlink:href=\"#DejaVuSans-35\"/>\n       <use xlink:href=\"#DejaVuSans-2e\" x=\"63.623047\"/>\n       <use xlink:href=\"#DejaVuSans-30\" x=\"95.410156\"/>\n      </g>\n     </g>\n    </g>\n    <g id=\"xtick_8\">\n     <g id=\"line2d_8\">\n      <g>\n       <use xlink:href=\"#m903cd697cd\" x=\"477.959233\" y=\"399.718125\" style=\"stroke: #000000; stroke-width: 0.8\"/>\n      </g>\n     </g>\n     <g id=\"text_8\">\n      <!-- 7.5 -->\n      <g transform=\"translate(470.00767 414.316562)scale(0.1 -0.1)\">\n       <use xlink:href=\"#DejaVuSans-37\"/>\n       <use xlink:href=\"#DejaVuSans-2e\" x=\"63.623047\"/>\n       <use xlink:href=\"#DejaVuSans-35\" x=\"95.410156\"/>\n      </g>\n     </g>\n    </g>\n    <g id=\"xtick_9\">\n     <g id=\"line2d_9\">\n      <g>\n       <use xlink:href=\"#m903cd697cd\" x=\"537.777415\" y=\"399.718125\" style=\"stroke: #000000; stroke-width: 0.8\"/>\n      </g>\n     </g>\n     <g id=\"text_9\">\n      <!-- 10.0 -->\n      <g transform=\"translate(526.644602 414.316562)scale(0.1 -0.1)\">\n       <use xlink:href=\"#DejaVuSans-31\"/>\n       <use xlink:href=\"#DejaVuSans-30\" x=\"63.623047\"/>\n       <use xlink:href=\"#DejaVuSans-2e\" x=\"127.246094\"/>\n       <use xlink:href=\"#DejaVuSans-30\" x=\"159.033203\"/>\n      </g>\n     </g>\n    </g>\n   </g>\n   <g id=\"matplotlib.axis_2\">\n    <g id=\"ytick_1\">\n     <g id=\"line2d_10\">\n      <defs>\n       <path id=\"m98c1b51a03\" d=\"M 0 0 \nL -3.5 0 \n\" style=\"stroke: #000000; stroke-width: 0.8\"/>\n      </defs>\n      <g>\n       <use xlink:href=\"#m98c1b51a03\" x=\"35.304688\" y=\"375.265224\" style=\"stroke: #000000; stroke-width: 0.8\"/>\n      </g>\n     </g>\n     <g id=\"text_10\">\n      <!-- −20 -->\n      <g transform=\"translate(7.2 379.064443)scale(0.1 -0.1)\">\n       <use xlink:href=\"#DejaVuSans-2212\"/>\n       <use xlink:href=\"#DejaVuSans-32\" x=\"83.789062\"/>\n       <use xlink:href=\"#DejaVuSans-30\" x=\"147.412109\"/>\n      </g>\n     </g>\n    </g>\n    <g id=\"ytick_2\">\n     <g id=\"line2d_11\">\n      <g>\n       <use xlink:href=\"#m98c1b51a03\" x=\"35.304688\" y=\"302.516066\" style=\"stroke: #000000; stroke-width: 0.8\"/>\n      </g>\n     </g>\n     <g id=\"text_11\">\n      <!-- −10 -->\n      <g transform=\"translate(7.2 306.315284)scale(0.1 -0.1)\">\n       <use xlink:href=\"#DejaVuSans-2212\"/>\n       <use xlink:href=\"#DejaVuSans-31\" x=\"83.789062\"/>\n       <use xlink:href=\"#DejaVuSans-30\" x=\"147.412109\"/>\n      </g>\n     </g>\n    </g>\n    <g id=\"ytick_3\">\n     <g id=\"line2d_12\">\n      <g>\n       <use xlink:href=\"#m98c1b51a03\" x=\"35.304688\" y=\"229.766907\" style=\"stroke: #000000; stroke-width: 0.8\"/>\n      </g>\n     </g>\n     <g id=\"text_12\">\n      <!-- 0 -->\n      <g transform=\"translate(21.942187 233.566126)scale(0.1 -0.1)\">\n       <use xlink:href=\"#DejaVuSans-30\"/>\n      </g>\n     </g>\n    </g>\n    <g id=\"ytick_4\">\n     <g id=\"line2d_13\">\n      <g>\n       <use xlink:href=\"#m98c1b51a03\" x=\"35.304688\" y=\"157.017749\" style=\"stroke: #000000; stroke-width: 0.8\"/>\n      </g>\n     </g>\n     <g id=\"text_13\">\n      <!-- 10 -->\n      <g transform=\"translate(15.579687 160.816968)scale(0.1 -0.1)\">\n       <use xlink:href=\"#DejaVuSans-31\"/>\n       <use xlink:href=\"#DejaVuSans-30\" x=\"63.623047\"/>\n      </g>\n     </g>\n    </g>\n    <g id=\"ytick_5\">\n     <g id=\"line2d_14\">\n      <g>\n       <use xlink:href=\"#m98c1b51a03\" x=\"35.304688\" y=\"84.26859\" style=\"stroke: #000000; stroke-width: 0.8\"/>\n      </g>\n     </g>\n     <g id=\"text_14\">\n      <!-- 20 -->\n      <g transform=\"translate(15.579687 88.067809)scale(0.1 -0.1)\">\n       <use xlink:href=\"#DejaVuSans-32\"/>\n       <use xlink:href=\"#DejaVuSans-30\" x=\"63.623047\"/>\n      </g>\n     </g>\n    </g>\n   </g>\n   <g id=\"line2d_15\">\n    <defs>\n     <path id=\"m6fad245b56\" d=\"M 0 1.5 \nC 0.397805 1.5 0.77937 1.341951 1.06066 1.06066 \nC 1.341951 0.77937 1.5 0.397805 1.5 0 \nC 1.5 -0.397805 1.341951 -0.77937 1.06066 -1.06066 \nC 0.77937 -1.341951 0.397805 -1.5 0 -1.5 \nC -0.397805 -1.5 -0.77937 -1.341951 -1.06066 -1.06066 \nC -1.341951 -0.77937 -1.5 -0.397805 -1.5 0 \nC -1.5 0.397805 -1.341951 0.77937 -1.06066 1.06066 \nC -0.77937 1.341951 -0.397805 1.5 0 1.5 \nz\n\" style=\"stroke: #0000ff\"/>\n    </defs>\n    <g clip-path=\"url(#p22d144e4aa)\">\n     <use xlink:href=\"#m6fad245b56\" x=\"59.23196\" y=\"324.418335\" style=\"fill: #0000ff; stroke: #0000ff\"/>\n     <use xlink:href=\"#m6fad245b56\" x=\"61.1086\" y=\"373.197598\" style=\"fill: #0000ff; stroke: #0000ff\"/>\n     <use xlink:href=\"#m6fad245b56\" x=\"62.985264\" y=\"369.045986\" style=\"fill: #0000ff; stroke: #0000ff\"/>\n     <use xlink:href=\"#m6fad245b56\" x=\"64.861904\" y=\"348.942207\" style=\"fill: #0000ff; stroke: #0000ff\"/>\n     <use xlink:href=\"#m6fad245b56\" x=\"66.738544\" y=\"331.170242\" style=\"fill: #0000ff; stroke: #0000ff\"/>\n     <use xlink:href=\"#m6fad245b56\" x=\"68.615208\" y=\"340.717405\" style=\"fill: #0000ff; stroke: #0000ff\"/>\n     <use xlink:href=\"#m6fad245b56\" x=\"70.491848\" y=\"361.387384\" style=\"fill: #0000ff; stroke: #0000ff\"/>\n     <use xlink:href=\"#m6fad245b56\" x=\"72.368512\" y=\"365.906852\" style=\"fill: #0000ff; stroke: #0000ff\"/>\n     <use xlink:href=\"#m6fad245b56\" x=\"74.245151\" y=\"310.366936\" style=\"fill: #0000ff; stroke: #0000ff\"/>\n     <use xlink:href=\"#m6fad245b56\" x=\"76.121791\" y=\"322.636839\" style=\"fill: #0000ff; stroke: #0000ff\"/>\n     <use xlink:href=\"#m6fad245b56\" x=\"77.998455\" y=\"303.405293\" style=\"fill: #0000ff; stroke: #0000ff\"/>\n     <use xlink:href=\"#m6fad245b56\" x=\"79.875095\" y=\"321.08387\" style=\"fill: #0000ff; stroke: #0000ff\"/>\n     <use xlink:href=\"#m6fad245b56\" x=\"81.751735\" y=\"301.434366\" style=\"fill: #0000ff; stroke: #0000ff\"/>\n     <use xlink:href=\"#m6fad245b56\" x=\"83.628399\" y=\"342.900848\" style=\"fill: #0000ff; stroke: #0000ff\"/>\n     <use xlink:href=\"#m6fad245b56\" x=\"85.505039\" y=\"348.216512\" style=\"fill: #0000ff; stroke: #0000ff\"/>\n     <use xlink:href=\"#m6fad245b56\" x=\"87.381703\" y=\"351.82188\" style=\"fill: #0000ff; stroke: #0000ff\"/>\n     <use xlink:href=\"#m6fad245b56\" x=\"89.258343\" y=\"335.187378\" style=\"fill: #0000ff; stroke: #0000ff\"/>\n     <use xlink:href=\"#m6fad245b56\" x=\"91.134983\" y=\"382.56358\" style=\"fill: #0000ff; stroke: #0000ff\"/>\n     <use xlink:href=\"#m6fad245b56\" x=\"93.011646\" y=\"330.383584\" style=\"fill: #0000ff; stroke: #0000ff\"/>\n     <use xlink:href=\"#m6fad245b56\" x=\"94.888286\" y=\"338.901252\" style=\"fill: #0000ff; stroke: #0000ff\"/>\n     <use xlink:href=\"#m6fad245b56\" x=\"96.764926\" y=\"319.836578\" style=\"fill: #0000ff; stroke: #0000ff\"/>\n     <use xlink:href=\"#m6fad245b56\" x=\"98.64159\" y=\"328.292053\" style=\"fill: #0000ff; stroke: #0000ff\"/>\n     <use xlink:href=\"#m6fad245b56\" x=\"100.51823\" y=\"328.136064\" style=\"fill: #0000ff; stroke: #0000ff\"/>\n     <use xlink:href=\"#m6fad245b56\" x=\"102.394894\" y=\"356.183258\" style=\"fill: #0000ff; stroke: #0000ff\"/>\n     <use xlink:href=\"#m6fad245b56\" x=\"104.271534\" y=\"374.723163\" style=\"fill: #0000ff; stroke: #0000ff\"/>\n     <use xlink:href=\"#m6fad245b56\" x=\"106.148174\" y=\"336.880149\" style=\"fill: #0000ff; stroke: #0000ff\"/>\n     <use xlink:href=\"#m6fad245b56\" x=\"108.024838\" y=\"311.295274\" style=\"fill: #0000ff; stroke: #0000ff\"/>\n     <use xlink:href=\"#m6fad245b56\" x=\"109.901478\" y=\"297.963882\" style=\"fill: #0000ff; stroke: #0000ff\"/>\n     <use xlink:href=\"#m6fad245b56\" x=\"111.778117\" y=\"330.380157\" style=\"fill: #0000ff; stroke: #0000ff\"/>\n     <use xlink:href=\"#m6fad245b56\" x=\"113.654781\" y=\"285.147946\" style=\"fill: #0000ff; stroke: #0000ff\"/>\n     <use xlink:href=\"#m6fad245b56\" x=\"115.531421\" y=\"354.836409\" style=\"fill: #0000ff; stroke: #0000ff\"/>\n     <use xlink:href=\"#m6fad245b56\" x=\"117.408085\" y=\"288.879265\" style=\"fill: #0000ff; stroke: #0000ff\"/>\n     <use xlink:href=\"#m6fad245b56\" x=\"119.284725\" y=\"311.421428\" style=\"fill: #0000ff; stroke: #0000ff\"/>\n     <use xlink:href=\"#m6fad245b56\" x=\"121.161365\" y=\"318.659635\" style=\"fill: #0000ff; stroke: #0000ff\"/>\n     <use xlink:href=\"#m6fad245b56\" x=\"123.038029\" y=\"326.009497\" style=\"fill: #0000ff; stroke: #0000ff\"/>\n     <use xlink:href=\"#m6fad245b56\" x=\"124.914669\" y=\"275.923906\" style=\"fill: #0000ff; stroke: #0000ff\"/>\n     <use xlink:href=\"#m6fad245b56\" x=\"126.791309\" y=\"280.987131\" style=\"fill: #0000ff; stroke: #0000ff\"/>\n     <use xlink:href=\"#m6fad245b56\" x=\"128.667973\" y=\"303.482153\" style=\"fill: #0000ff; stroke: #0000ff\"/>\n     <use xlink:href=\"#m6fad245b56\" x=\"130.544612\" y=\"326.610703\" style=\"fill: #0000ff; stroke: #0000ff\"/>\n     <use xlink:href=\"#m6fad245b56\" x=\"132.421276\" y=\"299.868425\" style=\"fill: #0000ff; stroke: #0000ff\"/>\n     <use xlink:href=\"#m6fad245b56\" x=\"134.297916\" y=\"288.490966\" style=\"fill: #0000ff; stroke: #0000ff\"/>\n     <use xlink:href=\"#m6fad245b56\" x=\"136.174556\" y=\"344.212748\" style=\"fill: #0000ff; stroke: #0000ff\"/>\n     <use xlink:href=\"#m6fad245b56\" x=\"138.05122\" y=\"325.061452\" style=\"fill: #0000ff; stroke: #0000ff\"/>\n     <use xlink:href=\"#m6fad245b56\" x=\"139.92786\" y=\"318.657642\" style=\"fill: #0000ff; stroke: #0000ff\"/>\n     <use xlink:href=\"#m6fad245b56\" x=\"141.8045\" y=\"291.765108\" style=\"fill: #0000ff; stroke: #0000ff\"/>\n     <use xlink:href=\"#m6fad245b56\" x=\"143.681164\" y=\"338.252795\" style=\"fill: #0000ff; stroke: #0000ff\"/>\n     <use xlink:href=\"#m6fad245b56\" x=\"145.557804\" y=\"304.46957\" style=\"fill: #0000ff; stroke: #0000ff\"/>\n     <use xlink:href=\"#m6fad245b56\" x=\"147.434468\" y=\"271.306276\" style=\"fill: #0000ff; stroke: #0000ff\"/>\n     <use xlink:href=\"#m6fad245b56\" x=\"149.311107\" y=\"291.711419\" style=\"fill: #0000ff; stroke: #0000ff\"/>\n     <use xlink:href=\"#m6fad245b56\" x=\"151.187747\" y=\"305.935283\" style=\"fill: #0000ff; stroke: #0000ff\"/>\n     <use xlink:href=\"#m6fad245b56\" x=\"153.064411\" y=\"246.784747\" style=\"fill: #0000ff; stroke: #0000ff\"/>\n     <use xlink:href=\"#m6fad245b56\" x=\"154.941051\" y=\"312.358146\" style=\"fill: #0000ff; stroke: #0000ff\"/>\n     <use xlink:href=\"#m6fad245b56\" x=\"156.817691\" y=\"306.55149\" style=\"fill: #0000ff; stroke: #0000ff\"/>\n     <use xlink:href=\"#m6fad245b56\" x=\"158.694355\" y=\"284.305496\" style=\"fill: #0000ff; stroke: #0000ff\"/>\n     <use xlink:href=\"#m6fad245b56\" x=\"160.570995\" y=\"320.565132\" style=\"fill: #0000ff; stroke: #0000ff\"/>\n     <use xlink:href=\"#m6fad245b56\" x=\"162.447635\" y=\"301.399591\" style=\"fill: #0000ff; stroke: #0000ff\"/>\n     <use xlink:href=\"#m6fad245b56\" x=\"164.324299\" y=\"278.295157\" style=\"fill: #0000ff; stroke: #0000ff\"/>\n     <use xlink:href=\"#m6fad245b56\" x=\"166.200939\" y=\"326.145894\" style=\"fill: #0000ff; stroke: #0000ff\"/>\n     <use xlink:href=\"#m6fad245b56\" x=\"168.077602\" y=\"286.711595\" style=\"fill: #0000ff; stroke: #0000ff\"/>\n     <use xlink:href=\"#m6fad245b56\" x=\"169.954242\" y=\"284.005508\" style=\"fill: #0000ff; stroke: #0000ff\"/>\n     <use xlink:href=\"#m6fad245b56\" x=\"171.830882\" y=\"297.797104\" style=\"fill: #0000ff; stroke: #0000ff\"/>\n     <use xlink:href=\"#m6fad245b56\" x=\"173.707546\" y=\"250.596039\" style=\"fill: #0000ff; stroke: #0000ff\"/>\n     <use xlink:href=\"#m6fad245b56\" x=\"175.584186\" y=\"329.484535\" style=\"fill: #0000ff; stroke: #0000ff\"/>\n     <use xlink:href=\"#m6fad245b56\" x=\"177.460826\" y=\"253.309684\" style=\"fill: #0000ff; stroke: #0000ff\"/>\n     <use xlink:href=\"#m6fad245b56\" x=\"179.33749\" y=\"274.863157\" style=\"fill: #0000ff; stroke: #0000ff\"/>\n     <use xlink:href=\"#m6fad245b56\" x=\"181.21413\" y=\"311.090129\" style=\"fill: #0000ff; stroke: #0000ff\"/>\n     <use xlink:href=\"#m6fad245b56\" x=\"183.090794\" y=\"239.913851\" style=\"fill: #0000ff; stroke: #0000ff\"/>\n     <use xlink:href=\"#m6fad245b56\" x=\"184.967434\" y=\"282.649871\" style=\"fill: #0000ff; stroke: #0000ff\"/>\n     <use xlink:href=\"#m6fad245b56\" x=\"186.844073\" y=\"244.722817\" style=\"fill: #0000ff; stroke: #0000ff\"/>\n     <use xlink:href=\"#m6fad245b56\" x=\"188.720737\" y=\"267.136397\" style=\"fill: #0000ff; stroke: #0000ff\"/>\n     <use xlink:href=\"#m6fad245b56\" x=\"190.597377\" y=\"274.157927\" style=\"fill: #0000ff; stroke: #0000ff\"/>\n     <use xlink:href=\"#m6fad245b56\" x=\"192.474017\" y=\"241.688748\" style=\"fill: #0000ff; stroke: #0000ff\"/>\n     <use xlink:href=\"#m6fad245b56\" x=\"194.350681\" y=\"273.093811\" style=\"fill: #0000ff; stroke: #0000ff\"/>\n     <use xlink:href=\"#m6fad245b56\" x=\"196.227321\" y=\"240.945856\" style=\"fill: #0000ff; stroke: #0000ff\"/>\n     <use xlink:href=\"#m6fad245b56\" x=\"198.103985\" y=\"248.330252\" style=\"fill: #0000ff; stroke: #0000ff\"/>\n     <use xlink:href=\"#m6fad245b56\" x=\"199.980625\" y=\"288.07196\" style=\"fill: #0000ff; stroke: #0000ff\"/>\n     <use xlink:href=\"#m6fad245b56\" x=\"201.857265\" y=\"279.899887\" style=\"fill: #0000ff; stroke: #0000ff\"/>\n     <use xlink:href=\"#m6fad245b56\" x=\"203.733929\" y=\"256.072166\" style=\"fill: #0000ff; stroke: #0000ff\"/>\n     <use xlink:href=\"#m6fad245b56\" x=\"205.610568\" y=\"253.904874\" style=\"fill: #0000ff; stroke: #0000ff\"/>\n     <use xlink:href=\"#m6fad245b56\" x=\"207.487208\" y=\"248.674886\" style=\"fill: #0000ff; stroke: #0000ff\"/>\n     <use xlink:href=\"#m6fad245b56\" x=\"209.363872\" y=\"260.812952\" style=\"fill: #0000ff; stroke: #0000ff\"/>\n     <use xlink:href=\"#m6fad245b56\" x=\"211.240512\" y=\"254.658374\" style=\"fill: #0000ff; stroke: #0000ff\"/>\n     <use xlink:href=\"#m6fad245b56\" x=\"213.117176\" y=\"195.554411\" style=\"fill: #0000ff; stroke: #0000ff\"/>\n     <use xlink:href=\"#m6fad245b56\" x=\"214.993816\" y=\"278.972823\" style=\"fill: #0000ff; stroke: #0000ff\"/>\n     <use xlink:href=\"#m6fad245b56\" x=\"216.870456\" y=\"241.372144\" style=\"fill: #0000ff; stroke: #0000ff\"/>\n     <use xlink:href=\"#m6fad245b56\" x=\"218.74712\" y=\"219.558665\" style=\"fill: #0000ff; stroke: #0000ff\"/>\n     <use xlink:href=\"#m6fad245b56\" x=\"220.62376\" y=\"215.183211\" style=\"fill: #0000ff; stroke: #0000ff\"/>\n     <use xlink:href=\"#m6fad245b56\" x=\"222.5004\" y=\"225.15696\" style=\"fill: #0000ff; stroke: #0000ff\"/>\n     <use xlink:href=\"#m6fad245b56\" x=\"224.377063\" y=\"238.881249\" style=\"fill: #0000ff; stroke: #0000ff\"/>\n     <use xlink:href=\"#m6fad245b56\" x=\"226.253703\" y=\"228.632828\" style=\"fill: #0000ff; stroke: #0000ff\"/>\n     <use xlink:href=\"#m6fad245b56\" x=\"228.130367\" y=\"243.862857\" style=\"fill: #0000ff; stroke: #0000ff\"/>\n     <use xlink:href=\"#m6fad245b56\" x=\"230.007007\" y=\"286.902212\" style=\"fill: #0000ff; stroke: #0000ff\"/>\n     <use xlink:href=\"#m6fad245b56\" x=\"231.883647\" y=\"276.162537\" style=\"fill: #0000ff; stroke: #0000ff\"/>\n     <use xlink:href=\"#m6fad245b56\" x=\"233.760311\" y=\"236.64817\" style=\"fill: #0000ff; stroke: #0000ff\"/>\n     <use xlink:href=\"#m6fad245b56\" x=\"235.636951\" y=\"229.255059\" style=\"fill: #0000ff; stroke: #0000ff\"/>\n     <use xlink:href=\"#m6fad245b56\" x=\"237.513591\" y=\"244.256946\" style=\"fill: #0000ff; stroke: #0000ff\"/>\n     <use xlink:href=\"#m6fad245b56\" x=\"239.390255\" y=\"246.664289\" style=\"fill: #0000ff; stroke: #0000ff\"/>\n     <use xlink:href=\"#m6fad245b56\" x=\"241.266895\" y=\"258.592197\" style=\"fill: #0000ff; stroke: #0000ff\"/>\n     <use xlink:href=\"#m6fad245b56\" x=\"243.143558\" y=\"270.748676\" style=\"fill: #0000ff; stroke: #0000ff\"/>\n     <use xlink:href=\"#m6fad245b56\" x=\"245.020198\" y=\"211.712065\" style=\"fill: #0000ff; stroke: #0000ff\"/>\n     <use xlink:href=\"#m6fad245b56\" x=\"246.896838\" y=\"228.188534\" style=\"fill: #0000ff; stroke: #0000ff\"/>\n     <use xlink:href=\"#m6fad245b56\" x=\"248.773502\" y=\"252.590428\" style=\"fill: #0000ff; stroke: #0000ff\"/>\n     <use xlink:href=\"#m6fad245b56\" x=\"250.650142\" y=\"234.628973\" style=\"fill: #0000ff; stroke: #0000ff\"/>\n     <use xlink:href=\"#m6fad245b56\" x=\"252.526782\" y=\"233.242193\" style=\"fill: #0000ff; stroke: #0000ff\"/>\n     <use xlink:href=\"#m6fad245b56\" x=\"254.403446\" y=\"271.257171\" style=\"fill: #0000ff; stroke: #0000ff\"/>\n     <use xlink:href=\"#m6fad245b56\" x=\"256.280086\" y=\"235.63129\" style=\"fill: #0000ff; stroke: #0000ff\"/>\n     <use xlink:href=\"#m6fad245b56\" x=\"258.156726\" y=\"201.670884\" style=\"fill: #0000ff; stroke: #0000ff\"/>\n     <use xlink:href=\"#m6fad245b56\" x=\"260.03339\" y=\"223.444809\" style=\"fill: #0000ff; stroke: #0000ff\"/>\n     <use xlink:href=\"#m6fad245b56\" x=\"261.910029\" y=\"251.873747\" style=\"fill: #0000ff; stroke: #0000ff\"/>\n     <use xlink:href=\"#m6fad245b56\" x=\"263.786693\" y=\"196.851332\" style=\"fill: #0000ff; stroke: #0000ff\"/>\n     <use xlink:href=\"#m6fad245b56\" x=\"265.663333\" y=\"233.710188\" style=\"fill: #0000ff; stroke: #0000ff\"/>\n     <use xlink:href=\"#m6fad245b56\" x=\"267.539973\" y=\"277.646948\" style=\"fill: #0000ff; stroke: #0000ff\"/>\n     <use xlink:href=\"#m6fad245b56\" x=\"269.416637\" y=\"233.517701\" style=\"fill: #0000ff; stroke: #0000ff\"/>\n     <use xlink:href=\"#m6fad245b56\" x=\"271.293277\" y=\"219.198295\" style=\"fill: #0000ff; stroke: #0000ff\"/>\n     <use xlink:href=\"#m6fad245b56\" x=\"273.169917\" y=\"222.933681\" style=\"fill: #0000ff; stroke: #0000ff\"/>\n     <use xlink:href=\"#m6fad245b56\" x=\"275.046581\" y=\"203.007242\" style=\"fill: #0000ff; stroke: #0000ff\"/>\n     <use xlink:href=\"#m6fad245b56\" x=\"276.923221\" y=\"161.770728\" style=\"fill: #0000ff; stroke: #0000ff\"/>\n     <use xlink:href=\"#m6fad245b56\" x=\"278.799885\" y=\"194.286953\" style=\"fill: #0000ff; stroke: #0000ff\"/>\n     <use xlink:href=\"#m6fad245b56\" x=\"280.676524\" y=\"238.070256\" style=\"fill: #0000ff; stroke: #0000ff\"/>\n     <use xlink:href=\"#m6fad245b56\" x=\"282.553164\" y=\"241.167049\" style=\"fill: #0000ff; stroke: #0000ff\"/>\n     <use xlink:href=\"#m6fad245b56\" x=\"284.429828\" y=\"225.021851\" style=\"fill: #0000ff; stroke: #0000ff\"/>\n     <use xlink:href=\"#m6fad245b56\" x=\"286.306468\" y=\"206.778413\" style=\"fill: #0000ff; stroke: #0000ff\"/>\n     <use xlink:href=\"#m6fad245b56\" x=\"288.183108\" y=\"204.357772\" style=\"fill: #0000ff; stroke: #0000ff\"/>\n     <use xlink:href=\"#m6fad245b56\" x=\"290.059772\" y=\"207.335526\" style=\"fill: #0000ff; stroke: #0000ff\"/>\n     <use xlink:href=\"#m6fad245b56\" x=\"291.936412\" y=\"220.099708\" style=\"fill: #0000ff; stroke: #0000ff\"/>\n     <use xlink:href=\"#m6fad245b56\" x=\"293.813076\" y=\"210.382436\" style=\"fill: #0000ff; stroke: #0000ff\"/>\n     <use xlink:href=\"#m6fad245b56\" x=\"295.689716\" y=\"223.317447\" style=\"fill: #0000ff; stroke: #0000ff\"/>\n     <use xlink:href=\"#m6fad245b56\" x=\"297.566356\" y=\"215.163539\" style=\"fill: #0000ff; stroke: #0000ff\"/>\n     <use xlink:href=\"#m6fad245b56\" x=\"299.443019\" y=\"234.136709\" style=\"fill: #0000ff; stroke: #0000ff\"/>\n     <use xlink:href=\"#m6fad245b56\" x=\"301.319659\" y=\"201.511665\" style=\"fill: #0000ff; stroke: #0000ff\"/>\n     <use xlink:href=\"#m6fad245b56\" x=\"303.196299\" y=\"196.018784\" style=\"fill: #0000ff; stroke: #0000ff\"/>\n     <use xlink:href=\"#m6fad245b56\" x=\"305.072963\" y=\"194.721324\" style=\"fill: #0000ff; stroke: #0000ff\"/>\n     <use xlink:href=\"#m6fad245b56\" x=\"306.949603\" y=\"226.575452\" style=\"fill: #0000ff; stroke: #0000ff\"/>\n     <use xlink:href=\"#m6fad245b56\" x=\"308.826267\" y=\"166.079886\" style=\"fill: #0000ff; stroke: #0000ff\"/>\n     <use xlink:href=\"#m6fad245b56\" x=\"310.702907\" y=\"196.320001\" style=\"fill: #0000ff; stroke: #0000ff\"/>\n     <use xlink:href=\"#m6fad245b56\" x=\"312.579547\" y=\"175.165492\" style=\"fill: #0000ff; stroke: #0000ff\"/>\n     <use xlink:href=\"#m6fad245b56\" x=\"314.456211\" y=\"170.979985\" style=\"fill: #0000ff; stroke: #0000ff\"/>\n     <use xlink:href=\"#m6fad245b56\" x=\"316.332851\" y=\"224.061052\" style=\"fill: #0000ff; stroke: #0000ff\"/>\n     <use xlink:href=\"#m6fad245b56\" x=\"318.20949\" y=\"227.518689\" style=\"fill: #0000ff; stroke: #0000ff\"/>\n     <use xlink:href=\"#m6fad245b56\" x=\"320.086154\" y=\"238.515706\" style=\"fill: #0000ff; stroke: #0000ff\"/>\n     <use xlink:href=\"#m6fad245b56\" x=\"321.962794\" y=\"179.969919\" style=\"fill: #0000ff; stroke: #0000ff\"/>\n     <use xlink:href=\"#m6fad245b56\" x=\"323.839458\" y=\"200.104245\" style=\"fill: #0000ff; stroke: #0000ff\"/>\n     <use xlink:href=\"#m6fad245b56\" x=\"325.716098\" y=\"165.735397\" style=\"fill: #0000ff; stroke: #0000ff\"/>\n     <use xlink:href=\"#m6fad245b56\" x=\"327.592738\" y=\"203.449921\" style=\"fill: #0000ff; stroke: #0000ff\"/>\n     <use xlink:href=\"#m6fad245b56\" x=\"329.469402\" y=\"184.737593\" style=\"fill: #0000ff; stroke: #0000ff\"/>\n     <use xlink:href=\"#m6fad245b56\" x=\"331.346042\" y=\"182.395594\" style=\"fill: #0000ff; stroke: #0000ff\"/>\n     <use xlink:href=\"#m6fad245b56\" x=\"333.222682\" y=\"208.286874\" style=\"fill: #0000ff; stroke: #0000ff\"/>\n     <use xlink:href=\"#m6fad245b56\" x=\"335.099346\" y=\"189.338708\" style=\"fill: #0000ff; stroke: #0000ff\"/>\n     <use xlink:href=\"#m6fad245b56\" x=\"336.975985\" y=\"172.889862\" style=\"fill: #0000ff; stroke: #0000ff\"/>\n     <use xlink:href=\"#m6fad245b56\" x=\"338.852649\" y=\"191.985774\" style=\"fill: #0000ff; stroke: #0000ff\"/>\n     <use xlink:href=\"#m6fad245b56\" x=\"340.729289\" y=\"213.407266\" style=\"fill: #0000ff; stroke: #0000ff\"/>\n     <use xlink:href=\"#m6fad245b56\" x=\"342.605929\" y=\"178.796584\" style=\"fill: #0000ff; stroke: #0000ff\"/>\n     <use xlink:href=\"#m6fad245b56\" x=\"344.482593\" y=\"189.409021\" style=\"fill: #0000ff; stroke: #0000ff\"/>\n     <use xlink:href=\"#m6fad245b56\" x=\"346.359233\" y=\"177.190086\" style=\"fill: #0000ff; stroke: #0000ff\"/>\n     <use xlink:href=\"#m6fad245b56\" x=\"348.235873\" y=\"152.618556\" style=\"fill: #0000ff; stroke: #0000ff\"/>\n     <use xlink:href=\"#m6fad245b56\" x=\"350.112537\" y=\"175.412992\" style=\"fill: #0000ff; stroke: #0000ff\"/>\n     <use xlink:href=\"#m6fad245b56\" x=\"351.989177\" y=\"164.714617\" style=\"fill: #0000ff; stroke: #0000ff\"/>\n     <use xlink:href=\"#m6fad245b56\" x=\"353.865817\" y=\"198.87397\" style=\"fill: #0000ff; stroke: #0000ff\"/>\n     <use xlink:href=\"#m6fad245b56\" x=\"355.74248\" y=\"192.099706\" style=\"fill: #0000ff; stroke: #0000ff\"/>\n     <use xlink:href=\"#m6fad245b56\" x=\"357.61912\" y=\"168.185465\" style=\"fill: #0000ff; stroke: #0000ff\"/>\n     <use xlink:href=\"#m6fad245b56\" x=\"359.495784\" y=\"212.572316\" style=\"fill: #0000ff; stroke: #0000ff\"/>\n     <use xlink:href=\"#m6fad245b56\" x=\"361.372424\" y=\"159.729597\" style=\"fill: #0000ff; stroke: #0000ff\"/>\n     <use xlink:href=\"#m6fad245b56\" x=\"363.249064\" y=\"200.038611\" style=\"fill: #0000ff; stroke: #0000ff\"/>\n     <use xlink:href=\"#m6fad245b56\" x=\"365.125728\" y=\"148.119421\" style=\"fill: #0000ff; stroke: #0000ff\"/>\n     <use xlink:href=\"#m6fad245b56\" x=\"367.002368\" y=\"213.784586\" style=\"fill: #0000ff; stroke: #0000ff\"/>\n     <use xlink:href=\"#m6fad245b56\" x=\"368.879008\" y=\"184.111601\" style=\"fill: #0000ff; stroke: #0000ff\"/>\n     <use xlink:href=\"#m6fad245b56\" x=\"370.755672\" y=\"152.148422\" style=\"fill: #0000ff; stroke: #0000ff\"/>\n     <use xlink:href=\"#m6fad245b56\" x=\"372.632312\" y=\"119.941271\" style=\"fill: #0000ff; stroke: #0000ff\"/>\n     <use xlink:href=\"#m6fad245b56\" x=\"374.508975\" y=\"156.951496\" style=\"fill: #0000ff; stroke: #0000ff\"/>\n     <use xlink:href=\"#m6fad245b56\" x=\"376.385615\" y=\"127.231268\" style=\"fill: #0000ff; stroke: #0000ff\"/>\n     <use xlink:href=\"#m6fad245b56\" x=\"378.262255\" y=\"156.125895\" style=\"fill: #0000ff; stroke: #0000ff\"/>\n     <use xlink:href=\"#m6fad245b56\" x=\"380.138919\" y=\"164.546326\" style=\"fill: #0000ff; stroke: #0000ff\"/>\n     <use xlink:href=\"#m6fad245b56\" x=\"382.015559\" y=\"181.794497\" style=\"fill: #0000ff; stroke: #0000ff\"/>\n     <use xlink:href=\"#m6fad245b56\" x=\"383.892199\" y=\"154.295432\" style=\"fill: #0000ff; stroke: #0000ff\"/>\n     <use xlink:href=\"#m6fad245b56\" x=\"385.768863\" y=\"124.007636\" style=\"fill: #0000ff; stroke: #0000ff\"/>\n     <use xlink:href=\"#m6fad245b56\" x=\"387.645503\" y=\"134.847588\" style=\"fill: #0000ff; stroke: #0000ff\"/>\n     <use xlink:href=\"#m6fad245b56\" x=\"389.522167\" y=\"154.283639\" style=\"fill: #0000ff; stroke: #0000ff\"/>\n     <use xlink:href=\"#m6fad245b56\" x=\"391.398807\" y=\"187.170638\" style=\"fill: #0000ff; stroke: #0000ff\"/>\n     <use xlink:href=\"#m6fad245b56\" x=\"393.275446\" y=\"125.244459\" style=\"fill: #0000ff; stroke: #0000ff\"/>\n     <use xlink:href=\"#m6fad245b56\" x=\"395.15211\" y=\"145.061643\" style=\"fill: #0000ff; stroke: #0000ff\"/>\n     <use xlink:href=\"#m6fad245b56\" x=\"397.02875\" y=\"136.398666\" style=\"fill: #0000ff; stroke: #0000ff\"/>\n     <use xlink:href=\"#m6fad245b56\" x=\"398.90539\" y=\"112.482344\" style=\"fill: #0000ff; stroke: #0000ff\"/>\n     <use xlink:href=\"#m6fad245b56\" x=\"400.782054\" y=\"117.218459\" style=\"fill: #0000ff; stroke: #0000ff\"/>\n     <use xlink:href=\"#m6fad245b56\" x=\"402.658694\" y=\"128.898002\" style=\"fill: #0000ff; stroke: #0000ff\"/>\n     <use xlink:href=\"#m6fad245b56\" x=\"404.535358\" y=\"135.564851\" style=\"fill: #0000ff; stroke: #0000ff\"/>\n     <use xlink:href=\"#m6fad245b56\" x=\"406.411998\" y=\"141.736184\" style=\"fill: #0000ff; stroke: #0000ff\"/>\n     <use xlink:href=\"#m6fad245b56\" x=\"408.288638\" y=\"115.415277\" style=\"fill: #0000ff; stroke: #0000ff\"/>\n     <use xlink:href=\"#m6fad245b56\" x=\"410.165302\" y=\"137.044926\" style=\"fill: #0000ff; stroke: #0000ff\"/>\n     <use xlink:href=\"#m6fad245b56\" x=\"412.041941\" y=\"88.981885\" style=\"fill: #0000ff; stroke: #0000ff\"/>\n     <use xlink:href=\"#m6fad245b56\" x=\"413.918581\" y=\"97.714817\" style=\"fill: #0000ff; stroke: #0000ff\"/>\n     <use xlink:href=\"#m6fad245b56\" x=\"415.795245\" y=\"132.985021\" style=\"fill: #0000ff; stroke: #0000ff\"/>\n     <use xlink:href=\"#m6fad245b56\" x=\"417.671885\" y=\"112.906806\" style=\"fill: #0000ff; stroke: #0000ff\"/>\n     <use xlink:href=\"#m6fad245b56\" x=\"419.548549\" y=\"107.825946\" style=\"fill: #0000ff; stroke: #0000ff\"/>\n     <use xlink:href=\"#m6fad245b56\" x=\"421.425189\" y=\"146.093641\" style=\"fill: #0000ff; stroke: #0000ff\"/>\n     <use xlink:href=\"#m6fad245b56\" x=\"423.301829\" y=\"126.484287\" style=\"fill: #0000ff; stroke: #0000ff\"/>\n     <use xlink:href=\"#m6fad245b56\" x=\"425.178493\" y=\"135.241336\" style=\"fill: #0000ff; stroke: #0000ff\"/>\n     <use xlink:href=\"#m6fad245b56\" x=\"427.055133\" y=\"89.683834\" style=\"fill: #0000ff; stroke: #0000ff\"/>\n     <use xlink:href=\"#m6fad245b56\" x=\"428.931773\" y=\"78.48752\" style=\"fill: #0000ff; stroke: #0000ff\"/>\n     <use xlink:href=\"#m6fad245b56\" x=\"430.808436\" y=\"119.29197\" style=\"fill: #0000ff; stroke: #0000ff\"/>\n     <use xlink:href=\"#m6fad245b56\" x=\"432.685076\" y=\"135.025918\" style=\"fill: #0000ff; stroke: #0000ff\"/>\n     <use xlink:href=\"#m6fad245b56\" x=\"434.56174\" y=\"109.669621\" style=\"fill: #0000ff; stroke: #0000ff\"/>\n     <use xlink:href=\"#m6fad245b56\" x=\"436.43838\" y=\"142.444164\" style=\"fill: #0000ff; stroke: #0000ff\"/>\n     <use xlink:href=\"#m6fad245b56\" x=\"438.31502\" y=\"127.014301\" style=\"fill: #0000ff; stroke: #0000ff\"/>\n     <use xlink:href=\"#m6fad245b56\" x=\"440.191684\" y=\"122.464394\" style=\"fill: #0000ff; stroke: #0000ff\"/>\n     <use xlink:href=\"#m6fad245b56\" x=\"442.068324\" y=\"121.891938\" style=\"fill: #0000ff; stroke: #0000ff\"/>\n     <use xlink:href=\"#m6fad245b56\" x=\"443.944964\" y=\"142.36673\" style=\"fill: #0000ff; stroke: #0000ff\"/>\n     <use xlink:href=\"#m6fad245b56\" x=\"445.821628\" y=\"133.003244\" style=\"fill: #0000ff; stroke: #0000ff\"/>\n     <use xlink:href=\"#m6fad245b56\" x=\"447.698268\" y=\"121.826871\" style=\"fill: #0000ff; stroke: #0000ff\"/>\n     <use xlink:href=\"#m6fad245b56\" x=\"449.574907\" y=\"118.052376\" style=\"fill: #0000ff; stroke: #0000ff\"/>\n     <use xlink:href=\"#m6fad245b56\" x=\"451.451571\" y=\"107.61736\" style=\"fill: #0000ff; stroke: #0000ff\"/>\n     <use xlink:href=\"#m6fad245b56\" x=\"453.328211\" y=\"115.826928\" style=\"fill: #0000ff; stroke: #0000ff\"/>\n     <use xlink:href=\"#m6fad245b56\" x=\"455.204875\" y=\"126.502765\" style=\"fill: #0000ff; stroke: #0000ff\"/>\n     <use xlink:href=\"#m6fad245b56\" x=\"457.081515\" y=\"111.60237\" style=\"fill: #0000ff; stroke: #0000ff\"/>\n     <use xlink:href=\"#m6fad245b56\" x=\"458.958155\" y=\"123.58775\" style=\"fill: #0000ff; stroke: #0000ff\"/>\n     <use xlink:href=\"#m6fad245b56\" x=\"460.834819\" y=\"103.86458\" style=\"fill: #0000ff; stroke: #0000ff\"/>\n     <use xlink:href=\"#m6fad245b56\" x=\"462.711459\" y=\"103.441638\" style=\"fill: #0000ff; stroke: #0000ff\"/>\n     <use xlink:href=\"#m6fad245b56\" x=\"464.588099\" y=\"111.905996\" style=\"fill: #0000ff; stroke: #0000ff\"/>\n     <use xlink:href=\"#m6fad245b56\" x=\"466.464763\" y=\"113.439781\" style=\"fill: #0000ff; stroke: #0000ff\"/>\n     <use xlink:href=\"#m6fad245b56\" x=\"468.341402\" y=\"83.468793\" style=\"fill: #0000ff; stroke: #0000ff\"/>\n     <use xlink:href=\"#m6fad245b56\" x=\"470.218066\" y=\"86.893235\" style=\"fill: #0000ff; stroke: #0000ff\"/>\n     <use xlink:href=\"#m6fad245b56\" x=\"472.094706\" y=\"116.303049\" style=\"fill: #0000ff; stroke: #0000ff\"/>\n     <use xlink:href=\"#m6fad245b56\" x=\"473.971346\" y=\"101.296164\" style=\"fill: #0000ff; stroke: #0000ff\"/>\n     <use xlink:href=\"#m6fad245b56\" x=\"475.84801\" y=\"132.671319\" style=\"fill: #0000ff; stroke: #0000ff\"/>\n     <use xlink:href=\"#m6fad245b56\" x=\"477.72465\" y=\"109.606533\" style=\"fill: #0000ff; stroke: #0000ff\"/>\n     <use xlink:href=\"#m6fad245b56\" x=\"479.60129\" y=\"109.784092\" style=\"fill: #0000ff; stroke: #0000ff\"/>\n     <use xlink:href=\"#m6fad245b56\" x=\"481.477954\" y=\"86.258047\" style=\"fill: #0000ff; stroke: #0000ff\"/>\n     <use xlink:href=\"#m6fad245b56\" x=\"483.354594\" y=\"115.514776\" style=\"fill: #0000ff; stroke: #0000ff\"/>\n     <use xlink:href=\"#m6fad245b56\" x=\"485.231258\" y=\"89.227508\" style=\"fill: #0000ff; stroke: #0000ff\"/>\n     <use xlink:href=\"#m6fad245b56\" x=\"487.107897\" y=\"63.897793\" style=\"fill: #0000ff; stroke: #0000ff\"/>\n     <use xlink:href=\"#m6fad245b56\" x=\"488.984537\" y=\"85.512521\" style=\"fill: #0000ff; stroke: #0000ff\"/>\n     <use xlink:href=\"#m6fad245b56\" x=\"490.861201\" y=\"85.377819\" style=\"fill: #0000ff; stroke: #0000ff\"/>\n     <use xlink:href=\"#m6fad245b56\" x=\"492.737841\" y=\"93.576256\" style=\"fill: #0000ff; stroke: #0000ff\"/>\n     <use xlink:href=\"#m6fad245b56\" x=\"494.614481\" y=\"96.459494\" style=\"fill: #0000ff; stroke: #0000ff\"/>\n     <use xlink:href=\"#m6fad245b56\" x=\"496.491145\" y=\"125.296846\" style=\"fill: #0000ff; stroke: #0000ff\"/>\n     <use xlink:href=\"#m6fad245b56\" x=\"498.367785\" y=\"115.340825\" style=\"fill: #0000ff; stroke: #0000ff\"/>\n     <use xlink:href=\"#m6fad245b56\" x=\"500.244449\" y=\"78.895767\" style=\"fill: #0000ff; stroke: #0000ff\"/>\n     <use xlink:href=\"#m6fad245b56\" x=\"502.121089\" y=\"81.204243\" style=\"fill: #0000ff; stroke: #0000ff\"/>\n     <use xlink:href=\"#m6fad245b56\" x=\"503.997729\" y=\"86.702945\" style=\"fill: #0000ff; stroke: #0000ff\"/>\n     <use xlink:href=\"#m6fad245b56\" x=\"505.874392\" y=\"86.7426\" style=\"fill: #0000ff; stroke: #0000ff\"/>\n     <use xlink:href=\"#m6fad245b56\" x=\"507.751032\" y=\"39.47267\" style=\"fill: #0000ff; stroke: #0000ff\"/>\n     <use xlink:href=\"#m6fad245b56\" x=\"509.627672\" y=\"82.910807\" style=\"fill: #0000ff; stroke: #0000ff\"/>\n     <use xlink:href=\"#m6fad245b56\" x=\"511.504336\" y=\"65.735015\" style=\"fill: #0000ff; stroke: #0000ff\"/>\n     <use xlink:href=\"#m6fad245b56\" x=\"513.380976\" y=\"67.322467\" style=\"fill: #0000ff; stroke: #0000ff\"/>\n     <use xlink:href=\"#m6fad245b56\" x=\"515.25764\" y=\"57.397859\" style=\"fill: #0000ff; stroke: #0000ff\"/>\n     <use xlink:href=\"#m6fad245b56\" x=\"517.13428\" y=\"74.840299\" style=\"fill: #0000ff; stroke: #0000ff\"/>\n     <use xlink:href=\"#m6fad245b56\" x=\"519.01092\" y=\"59.555287\" style=\"fill: #0000ff; stroke: #0000ff\"/>\n     <use xlink:href=\"#m6fad245b56\" x=\"520.887584\" y=\"72.575058\" style=\"fill: #0000ff; stroke: #0000ff\"/>\n     <use xlink:href=\"#m6fad245b56\" x=\"522.764224\" y=\"46.065556\" style=\"fill: #0000ff; stroke: #0000ff\"/>\n     <use xlink:href=\"#m6fad245b56\" x=\"524.640864\" y=\"72.472722\" style=\"fill: #0000ff; stroke: #0000ff\"/>\n     <use xlink:href=\"#m6fad245b56\" x=\"526.517527\" y=\"100.113874\" style=\"fill: #0000ff; stroke: #0000ff\"/>\n     <use xlink:href=\"#m6fad245b56\" x=\"528.394167\" y=\"53.364501\" style=\"fill: #0000ff; stroke: #0000ff\"/>\n     <use xlink:href=\"#m6fad245b56\" x=\"530.270831\" y=\"59.974242\" style=\"fill: #0000ff; stroke: #0000ff\"/>\n     <use xlink:href=\"#m6fad245b56\" x=\"532.147471\" y=\"63.70503\" style=\"fill: #0000ff; stroke: #0000ff\"/>\n     <use xlink:href=\"#m6fad245b56\" x=\"534.024111\" y=\"113.787194\" style=\"fill: #0000ff; stroke: #0000ff\"/>\n     <use xlink:href=\"#m6fad245b56\" x=\"535.900775\" y=\"72.406578\" style=\"fill: #0000ff; stroke: #0000ff\"/>\n     <use xlink:href=\"#m6fad245b56\" x=\"537.777415\" y=\"101.340403\" style=\"fill: #0000ff; stroke: #0000ff\"/>\n    </g>\n   </g>\n   <g id=\"patch_3\">\n    <path d=\"M 35.304688 399.718125 \nL 35.304688 22.318125 \n\" style=\"fill: none; stroke: #000000; stroke-width: 0.8; stroke-linejoin: miter; stroke-linecap: square\"/>\n   </g>\n   <g id=\"patch_4\">\n    <path d=\"M 561.704687 399.718125 \nL 561.704687 22.318125 \n\" style=\"fill: none; stroke: #000000; stroke-width: 0.8; stroke-linejoin: miter; stroke-linecap: square\"/>\n   </g>\n   <g id=\"patch_5\">\n    <path d=\"M 35.304688 399.718125 \nL 561.704687 399.718125 \n\" style=\"fill: none; stroke: #000000; stroke-width: 0.8; stroke-linejoin: miter; stroke-linecap: square\"/>\n   </g>\n   <g id=\"patch_6\">\n    <path d=\"M 35.304688 22.318125 \nL 561.704687 22.318125 \n\" style=\"fill: none; stroke: #000000; stroke-width: 0.8; stroke-linejoin: miter; stroke-linecap: square\"/>\n   </g>\n   <g id=\"text_15\">\n    <!-- data points -->\n    <g transform=\"translate(264.655312 16.318125)scale(0.12 -0.12)\">\n     <defs>\n      <path id=\"DejaVuSans-64\" d=\"M 2906 2969 \nL 2906 4863 \nL 3481 4863 \nL 3481 0 \nL 2906 0 \nL 2906 525 \nQ 2725 213 2448 61 \nQ 2172 -91 1784 -91 \nQ 1150 -91 751 415 \nQ 353 922 353 1747 \nQ 353 2572 751 3078 \nQ 1150 3584 1784 3584 \nQ 2172 3584 2448 3432 \nQ 2725 3281 2906 2969 \nz\nM 947 1747 \nQ 947 1113 1208 752 \nQ 1469 391 1925 391 \nQ 2381 391 2643 752 \nQ 2906 1113 2906 1747 \nQ 2906 2381 2643 2742 \nQ 2381 3103 1925 3103 \nQ 1469 3103 1208 2742 \nQ 947 2381 947 1747 \nz\n\" transform=\"scale(0.015625)\"/>\n      <path id=\"DejaVuSans-61\" d=\"M 2194 1759 \nQ 1497 1759 1228 1600 \nQ 959 1441 959 1056 \nQ 959 750 1161 570 \nQ 1363 391 1709 391 \nQ 2188 391 2477 730 \nQ 2766 1069 2766 1631 \nL 2766 1759 \nL 2194 1759 \nz\nM 3341 1997 \nL 3341 0 \nL 2766 0 \nL 2766 531 \nQ 2569 213 2275 61 \nQ 1981 -91 1556 -91 \nQ 1019 -91 701 211 \nQ 384 513 384 1019 \nQ 384 1609 779 1909 \nQ 1175 2209 1959 2209 \nL 2766 2209 \nL 2766 2266 \nQ 2766 2663 2505 2880 \nQ 2244 3097 1772 3097 \nQ 1472 3097 1187 3025 \nQ 903 2953 641 2809 \nL 641 3341 \nQ 956 3463 1253 3523 \nQ 1550 3584 1831 3584 \nQ 2591 3584 2966 3190 \nQ 3341 2797 3341 1997 \nz\n\" transform=\"scale(0.015625)\"/>\n      <path id=\"DejaVuSans-74\" d=\"M 1172 4494 \nL 1172 3500 \nL 2356 3500 \nL 2356 3053 \nL 1172 3053 \nL 1172 1153 \nQ 1172 725 1289 603 \nQ 1406 481 1766 481 \nL 2356 481 \nL 2356 0 \nL 1766 0 \nQ 1100 0 847 248 \nQ 594 497 594 1153 \nL 594 3053 \nL 172 3053 \nL 172 3500 \nL 594 3500 \nL 594 4494 \nL 1172 4494 \nz\n\" transform=\"scale(0.015625)\"/>\n      <path id=\"DejaVuSans-20\" transform=\"scale(0.015625)\"/>\n      <path id=\"DejaVuSans-70\" d=\"M 1159 525 \nL 1159 -1331 \nL 581 -1331 \nL 581 3500 \nL 1159 3500 \nL 1159 2969 \nQ 1341 3281 1617 3432 \nQ 1894 3584 2278 3584 \nQ 2916 3584 3314 3078 \nQ 3713 2572 3713 1747 \nQ 3713 922 3314 415 \nQ 2916 -91 2278 -91 \nQ 1894 -91 1617 61 \nQ 1341 213 1159 525 \nz\nM 3116 1747 \nQ 3116 2381 2855 2742 \nQ 2594 3103 2138 3103 \nQ 1681 3103 1420 2742 \nQ 1159 2381 1159 1747 \nQ 1159 1113 1420 752 \nQ 1681 391 2138 391 \nQ 2594 391 2855 752 \nQ 3116 1113 3116 1747 \nz\n\" transform=\"scale(0.015625)\"/>\n      <path id=\"DejaVuSans-6f\" d=\"M 1959 3097 \nQ 1497 3097 1228 2736 \nQ 959 2375 959 1747 \nQ 959 1119 1226 758 \nQ 1494 397 1959 397 \nQ 2419 397 2687 759 \nQ 2956 1122 2956 1747 \nQ 2956 2369 2687 2733 \nQ 2419 3097 1959 3097 \nz\nM 1959 3584 \nQ 2709 3584 3137 3096 \nQ 3566 2609 3566 1747 \nQ 3566 888 3137 398 \nQ 2709 -91 1959 -91 \nQ 1206 -91 779 398 \nQ 353 888 353 1747 \nQ 353 2609 779 3096 \nQ 1206 3584 1959 3584 \nz\n\" transform=\"scale(0.015625)\"/>\n      <path id=\"DejaVuSans-69\" d=\"M 603 3500 \nL 1178 3500 \nL 1178 0 \nL 603 0 \nL 603 3500 \nz\nM 603 4863 \nL 1178 4863 \nL 1178 4134 \nL 603 4134 \nL 603 4863 \nz\n\" transform=\"scale(0.015625)\"/>\n      <path id=\"DejaVuSans-6e\" d=\"M 3513 2113 \nL 3513 0 \nL 2938 0 \nL 2938 2094 \nQ 2938 2591 2744 2837 \nQ 2550 3084 2163 3084 \nQ 1697 3084 1428 2787 \nQ 1159 2491 1159 1978 \nL 1159 0 \nL 581 0 \nL 581 3500 \nL 1159 3500 \nL 1159 2956 \nQ 1366 3272 1645 3428 \nQ 1925 3584 2291 3584 \nQ 2894 3584 3203 3211 \nQ 3513 2838 3513 2113 \nz\n\" transform=\"scale(0.015625)\"/>\n      <path id=\"DejaVuSans-73\" d=\"M 2834 3397 \nL 2834 2853 \nQ 2591 2978 2328 3040 \nQ 2066 3103 1784 3103 \nQ 1356 3103 1142 2972 \nQ 928 2841 928 2578 \nQ 928 2378 1081 2264 \nQ 1234 2150 1697 2047 \nL 1894 2003 \nQ 2506 1872 2764 1633 \nQ 3022 1394 3022 966 \nQ 3022 478 2636 193 \nQ 2250 -91 1575 -91 \nQ 1294 -91 989 -36 \nQ 684 19 347 128 \nL 347 722 \nQ 666 556 975 473 \nQ 1284 391 1588 391 \nQ 1994 391 2212 530 \nQ 2431 669 2431 922 \nQ 2431 1156 2273 1281 \nQ 2116 1406 1581 1522 \nL 1381 1569 \nQ 847 1681 609 1914 \nQ 372 2147 372 2553 \nQ 372 3047 722 3315 \nQ 1072 3584 1716 3584 \nQ 2034 3584 2315 3537 \nQ 2597 3491 2834 3397 \nz\n\" transform=\"scale(0.015625)\"/>\n     </defs>\n     <use xlink:href=\"#DejaVuSans-64\"/>\n     <use xlink:href=\"#DejaVuSans-61\" x=\"63.476562\"/>\n     <use xlink:href=\"#DejaVuSans-74\" x=\"124.755859\"/>\n     <use xlink:href=\"#DejaVuSans-61\" x=\"163.964844\"/>\n     <use xlink:href=\"#DejaVuSans-20\" x=\"225.244141\"/>\n     <use xlink:href=\"#DejaVuSans-70\" x=\"257.03125\"/>\n     <use xlink:href=\"#DejaVuSans-6f\" x=\"320.507812\"/>\n     <use xlink:href=\"#DejaVuSans-69\" x=\"381.689453\"/>\n     <use xlink:href=\"#DejaVuSans-6e\" x=\"409.472656\"/>\n     <use xlink:href=\"#DejaVuSans-74\" x=\"472.851562\"/>\n     <use xlink:href=\"#DejaVuSans-73\" x=\"512.060547\"/>\n    </g>\n   </g>\n  </g>\n </g>\n <defs>\n  <clipPath id=\"p22d144e4aa\">\n   <rect x=\"35.304688\" y=\"22.318125\" width=\"526.4\" height=\"377.4\"/>\n  </clipPath>\n </defs>\n</svg>\n",
      "image/png": "[encoded data removed]"
     },
     "metadata": {
      "needs_background": "light"
     }
    }
   ],
   "source": [
    "filename    = 'assignment_06_data.csv'\n",
    "data        = np.loadtxt(filename, delimiter = ',')\n",
    "\n",
    "x           = data[0, :]    # independent variable\n",
    "y           = data[1, :]    # dependent variable\n",
    "\n",
    "plt.figure(figsize=(8,6))\n",
    "\n",
    "plt.plot(x, y, '.', color = 'blue')\n",
    "plt.title('data points')\n",
    "\n",
    "plt.tight_layout()\n",
    "plt.show()"
   ]
  },
  {
   "cell_type": "markdown",
   "metadata": {},
   "source": [
    "## compute the residual"
   ]
  },
  {
   "cell_type": "code",
   "execution_count": 6,
   "metadata": {},
   "outputs": [],
   "source": [
    "def compute_residual(x, y, theta0, theta1):\n",
    "\n",
    "    n           = len(x)\n",
    "    residual    = np.zeros(n)\n",
    "\n",
    "    # ++++++++++++++++++++++++++++++++++++++++++++++++++\n",
    "    # complete the blanks\n",
    "    #\n",
    "    \n",
    "    residual = (theta0  + theta1 * x) - y\n",
    "    \n",
    "    #\n",
    "    # ++++++++++++++++++++++++++++++++++++++++++++++++++\n",
    "\n",
    "    return residual\n",
    "#print(compute_residual(x, y, 1, 2))"
   ]
  },
  {
   "cell_type": "markdown",
   "metadata": {},
   "source": [
    "## compute the loss\n",
    "- useful functions: `np.inner`"
   ]
  },
  {
   "cell_type": "code",
   "execution_count": 16,
   "metadata": {},
   "outputs": [
    {
     "output_type": "stream",
     "name": "stdout",
     "text": [
      "7.026788785443059\n"
     ]
    }
   ],
   "source": [
    "def compute_loss(x, y, theta0, theta1):\n",
    "    \n",
    "    n           = len(x)\n",
    "    loss        = 0\n",
    "\n",
    "    # ++++++++++++++++++++++++++++++++++++++++++++++++++\n",
    "    # complete the blanks\n",
    "    #\n",
    "    \n",
    "    residual = compute_residual(x, y, theta0, theta1)\n",
    "\n",
    "    loss = np.inner(residual, residual) / (2 * n)\n",
    "    #\n",
    "    # ++++++++++++++++++++++++++++++++++++++++++++++++++\n",
    "    \n",
    "    return loss\n",
    "print(compute_loss(x,y,1,2))"
   ]
  },
  {
   "cell_type": "markdown",
   "metadata": {},
   "source": [
    "## compute the gradient with respect to $\\theta_0$\n",
    "- useful functions: `np.inner`"
   ]
  },
  {
   "cell_type": "code",
   "execution_count": 18,
   "metadata": {},
   "outputs": [
    {
     "output_type": "stream",
     "name": "stdout",
     "text": [
      "-2.2317336953125\n"
     ]
    }
   ],
   "source": [
    "def compute_gradient_theta0(x, y, theta0, theta1):\n",
    "\n",
    "    n           = len(x)\n",
    "    derivative  = 0\n",
    "\n",
    "    # ++++++++++++++++++++++++++++++++++++++++++++++++++\n",
    "    # complete the blanks\n",
    "    # 1/2n * {2(theta0 + theta1 + x - y) + 2() + ...}\n",
    "    # 1/n (r1 .... rn)\n",
    "    residual = compute_residual(x,y, theta0,theta1)\n",
    "    derivative = np.inner(residual, np.ones(n)) / n\n",
    "    \n",
    "    #\n",
    "    # ++++++++++++++++++++++++++++++++++++++++++++++++++\n",
    "    \n",
    "    return derivative\n",
    "print(compute_gradient_theta0(x,y,1,2))"
   ]
  },
  {
   "cell_type": "markdown",
   "metadata": {},
   "source": [
    "## compute the gradient with respect to $\\theta_1$\n",
    "- useful functions: `np.inner`"
   ]
  },
  {
   "cell_type": "code",
   "execution_count": 20,
   "metadata": {},
   "outputs": [
    {
     "output_type": "stream",
     "name": "stdout",
     "text": [
      "0.4056814307959996\n"
     ]
    }
   ],
   "source": [
    "def compute_gradient_theta1(x, y, theta0, theta1):\n",
    "\n",
    "    n           = len(x)\n",
    "    derivative  = 0\n",
    "\n",
    "    # ++++++++++++++++++++++++++++++++++++++++++++++++++\n",
    "    # complete the blanks\n",
    "    #\n",
    "    \n",
    "    residual = compute_residual(x,y, theta0,theta1)\n",
    "    derivative = np.inner(residual, x) / n\n",
    "    \n",
    "    \n",
    "    #\n",
    "    # ++++++++++++++++++++++++++++++++++++++++++++++++++\n",
    "\n",
    "    return derivative\n",
    "print(compute_gradient_theta1(x,y,1,2))"
   ]
  },
  {
   "cell_type": "markdown",
   "metadata": {},
   "source": [
    "## gradient descent for the optimization "
   ]
  },
  {
   "cell_type": "code",
   "execution_count": 22,
   "metadata": {},
   "outputs": [],
   "source": [
    "number_iteration    = 500\n",
    "learning_rate       = 0.01\n",
    "\n",
    "theta0              = 0\n",
    "theta1              = 0\n",
    "\n",
    "list_theta0         = np.zeros(number_iteration)\n",
    "list_theta1         = np.zeros(number_iteration)\n",
    "list_loss           = np.zeros(number_iteration)\n",
    "\n",
    "for i in range(number_iteration):\n",
    "\n",
    "    # ++++++++++++++++++++++++++++++++++++++++++++++++++\n",
    "    # complete the blanks\n",
    "    #\n",
    "    theta0  = theta0 - learning_rate * compute_gradient_theta0(x, y, theta0, theta1)\n",
    "    theta1  = theta1 - learning_rate * compute_gradient_theta1(x ,y, theta0, theta1)\n",
    "    loss    = compute_loss(x, y, theta0, theta1)\n",
    "    #\n",
    "    # ++++++++++++++++++++++++++++++++++++++++++++++++++\n",
    "\n",
    "    list_theta0[i]  = theta0\n",
    "    list_theta1[i]  = theta1\n",
    "    list_loss[i]    = loss"
   ]
  },
  {
   "cell_type": "markdown",
   "metadata": {},
   "source": [
    "___"
   ]
  },
  {
   "cell_type": "markdown",
   "metadata": {},
   "source": [
    "___"
   ]
  },
  {
   "cell_type": "markdown",
   "metadata": {},
   "source": [
    "## functions for presenting the results"
   ]
  },
  {
   "cell_type": "markdown",
   "metadata": {},
   "source": [
    "___"
   ]
  },
  {
   "cell_type": "markdown",
   "metadata": {},
   "source": [
    "___"
   ]
  },
  {
   "cell_type": "code",
   "execution_count": null,
   "metadata": {},
   "outputs": [],
   "source": [
    "def function_result_01():\n",
    "    \n",
    "    plt.figure(figsize=(8,6))\n",
    "    plt.plot(x, y, '.', color='blue')\n",
    "    plt.title('data points')\n",
    "    plt.show()"
   ]
  },
  {
   "cell_type": "code",
   "execution_count": null,
   "metadata": {},
   "outputs": [],
   "source": [
    "def function_result_02():\n",
    "\n",
    "    plt.figure(figsize=(8,6))\n",
    "    ax = plt.gca()\n",
    "    plt.plot(list_theta0, '-', color='blue', label=r'$\\theta_0$')\n",
    "    plt.plot(list_theta1, '-', color='red', label=r'$\\theta_1$')\n",
    "    plt.title('model parameters')\n",
    "    ax.legend()\n",
    "    plt.show()"
   ]
  },
  {
   "cell_type": "code",
   "execution_count": null,
   "metadata": {},
   "outputs": [],
   "source": [
    "def function_result_03():\n",
    "\n",
    "    plt.figure(figsize=(8,6))\n",
    "    plt.plot(list_loss, '-', color='blue')\n",
    "    plt.title('loss curve')\n",
    "    plt.show()"
   ]
  },
  {
   "cell_type": "code",
   "execution_count": null,
   "metadata": {},
   "outputs": [],
   "source": [
    "def function_result_04():\n",
    "\n",
    "    f = theta0 + theta1 * x\n",
    "\n",
    "    plt.figure(figsize=(8,6))\n",
    "    ax = plt.gca()\n",
    "    plt.plot(x, y, '.', color='blue', label='data point')\n",
    "    plt.plot(x, f, '-', color='red', label='regression')\n",
    "    plt.title('regression')\n",
    "    ax.legend()\n",
    "    plt.show()"
   ]
  },
  {
   "cell_type": "code",
   "execution_count": null,
   "metadata": {},
   "outputs": [],
   "source": [
    "def function_result_05():\n",
    "\n",
    "    X0  = np.arange(-10, 10, 0.1)\n",
    "    X1  = np.arange(-10, 10, 0.1)\n",
    "\n",
    "    grid_theta0, grid_theta1 = np.meshgrid(X0, X1)\n",
    "\n",
    "    grid_loss   = np.zeros(grid_theta0.shape)\n",
    "\n",
    "    for i, t0 in enumerate(X0):\n",
    "        for j, t1 in enumerate(X1):\n",
    "\n",
    "            grid_loss[j, i] = compute_loss(x, y, t0, t1)\n",
    "\n",
    "    fig = plt.figure(figsize=(8,6))\n",
    "\n",
    "    ax  = fig.add_subplot(111, projection='3d')\n",
    "    plt.title('loss surface')\n",
    "\n",
    "    ax  = plt.axes(projection='3d')\n",
    "\n",
    "    ax.set_xlabel(r'$\\theta_0$')\n",
    "    ax.set_ylabel(r'$\\theta_1$')\n",
    "    ax.set_zlabel('loss')\n",
    "\n",
    "    ax.plot_surface(grid_theta0, grid_theta1, grid_loss, rstride=1, cstride=1, cmap='viridis', edgecolor='none')\n",
    "\n",
    "    plt.tight_layout()\n",
    "    plt.show()\n",
    "    "
   ]
  },
  {
   "cell_type": "markdown",
   "metadata": {},
   "source": [
    "___"
   ]
  },
  {
   "cell_type": "markdown",
   "metadata": {},
   "source": [
    "___"
   ]
  },
  {
   "cell_type": "markdown",
   "metadata": {},
   "source": [
    "# results"
   ]
  },
  {
   "cell_type": "markdown",
   "metadata": {},
   "source": [
    "___"
   ]
  },
  {
   "cell_type": "markdown",
   "metadata": {},
   "source": [
    "___"
   ]
  },
  {
   "cell_type": "code",
   "execution_count": null,
   "metadata": {},
   "outputs": [],
   "source": [
    "number_result = 5\n",
    "\n",
    "for i in range(number_result):\n",
    "    title = '## [RESULT {:02d}]'.format(i+1)\n",
    "    name_function = 'function_result_{:02d}()'.format(i+1)\n",
    "\n",
    "    print('**************************************************')\n",
    "    print(title)\n",
    "    print('**************************************************')\n",
    "    eval(name_function)"
   ]
  },
  {
   "cell_type": "code",
   "execution_count": null,
   "metadata": {},
   "outputs": [],
   "source": []
  }
 ],
 "metadata": {
  "kernelspec": {
   "display_name": "Python 3 (ipykernel)",
   "language": "python",
   "name": "python3"
  },
  "language_info": {
   "codemirror_mode": {
    "name": "ipython",
    "version": 3
   },
   "file_extension": ".py",
   "mimetype": "text/x-python",
   "name": "python",
   "nbconvert_exporter": "python",
   "pygments_lexer": "ipython3",
   "version": "3.9.10-final"
  }
 },
 "nbformat": 4,
 "nbformat_minor": 2
}